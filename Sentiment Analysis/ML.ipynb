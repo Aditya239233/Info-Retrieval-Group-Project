{
  "nbformat": 4,
  "nbformat_minor": 0,
  "metadata": {
    "colab": {
      "name": "Copy of IR ML model",
      "provenance": [],
      "collapsed_sections": []
    },
    "kernelspec": {
      "name": "python3",
      "display_name": "Python 3"
    },
    "language_info": {
      "name": "python"
    }
  },
  "cells": [
    {
      "cell_type": "code",
      "metadata": {
        "id": "Syb7Jak28gJv"
      },
      "source": [
        "import pandas as pd\n",
        "raw_df = pd.read_csv('train_unbalanced.csv')\n",
        "data = pd.read_csv('test_main.csv')\n",
        "raw_df.head()"
      ],
      "execution_count": null,
      "outputs": []
    },
    {
      "cell_type": "code",
      "metadata": {
        "id": "r9CgR8m68k3f"
      },
      "source": [
        "print(raw_df.shape)\n",
        "df = raw_df[['content', 'Pro Trump', 'Pro Biden', 'Neutral']]\n",
        "df = df[df['Pro Biden'].notna()]\n",
        "df = df[df['content'].notna()]\n",
        "df = df[df['Pro Trump'].notna()]\n",
        "df = df[df['Neutral'].notna()]\n",
        "print(df.shape)\n",
        "df = df.astype({\"Pro Trump\": int, \"Pro Biden\": int, \"Neutral\": int})\n",
        "df.drop_duplicates(subset='content', keep='first', inplace=True)\n",
        "print(df.shape)\n",
        "df.head()"
      ],
      "execution_count": null,
      "outputs": []
    },
    {
      "cell_type": "code",
      "metadata": {
        "id": "NCnPmsfx8uII"
      },
      "source": [
        "cols = df.columns\n",
        "df = df[:1000]\n",
        "label_cols = list(cols[1:])\n",
        "num_labels = len(label_cols)\n",
        "print('Label columns: ', label_cols)"
      ],
      "execution_count": null,
      "outputs": []
    },
    {
      "cell_type": "code",
      "metadata": {
        "id": "2R0VdBXS9OjH"
      },
      "source": [
        "print('Count of 1 per label: \\n', df[label_cols].sum(), '\\n') # Label counts, may need to downsample or upsample\n",
        "print('Count of 0 per label: \\n', df[label_cols].eq(0).sum())"
      ],
      "execution_count": null,
      "outputs": []
    },
    {
      "cell_type": "code",
      "metadata": {
        "id": "ElJDfhaF9R4s"
      },
      "source": [
        "df = df.sample(frac=1).reset_index(drop=True) #shuffle rows"
      ],
      "execution_count": null,
      "outputs": []
    },
    {
      "cell_type": "code",
      "metadata": {
        "id": "5Y4CoSrN9iCt"
      },
      "source": [
        "from sklearn.feature_extraction.text import CountVectorizer\n",
        "from nltk.tokenize import RegexpTokenizer\n",
        "\n",
        "token = RegexpTokenizer(r'[a-zA-Z0-9]+')\n",
        "cv = CountVectorizer(lowercase=True,stop_words='english',ngram_range = (1,1),tokenizer = token.tokenize)"
      ],
      "execution_count": null,
      "outputs": []
    },
    {
      "cell_type": "code",
      "metadata": {
        "id": "4rKGHHfE_a-O"
      },
      "source": [
        "from sklearn.model_selection import train_test_split\n",
        "train_df = df.copy()\n",
        "count = len(train_df)\n",
        "text = cv.fit_transform(pd.concat([train_df['content'], data['content']], axis=0))\n",
        "train_text, test_text = text[:count], text[count:]"
      ],
      "execution_count": null,
      "outputs": []
    },
    {
      "cell_type": "code",
      "metadata": {
        "id": "zI64NIVL-Nmp"
      },
      "source": [
        "from sklearn.ensemble import RandomForestClassifier, BaggingClassifier, ExtraTreesClassifier\n",
        "from sklearn.multioutput import MultiOutputClassifier\n",
        "from sklearn.naive_bayes import GaussianNB, MultinomialNB\n",
        "\n",
        "model = ExtraTreesClassifier(n_estimators=100, random_state=1)\n",
        "# model = MultinomialNB()\n",
        "classifier = MultiOutputClassifier(model, n_jobs=-1)\n",
        "# classifier.fit(train_text.toarray(), train_df[label_cols][:1000])\n",
        "#  Below one for Tree algo\n",
        "classifier.fit(train_text, train_df[label_cols][:])"
      ],
      "execution_count": null,
      "outputs": []
    },
    {
      "cell_type": "code",
      "metadata": {
        "id": "GMK3EwwjAHM_"
      },
      "source": [
        "from sklearn import metrics\n",
        "predicted = classifier.predict(train_text.toarray())\n",
        "#  Below one for Tree algo\n",
        "# predicted = classifier.predict(train_text)\n",
        "print(\"Test Accuracy:\",metrics.accuracy_score(train_df[label_cols][:1000].values, predicted))"
      ],
      "execution_count": null,
      "outputs": []
    },
    {
      "cell_type": "code",
      "metadata": {
        "id": "SyBodFyIBuHd"
      },
      "source": [
        "predicted= classifier.predict(test_text.toarray())\n",
        "from sklearn.metrics import average_precision_score, accuracy_score\n",
        "from sklearn.metrics import recall_score, precision_score, f1_score\n",
        "from sklearn.metrics import plot_confusion_matrix, confusion_matrix\n",
        "print('F1 score: ', f1_score(data[label_cols], predicted,average='micro'))\n",
        "print('Accuracy: ', accuracy_score(data[label_cols], predicted))\n",
        "print('Precision: ', precision_score(data[label_cols], predicted, average='micro'))\n",
        "print('Recall: ', recall_score(data[label_cols], predicted, average='micro'))"
      ],
      "execution_count": null,
      "outputs": []
    },
    {
      "cell_type": "code",
      "metadata": {
        "id": "Wqy2XK49pH2e"
      },
      "source": [
        "from matplotlib import pyplot as plt\n",
        "import numpy as np\n",
        "import seaborn as sns\n",
        "true_bools1 = np.array(data[label_cols])\n",
        "pred_bools1 = np.array(predicted)\n",
        "cm = confusion_matrix(true_bools1.argmax(axis=1), pred_bools1.argmax(axis=1))\n",
        "ax= plt.subplot()\n",
        "sns.heatmap(cm, annot=True, ax = ax, cmap='Blues', fmt=\"d\")\n",
        "\n",
        "ax.set_title('Confusion Matrix')\n",
        "\n",
        "ax.set_xlabel('Predicted Labels')\n",
        "ax.set_ylabel('True Labels')\n",
        "\n",
        "ax.xaxis.set_ticklabels(['Pro Trump', 'Pro Biden', 'Neutral'])\n",
        "ax.yaxis.set_ticklabels(['Pro Trump', 'Pro Biden', 'Neutral'])"
      ],
      "execution_count": null,
      "outputs": []
    },
    {
      "cell_type": "code",
      "metadata": {
        "id": "vsPrnhtKpbxh"
      },
      "source": [
        ""
      ],
      "execution_count": null,
      "outputs": []
    }
  ]
}