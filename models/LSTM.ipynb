{
 "cells": [
  {
   "cell_type": "code",
   "execution_count": 205,
   "metadata": {
    "gradient": {}
   },
   "outputs": [],
   "source": [
    "# Import required libraries\n",
    "import numpy as np\n",
    "import pandas as pd"
   ]
  },
  {
   "cell_type": "code",
   "execution_count": 206,
   "metadata": {
    "gradient": {}
   },
   "outputs": [
    {
     "name": "stdout",
     "output_type": "stream",
     "text": [
      "Requirement already satisfied: fastbook in /opt/conda/envs/fastai/lib/python3.8/site-packages (0.0.14)\n",
      "Requirement already satisfied: pip in /opt/conda/envs/fastai/lib/python3.8/site-packages (from fastbook) (20.2.4)\n",
      "Requirement already satisfied: ipywidgets in /opt/conda/envs/fastai/lib/python3.8/site-packages (from fastbook) (7.5.1)\n",
      "Requirement already satisfied: pandas in /opt/conda/envs/fastai/lib/python3.8/site-packages (from fastbook) (1.1.4)\n",
      "Requirement already satisfied: nbdev>=0.2.38 in /opt/conda/envs/fastai/lib/python3.8/site-packages (from fastbook) (1.1.5)\n",
      "Requirement already satisfied: fastai>=2.1 in /opt/conda/envs/fastai/lib/python3.8/site-packages (from fastbook) (2.1.5)\n",
      "Requirement already satisfied: packaging in /opt/conda/envs/fastai/lib/python3.8/site-packages (from fastbook) (20.4)\n",
      "Requirement already satisfied: azure-cognitiveservices-search-imagesearch in /opt/conda/envs/fastai/lib/python3.8/site-packages (from fastbook) (2.0.0)\n",
      "Requirement already satisfied: sentencepiece in /opt/conda/envs/fastai/lib/python3.8/site-packages (from fastbook) (0.1.94)\n",
      "Requirement already satisfied: ipykernel>=4.5.1 in /opt/conda/envs/fastai/lib/python3.8/site-packages (from ipywidgets->fastbook) (5.3.4)\n",
      "Requirement already satisfied: widgetsnbextension~=3.5.0 in /opt/conda/envs/fastai/lib/python3.8/site-packages (from ipywidgets->fastbook) (3.5.1)\n",
      "Requirement already satisfied: ipython>=4.0.0; python_version >= \"3.3\" in /opt/conda/envs/fastai/lib/python3.8/site-packages (from ipywidgets->fastbook) (7.19.0)\n",
      "Requirement already satisfied: nbformat>=4.2.0 in /opt/conda/envs/fastai/lib/python3.8/site-packages (from ipywidgets->fastbook) (5.0.8)\n",
      "Requirement already satisfied: traitlets>=4.3.1 in /opt/conda/envs/fastai/lib/python3.8/site-packages (from ipywidgets->fastbook) (5.0.5)\n",
      "Requirement already satisfied: python-dateutil>=2.7.3 in /opt/conda/envs/fastai/lib/python3.8/site-packages (from pandas->fastbook) (2.8.1)\n",
      "Requirement already satisfied: pytz>=2017.2 in /opt/conda/envs/fastai/lib/python3.8/site-packages (from pandas->fastbook) (2020.4)\n",
      "Requirement already satisfied: numpy>=1.15.4 in /opt/conda/envs/fastai/lib/python3.8/site-packages (from pandas->fastbook) (1.19.4)\n",
      "Requirement already satisfied: jupyter-client in /opt/conda/envs/fastai/lib/python3.8/site-packages (from nbdev>=0.2.38->fastbook) (6.1.7)\n",
      "Requirement already satisfied: pyyaml in /opt/conda/envs/fastai/lib/python3.8/site-packages (from nbdev>=0.2.38->fastbook) (5.3.1)\n",
      "Requirement already satisfied: fastcore>=1.3.1 in /opt/conda/envs/fastai/lib/python3.8/site-packages (from nbdev>=0.2.38->fastbook) (1.3.6)\n",
      "Requirement already satisfied: nbconvert<6 in /opt/conda/envs/fastai/lib/python3.8/site-packages (from nbdev>=0.2.38->fastbook) (5.6.1)\n",
      "Requirement already satisfied: fastprogress>=0.2.4 in /opt/conda/envs/fastai/lib/python3.8/site-packages (from fastai>=2.1->fastbook) (1.0.0)\n",
      "Requirement already satisfied: scikit-learn in /opt/conda/envs/fastai/lib/python3.8/site-packages (from fastai>=2.1->fastbook) (0.23.2)\n",
      "Requirement already satisfied: requests in /opt/conda/envs/fastai/lib/python3.8/site-packages (from fastai>=2.1->fastbook) (2.25.0)\n",
      "Requirement already satisfied: matplotlib in /opt/conda/envs/fastai/lib/python3.8/site-packages (from fastai>=2.1->fastbook) (3.3.3)\n",
      "Requirement already satisfied: scipy in /opt/conda/envs/fastai/lib/python3.8/site-packages (from fastai>=2.1->fastbook) (1.5.3)\n",
      "Requirement already satisfied: torch>=1.7.0 in /opt/conda/envs/fastai/lib/python3.8/site-packages (from fastai>=2.1->fastbook) (1.7.0)\n",
      "Requirement already satisfied: spacy in /opt/conda/envs/fastai/lib/python3.8/site-packages (from fastai>=2.1->fastbook) (2.3.2)\n",
      "Requirement already satisfied: pillow in /opt/conda/envs/fastai/lib/python3.8/site-packages (from fastai>=2.1->fastbook) (8.0.1)\n",
      "Requirement already satisfied: torchvision>=0.8 in /opt/conda/envs/fastai/lib/python3.8/site-packages (from fastai>=2.1->fastbook) (0.8.1)\n",
      "Requirement already satisfied: pyparsing>=2.0.2 in /opt/conda/envs/fastai/lib/python3.8/site-packages (from packaging->fastbook) (2.4.7)\n",
      "Requirement already satisfied: six in /opt/conda/envs/fastai/lib/python3.8/site-packages (from packaging->fastbook) (1.15.0)\n",
      "Requirement already satisfied: azure-common~=1.1 in /opt/conda/envs/fastai/lib/python3.8/site-packages (from azure-cognitiveservices-search-imagesearch->fastbook) (1.1.26)\n",
      "Requirement already satisfied: msrest>=0.5.0 in /opt/conda/envs/fastai/lib/python3.8/site-packages (from azure-cognitiveservices-search-imagesearch->fastbook) (0.6.19)\n",
      "Requirement already satisfied: msrestazure<2.0.0,>=0.4.32 in /opt/conda/envs/fastai/lib/python3.8/site-packages (from azure-cognitiveservices-search-imagesearch->fastbook) (0.6.4)\n",
      "Requirement already satisfied: tornado>=4.2 in /opt/conda/envs/fastai/lib/python3.8/site-packages (from ipykernel>=4.5.1->ipywidgets->fastbook) (6.1)\n",
      "Requirement already satisfied: notebook>=4.4.1 in /opt/conda/envs/fastai/lib/python3.8/site-packages (from widgetsnbextension~=3.5.0->ipywidgets->fastbook) (6.1.5)\n",
      "Requirement already satisfied: pickleshare in /opt/conda/envs/fastai/lib/python3.8/site-packages (from ipython>=4.0.0; python_version >= \"3.3\"->ipywidgets->fastbook) (0.7.5)\n",
      "Requirement already satisfied: prompt-toolkit!=3.0.0,!=3.0.1,<3.1.0,>=2.0.0 in /opt/conda/envs/fastai/lib/python3.8/site-packages (from ipython>=4.0.0; python_version >= \"3.3\"->ipywidgets->fastbook) (3.0.8)\n",
      "Requirement already satisfied: backcall in /opt/conda/envs/fastai/lib/python3.8/site-packages (from ipython>=4.0.0; python_version >= \"3.3\"->ipywidgets->fastbook) (0.2.0)\n",
      "Requirement already satisfied: setuptools>=18.5 in /opt/conda/envs/fastai/lib/python3.8/site-packages (from ipython>=4.0.0; python_version >= \"3.3\"->ipywidgets->fastbook) (49.6.0.post20201009)\n",
      "Requirement already satisfied: pygments in /opt/conda/envs/fastai/lib/python3.8/site-packages (from ipython>=4.0.0; python_version >= \"3.3\"->ipywidgets->fastbook) (2.7.2)\n",
      "Requirement already satisfied: jedi>=0.10 in /opt/conda/envs/fastai/lib/python3.8/site-packages (from ipython>=4.0.0; python_version >= \"3.3\"->ipywidgets->fastbook) (0.17.2)\n",
      "Requirement already satisfied: pexpect>4.3; sys_platform != \"win32\" in /opt/conda/envs/fastai/lib/python3.8/site-packages (from ipython>=4.0.0; python_version >= \"3.3\"->ipywidgets->fastbook) (4.8.0)\n",
      "Requirement already satisfied: decorator in /opt/conda/envs/fastai/lib/python3.8/site-packages (from ipython>=4.0.0; python_version >= \"3.3\"->ipywidgets->fastbook) (4.4.2)\n",
      "Requirement already satisfied: jupyter-core in /opt/conda/envs/fastai/lib/python3.8/site-packages (from nbformat>=4.2.0->ipywidgets->fastbook) (4.7.0)\n",
      "Requirement already satisfied: jsonschema!=2.5.0,>=2.4 in /opt/conda/envs/fastai/lib/python3.8/site-packages (from nbformat>=4.2.0->ipywidgets->fastbook) (3.2.0)\n",
      "Requirement already satisfied: ipython-genutils in /opt/conda/envs/fastai/lib/python3.8/site-packages (from nbformat>=4.2.0->ipywidgets->fastbook) (0.2.0)\n",
      "Requirement already satisfied: pyzmq>=13 in /opt/conda/envs/fastai/lib/python3.8/site-packages (from jupyter-client->nbdev>=0.2.38->fastbook) (20.0.0)\n",
      "Requirement already satisfied: defusedxml in /opt/conda/envs/fastai/lib/python3.8/site-packages (from nbconvert<6->nbdev>=0.2.38->fastbook) (0.6.0)\n",
      "Requirement already satisfied: pandocfilters>=1.4.1 in /opt/conda/envs/fastai/lib/python3.8/site-packages (from nbconvert<6->nbdev>=0.2.38->fastbook) (1.4.2)\n",
      "Requirement already satisfied: jinja2>=2.4 in /opt/conda/envs/fastai/lib/python3.8/site-packages (from nbconvert<6->nbdev>=0.2.38->fastbook) (2.11.2)\n",
      "Requirement already satisfied: bleach in /opt/conda/envs/fastai/lib/python3.8/site-packages (from nbconvert<6->nbdev>=0.2.38->fastbook) (3.2.1)\n",
      "Requirement already satisfied: mistune<2,>=0.8.1 in /opt/conda/envs/fastai/lib/python3.8/site-packages (from nbconvert<6->nbdev>=0.2.38->fastbook) (0.8.4)\n",
      "Requirement already satisfied: entrypoints>=0.2.2 in /opt/conda/envs/fastai/lib/python3.8/site-packages (from nbconvert<6->nbdev>=0.2.38->fastbook) (0.3)\n",
      "Requirement already satisfied: testpath in /opt/conda/envs/fastai/lib/python3.8/site-packages (from nbconvert<6->nbdev>=0.2.38->fastbook) (0.4.4)\n",
      "Requirement already satisfied: threadpoolctl>=2.0.0 in /opt/conda/envs/fastai/lib/python3.8/site-packages (from scikit-learn->fastai>=2.1->fastbook) (2.1.0)\n",
      "Requirement already satisfied: joblib>=0.11 in /opt/conda/envs/fastai/lib/python3.8/site-packages (from scikit-learn->fastai>=2.1->fastbook) (0.17.0)\n",
      "Requirement already satisfied: chardet<4,>=3.0.2 in /opt/conda/envs/fastai/lib/python3.8/site-packages (from requests->fastai>=2.1->fastbook) (3.0.4)\n",
      "Requirement already satisfied: idna<3,>=2.5 in /opt/conda/envs/fastai/lib/python3.8/site-packages (from requests->fastai>=2.1->fastbook) (2.10)\n",
      "Requirement already satisfied: certifi>=2017.4.17 in /opt/conda/envs/fastai/lib/python3.8/site-packages (from requests->fastai>=2.1->fastbook) (2020.11.8)\n",
      "Requirement already satisfied: urllib3<1.27,>=1.21.1 in /opt/conda/envs/fastai/lib/python3.8/site-packages (from requests->fastai>=2.1->fastbook) (1.25.11)\n",
      "Requirement already satisfied: kiwisolver>=1.0.1 in /opt/conda/envs/fastai/lib/python3.8/site-packages (from matplotlib->fastai>=2.1->fastbook) (1.3.1)\n",
      "Requirement already satisfied: cycler>=0.10 in /opt/conda/envs/fastai/lib/python3.8/site-packages (from matplotlib->fastai>=2.1->fastbook) (0.10.0)\n",
      "Requirement already satisfied: future in /opt/conda/envs/fastai/lib/python3.8/site-packages (from torch>=1.7.0->fastai>=2.1->fastbook) (0.18.2)\n",
      "Requirement already satisfied: typing_extensions in /opt/conda/envs/fastai/lib/python3.8/site-packages (from torch>=1.7.0->fastai>=2.1->fastbook) (3.7.4.3)\n",
      "Requirement already satisfied: dataclasses in /opt/conda/envs/fastai/lib/python3.8/site-packages (from torch>=1.7.0->fastai>=2.1->fastbook) (0.6)\n",
      "Requirement already satisfied: murmurhash<1.1.0,>=0.28.0 in /opt/conda/envs/fastai/lib/python3.8/site-packages (from spacy->fastai>=2.1->fastbook) (1.0.4)\n",
      "Requirement already satisfied: cymem<2.1.0,>=2.0.2 in /opt/conda/envs/fastai/lib/python3.8/site-packages (from spacy->fastai>=2.1->fastbook) (2.0.4)\n",
      "Requirement already satisfied: tqdm<5.0.0,>=4.38.0 in /opt/conda/envs/fastai/lib/python3.8/site-packages (from spacy->fastai>=2.1->fastbook) (4.52.0)\n",
      "Requirement already satisfied: wasabi<1.1.0,>=0.4.0 in /opt/conda/envs/fastai/lib/python3.8/site-packages (from spacy->fastai>=2.1->fastbook) (0.8.0)\n",
      "Requirement already satisfied: preshed<3.1.0,>=3.0.2 in /opt/conda/envs/fastai/lib/python3.8/site-packages (from spacy->fastai>=2.1->fastbook) (3.0.4)\n",
      "Requirement already satisfied: srsly<1.1.0,>=1.0.2 in /opt/conda/envs/fastai/lib/python3.8/site-packages (from spacy->fastai>=2.1->fastbook) (1.0.4)\n",
      "Requirement already satisfied: blis<0.5.0,>=0.4.0 in /opt/conda/envs/fastai/lib/python3.8/site-packages (from spacy->fastai>=2.1->fastbook) (0.4.1)\n",
      "Requirement already satisfied: catalogue<1.1.0,>=0.0.7 in /opt/conda/envs/fastai/lib/python3.8/site-packages (from spacy->fastai>=2.1->fastbook) (1.0.0)\n",
      "Requirement already satisfied: plac<1.2.0,>=0.9.6 in /opt/conda/envs/fastai/lib/python3.8/site-packages (from spacy->fastai>=2.1->fastbook) (0.9.6)\n",
      "Requirement already satisfied: thinc==7.4.1 in /opt/conda/envs/fastai/lib/python3.8/site-packages (from spacy->fastai>=2.1->fastbook) (7.4.1)\n",
      "Requirement already satisfied: requests-oauthlib>=0.5.0 in /opt/conda/envs/fastai/lib/python3.8/site-packages (from msrest>=0.5.0->azure-cognitiveservices-search-imagesearch->fastbook) (1.3.0)\n",
      "Requirement already satisfied: isodate>=0.6.0 in /opt/conda/envs/fastai/lib/python3.8/site-packages (from msrest>=0.5.0->azure-cognitiveservices-search-imagesearch->fastbook) (0.6.0)\n",
      "Requirement already satisfied: adal<2.0.0,>=0.6.0 in /opt/conda/envs/fastai/lib/python3.8/site-packages (from msrestazure<2.0.0,>=0.4.32->azure-cognitiveservices-search-imagesearch->fastbook) (1.2.5)\n",
      "Requirement already satisfied: prometheus-client in /opt/conda/envs/fastai/lib/python3.8/site-packages (from notebook>=4.4.1->widgetsnbextension~=3.5.0->ipywidgets->fastbook) (0.9.0)\n",
      "Requirement already satisfied: argon2-cffi in /opt/conda/envs/fastai/lib/python3.8/site-packages (from notebook>=4.4.1->widgetsnbextension~=3.5.0->ipywidgets->fastbook) (20.1.0)\n",
      "Requirement already satisfied: Send2Trash in /opt/conda/envs/fastai/lib/python3.8/site-packages (from notebook>=4.4.1->widgetsnbextension~=3.5.0->ipywidgets->fastbook) (1.5.0)\n",
      "Requirement already satisfied: terminado>=0.8.3 in /opt/conda/envs/fastai/lib/python3.8/site-packages (from notebook>=4.4.1->widgetsnbextension~=3.5.0->ipywidgets->fastbook) (0.9.1)\n",
      "Requirement already satisfied: wcwidth in /opt/conda/envs/fastai/lib/python3.8/site-packages (from prompt-toolkit!=3.0.0,!=3.0.1,<3.1.0,>=2.0.0->ipython>=4.0.0; python_version >= \"3.3\"->ipywidgets->fastbook) (0.2.5)\n",
      "Requirement already satisfied: parso<0.8.0,>=0.7.0 in /opt/conda/envs/fastai/lib/python3.8/site-packages (from jedi>=0.10->ipython>=4.0.0; python_version >= \"3.3\"->ipywidgets->fastbook) (0.7.1)\n",
      "Requirement already satisfied: ptyprocess>=0.5 in /opt/conda/envs/fastai/lib/python3.8/site-packages (from pexpect>4.3; sys_platform != \"win32\"->ipython>=4.0.0; python_version >= \"3.3\"->ipywidgets->fastbook) (0.6.0)\n",
      "Requirement already satisfied: attrs>=17.4.0 in /opt/conda/envs/fastai/lib/python3.8/site-packages (from jsonschema!=2.5.0,>=2.4->nbformat>=4.2.0->ipywidgets->fastbook) (20.3.0)\n",
      "Requirement already satisfied: pyrsistent>=0.14.0 in /opt/conda/envs/fastai/lib/python3.8/site-packages (from jsonschema!=2.5.0,>=2.4->nbformat>=4.2.0->ipywidgets->fastbook) (0.17.3)\n",
      "Requirement already satisfied: MarkupSafe>=0.23 in /opt/conda/envs/fastai/lib/python3.8/site-packages (from jinja2>=2.4->nbconvert<6->nbdev>=0.2.38->fastbook) (1.1.1)\n",
      "Requirement already satisfied: webencodings in /opt/conda/envs/fastai/lib/python3.8/site-packages (from bleach->nbconvert<6->nbdev>=0.2.38->fastbook) (0.5.1)\n",
      "Requirement already satisfied: oauthlib>=3.0.0 in /opt/conda/envs/fastai/lib/python3.8/site-packages (from requests-oauthlib>=0.5.0->msrest>=0.5.0->azure-cognitiveservices-search-imagesearch->fastbook) (3.1.0)\n",
      "Requirement already satisfied: cryptography>=1.1.0 in /opt/conda/envs/fastai/lib/python3.8/site-packages (from adal<2.0.0,>=0.6.0->msrestazure<2.0.0,>=0.4.32->azure-cognitiveservices-search-imagesearch->fastbook) (3.2.1)\n",
      "Requirement already satisfied: PyJWT>=1.0.0 in /opt/conda/envs/fastai/lib/python3.8/site-packages (from adal<2.0.0,>=0.6.0->msrestazure<2.0.0,>=0.4.32->azure-cognitiveservices-search-imagesearch->fastbook) (1.7.1)\n",
      "Requirement already satisfied: cffi>=1.0.0 in /opt/conda/envs/fastai/lib/python3.8/site-packages (from argon2-cffi->notebook>=4.4.1->widgetsnbextension~=3.5.0->ipywidgets->fastbook) (1.14.3)\n",
      "Requirement already satisfied: pycparser in /opt/conda/envs/fastai/lib/python3.8/site-packages (from cffi>=1.0.0->argon2-cffi->notebook>=4.4.1->widgetsnbextension~=3.5.0->ipywidgets->fastbook) (2.20)\n"
     ]
    }
   ],
   "source": [
    "# Download fastai library\n",
    "! pip install fastbook\n"
   ]
  },
  {
   "cell_type": "code",
   "execution_count": 207,
   "metadata": {},
   "outputs": [],
   "source": [
    "import fastbook"
   ]
  },
  {
   "cell_type": "code",
   "execution_count": 208,
   "metadata": {
    "gradient": {}
   },
   "outputs": [],
   "source": [
    "# Import required libraries\n",
    "from fastbook import *\n",
    "from IPython.display import display,HTML"
   ]
  },
  {
   "cell_type": "code",
   "execution_count": 209,
   "metadata": {
    "gradient": {}
   },
   "outputs": [],
   "source": [
    "# Import NLP module from fastai library\n",
    "from fastai.text.all import *"
   ]
  },
  {
   "cell_type": "code",
   "execution_count": 339,
   "metadata": {
    "gradient": {}
   },
   "outputs": [
    {
     "data": {
      "text/html": [
       "<div>\n",
       "<style scoped>\n",
       "    .dataframe tbody tr th:only-of-type {\n",
       "        vertical-align: middle;\n",
       "    }\n",
       "\n",
       "    .dataframe tbody tr th {\n",
       "        vertical-align: top;\n",
       "    }\n",
       "\n",
       "    .dataframe thead th {\n",
       "        text-align: right;\n",
       "    }\n",
       "</style>\n",
       "<table border=\"1\" class=\"dataframe\">\n",
       "  <thead>\n",
       "    <tr style=\"text-align: right;\">\n",
       "      <th></th>\n",
       "      <th>Unnamed: 0</th>\n",
       "      <th>Unnamed: 0.1</th>\n",
       "      <th>user</th>\n",
       "      <th>content</th>\n",
       "      <th>country</th>\n",
       "      <th>Pro Trump</th>\n",
       "      <th>Pro Biden</th>\n",
       "      <th>Neutral</th>\n",
       "      <th>date</th>\n",
       "      <th>replyCount</th>\n",
       "      <th>retweetCount</th>\n",
       "      <th>likeCount</th>\n",
       "      <th>one_hot_labels</th>\n",
       "      <th>classes</th>\n",
       "    </tr>\n",
       "  </thead>\n",
       "  <tbody>\n",
       "    <tr>\n",
       "      <th>0</th>\n",
       "      <td>245</td>\n",
       "      <td>245</td>\n",
       "      <td>{'username': 'mmmagis', 'displayname': 'Mikhail M.Mavlyashev', 'id': 919308076678877186, 'description': 'Негоже кочать кармушку)', 'rawDescription': 'Негоже кочать кармушку)', 'descriptionUrls': [], 'verified': False, 'created': datetime.datetime(2017, 10, 14, 21, 5, tzinfo=datetime.timezone.utc), 'followersCount': 2, 'friendsCount': 64, 'statusesCount': 228, 'favouritesCount': 131, 'listedCount': 1, 'mediaCount': 16, 'location': '', 'protected': False, 'linkUrl': None, 'linkTcourl': None, 'profileImageUrl': 'https://pbs.twimg.com/profile_images/1347701799059337216/FteK7lwg_normal.jpg', 'p...</td>\n",
       "      <td>On Trump's superiority theory: https://t.co/esMRt1OLEd</td>\n",
       "      <td>Russia</td>\n",
       "      <td>0</td>\n",
       "      <td>0</td>\n",
       "      <td>1</td>\n",
       "      <td>2020-12-14 22:52:26+00:00</td>\n",
       "      <td>0</td>\n",
       "      <td>0</td>\n",
       "      <td>0</td>\n",
       "      <td>1</td>\n",
       "      <td>Neutral</td>\n",
       "    </tr>\n",
       "    <tr>\n",
       "      <th>1</th>\n",
       "      <td>1181</td>\n",
       "      <td>1181</td>\n",
       "      <td>{'username': 'ELTUCOSITO', 'displayname': 'Michael Grippekoven', 'id': 40937878, 'description': 'Xpert B2B #marketing, CX,  #sales \\nLikes AI, Emobility, LPG +hydrogen\\nLoves #classiccars 👨\\u200d🔧+retro 🚴\\u200d♂️\\n\\n(Onions are my own ;o)', 'rawDescription': 'Xpert B2B #marketing, CX,  #sales \\nLikes AI, Emobility, LPG +hydrogen\\nLoves #classiccars 👨\\u200d🔧+retro 🚴\\u200d♂️\\n\\n(Onions are my own ;o)', 'descriptionUrls': [], 'verified': False, 'created': datetime.datetime(2009, 5, 18, 18, 50, 31, tzinfo=datetime.timezone.utc), 'followersCount': 1167, 'friendsCount': 5001, 'statusesCount': 47...</td>\n",
       "      <td>Nice day all! Whatever happens with whatever.. #No1knows Now,that #trump goes its way,#virus is to follow pretty soon,I guess And what i guess,never happens.. 🙄 Just make sure that entire flat had been painted + restored,before the virus ends. Otherwise you will never do it.. 🙂 https://t.co/OxLQZ3KgYP</td>\n",
       "      <td>Brazil</td>\n",
       "      <td>0</td>\n",
       "      <td>0</td>\n",
       "      <td>1</td>\n",
       "      <td>2020-11-18 21:40:31+00:00</td>\n",
       "      <td>0</td>\n",
       "      <td>0</td>\n",
       "      <td>0</td>\n",
       "      <td>1</td>\n",
       "      <td>Neutral</td>\n",
       "    </tr>\n",
       "    <tr>\n",
       "      <th>2</th>\n",
       "      <td>189</td>\n",
       "      <td>189</td>\n",
       "      <td>{'username': 'uzionmain', 'displayname': 'David Uzumeri', 'id': 865316879707099136, 'description': 'he/him', 'rawDescription': 'he/him', 'descriptionUrls': [], 'verified': False, 'created': datetime.datetime(2017, 5, 18, 21, 23, 15, tzinfo=datetime.timezone.utc), 'followersCount': 1693, 'friendsCount': 322, 'statusesCount': 27705, 'favouritesCount': 32747, 'listedCount': 10, 'mediaCount': 1533, 'location': 'Toronto, Ontario', 'protected': False, 'linkUrl': None, 'linkTcourl': None, 'profileImageUrl': 'https://pbs.twimg.com/profile_images/1195031032803676160/DAMQApqw_normal.jpg', 'profileBa...</td>\n",
       "      <td>Donald Trump...... what a guy</td>\n",
       "      <td>Canada</td>\n",
       "      <td>0</td>\n",
       "      <td>0</td>\n",
       "      <td>1</td>\n",
       "      <td>2020-11-10 00:35:47+00:00</td>\n",
       "      <td>0</td>\n",
       "      <td>0</td>\n",
       "      <td>2</td>\n",
       "      <td>1</td>\n",
       "      <td>Neutral</td>\n",
       "    </tr>\n",
       "    <tr>\n",
       "      <th>3</th>\n",
       "      <td>1153</td>\n",
       "      <td>1176</td>\n",
       "      <td>{'username': 'jacksina666985', 'displayname': 'Jacksina', 'id': 953615407390298112, 'description': 'GOOD OLD DAYS out now', 'rawDescription': 'GOOD OLD DAYS out now', 'descriptionUrls': [], 'verified': False, 'created': datetime.datetime(2018, 1, 17, 13, 10, 5, tzinfo=datetime.timezone.utc), 'followersCount': 17, 'friendsCount': 39, 'statusesCount': 221, 'favouritesCount': 823, 'listedCount': 0, 'mediaCount': 100, 'location': 'Islamic Republic of Iran', 'protected': False, 'linkUrl': 'https://flow.page/jacksina', 'linkTcourl': 'https://t.co/bx5PPCCG9n', 'profileImageUrl': 'https://pbs.twim...</td>\n",
       "      <td>@JoeBiden Hi Mr.president ... may I ask you sth that you can do it easily, please remove some fucking restrictions of Instagram in Iran ... we are suffocating under the pressure of fucking politicians game, the people is innocent and only sacrificing 😞😓 Tnx for ur consideration</td>\n",
       "      <td>Iran</td>\n",
       "      <td>1</td>\n",
       "      <td>0</td>\n",
       "      <td>0</td>\n",
       "      <td>2020-11-14 18:47:14+00:00</td>\n",
       "      <td>0</td>\n",
       "      <td>0</td>\n",
       "      <td>0</td>\n",
       "      <td>100</td>\n",
       "      <td>Pro_Trump</td>\n",
       "    </tr>\n",
       "    <tr>\n",
       "      <th>4</th>\n",
       "      <td>327</td>\n",
       "      <td>327</td>\n",
       "      <td>{'username': 'farida_rust', 'displayname': 'Farida_Rust', 'id': 429680502, 'description': 'Architect/ Part time Artist/                MA Architecture in University of Huddersfield, UK', 'rawDescription': 'Architect/ Part time Artist/                MA Architecture in University of Huddersfield, UK', 'descriptionUrls': [], 'verified': False, 'created': datetime.datetime(2011, 12, 6, 7, 49, 5, tzinfo=datetime.timezone.utc), 'followersCount': 91, 'friendsCount': 92, 'statusesCount': 1077, 'favouritesCount': 426, 'listedCount': 2, 'mediaCount': 72, 'location': 'Azerbaijan', 'protected': False...</td>\n",
       "      <td>@JoeBiden, urge you to respect international law. Otherwise, youâ€™re violating int. law, human rights and refugee rights. Research before you state this conflict! Those who violate int. law and support state terror cannot be selected as US president! #terrorism #USElection #biden https://t.co/Bzq8eHjMYP</td>\n",
       "      <td>Ukraine</td>\n",
       "      <td>0</td>\n",
       "      <td>0</td>\n",
       "      <td>1</td>\n",
       "      <td>2020-10-28 21:54:02+00:00</td>\n",
       "      <td>0</td>\n",
       "      <td>0</td>\n",
       "      <td>1</td>\n",
       "      <td>1</td>\n",
       "      <td>Neutral</td>\n",
       "    </tr>\n",
       "  </tbody>\n",
       "</table>\n",
       "</div>"
      ],
      "text/plain": [
       "   Unnamed: 0  Unnamed: 0.1  \\\n",
       "0         245           245   \n",
       "1        1181          1181   \n",
       "2         189           189   \n",
       "3        1153          1176   \n",
       "4         327           327   \n",
       "\n",
       "                                                                                                                                                                                                                                                                                                                                                                                                                                                                                                                                                                                                                      user  \\\n",
       "0  {'username': 'mmmagis', 'displayname': 'Mikhail M.Mavlyashev', 'id': 919308076678877186, 'description': 'Негоже кочать кармушку)', 'rawDescription': 'Негоже кочать кармушку)', 'descriptionUrls': [], 'verified': False, 'created': datetime.datetime(2017, 10, 14, 21, 5, tzinfo=datetime.timezone.utc), 'followersCount': 2, 'friendsCount': 64, 'statusesCount': 228, 'favouritesCount': 131, 'listedCount': 1, 'mediaCount': 16, 'location': '', 'protected': False, 'linkUrl': None, 'linkTcourl': None, 'profileImageUrl': 'https://pbs.twimg.com/profile_images/1347701799059337216/FteK7lwg_normal.jpg', 'p...   \n",
       "1  {'username': 'ELTUCOSITO', 'displayname': 'Michael Grippekoven', 'id': 40937878, 'description': 'Xpert B2B #marketing, CX,  #sales \\nLikes AI, Emobility, LPG +hydrogen\\nLoves #classiccars 👨\\u200d🔧+retro 🚴\\u200d♂️\\n\\n(Onions are my own ;o)', 'rawDescription': 'Xpert B2B #marketing, CX,  #sales \\nLikes AI, Emobility, LPG +hydrogen\\nLoves #classiccars 👨\\u200d🔧+retro 🚴\\u200d♂️\\n\\n(Onions are my own ;o)', 'descriptionUrls': [], 'verified': False, 'created': datetime.datetime(2009, 5, 18, 18, 50, 31, tzinfo=datetime.timezone.utc), 'followersCount': 1167, 'friendsCount': 5001, 'statusesCount': 47...   \n",
       "2  {'username': 'uzionmain', 'displayname': 'David Uzumeri', 'id': 865316879707099136, 'description': 'he/him', 'rawDescription': 'he/him', 'descriptionUrls': [], 'verified': False, 'created': datetime.datetime(2017, 5, 18, 21, 23, 15, tzinfo=datetime.timezone.utc), 'followersCount': 1693, 'friendsCount': 322, 'statusesCount': 27705, 'favouritesCount': 32747, 'listedCount': 10, 'mediaCount': 1533, 'location': 'Toronto, Ontario', 'protected': False, 'linkUrl': None, 'linkTcourl': None, 'profileImageUrl': 'https://pbs.twimg.com/profile_images/1195031032803676160/DAMQApqw_normal.jpg', 'profileBa...   \n",
       "3  {'username': 'jacksina666985', 'displayname': 'Jacksina', 'id': 953615407390298112, 'description': 'GOOD OLD DAYS out now', 'rawDescription': 'GOOD OLD DAYS out now', 'descriptionUrls': [], 'verified': False, 'created': datetime.datetime(2018, 1, 17, 13, 10, 5, tzinfo=datetime.timezone.utc), 'followersCount': 17, 'friendsCount': 39, 'statusesCount': 221, 'favouritesCount': 823, 'listedCount': 0, 'mediaCount': 100, 'location': 'Islamic Republic of Iran', 'protected': False, 'linkUrl': 'https://flow.page/jacksina', 'linkTcourl': 'https://t.co/bx5PPCCG9n', 'profileImageUrl': 'https://pbs.twim...   \n",
       "4  {'username': 'farida_rust', 'displayname': 'Farida_Rust', 'id': 429680502, 'description': 'Architect/ Part time Artist/                MA Architecture in University of Huddersfield, UK', 'rawDescription': 'Architect/ Part time Artist/                MA Architecture in University of Huddersfield, UK', 'descriptionUrls': [], 'verified': False, 'created': datetime.datetime(2011, 12, 6, 7, 49, 5, tzinfo=datetime.timezone.utc), 'followersCount': 91, 'friendsCount': 92, 'statusesCount': 1077, 'favouritesCount': 426, 'listedCount': 2, 'mediaCount': 72, 'location': 'Azerbaijan', 'protected': False...   \n",
       "\n",
       "                                                                                                                                                                                                                                                                                                             content  \\\n",
       "0                                                                                                                                                                                                                                                             On Trump's superiority theory: https://t.co/esMRt1OLEd   \n",
       "1     Nice day all! Whatever happens with whatever.. #No1knows Now,that #trump goes its way,#virus is to follow pretty soon,I guess And what i guess,never happens.. 🙄 Just make sure that entire flat had been painted + restored,before the virus ends. Otherwise you will never do it.. 🙂 https://t.co/OxLQZ3KgYP   \n",
       "2                                                                                                                                                                                                                                                                                      Donald Trump...... what a guy   \n",
       "3                             @JoeBiden Hi Mr.president ... may I ask you sth that you can do it easily, please remove some fucking restrictions of Instagram in Iran ... we are suffocating under the pressure of fucking politicians game, the people is innocent and only sacrificing 😞😓 Tnx for ur consideration   \n",
       "4  @JoeBiden, urge you to respect international law. Otherwise, youâ€™re violating int. law, human rights and refugee rights. Research before you state this conflict! Those who violate int. law and support state terror cannot be selected as US president! #terrorism #USElection #biden https://t.co/Bzq8eHjMYP   \n",
       "\n",
       "   country  Pro Trump  Pro Biden  Neutral                       date  \\\n",
       "0   Russia          0          0        1  2020-12-14 22:52:26+00:00   \n",
       "1   Brazil          0          0        1  2020-11-18 21:40:31+00:00   \n",
       "2   Canada          0          0        1  2020-11-10 00:35:47+00:00   \n",
       "3     Iran          1          0        0  2020-11-14 18:47:14+00:00   \n",
       "4  Ukraine          0          0        1  2020-10-28 21:54:02+00:00   \n",
       "\n",
       "   replyCount  retweetCount  likeCount  one_hot_labels    classes  \n",
       "0           0             0          0               1    Neutral  \n",
       "1           0             0          0               1    Neutral  \n",
       "2           0             0          2               1    Neutral  \n",
       "3           0             0          0             100  Pro_Trump  \n",
       "4           0             0          1               1    Neutral  "
      ]
     },
     "execution_count": 339,
     "metadata": {},
     "output_type": "execute_result"
    }
   ],
   "source": [
    "# Read 1/6th of the train dataset to reduce total time taken for training\n",
    "train = pd.read_csv('train.csv')\n",
    "train.head()"
   ]
  },
  {
   "cell_type": "code",
   "execution_count": 340,
   "metadata": {
    "gradient": {}
   },
   "outputs": [
    {
     "data": {
      "text/html": [
       "<div>\n",
       "<style scoped>\n",
       "    .dataframe tbody tr th:only-of-type {\n",
       "        vertical-align: middle;\n",
       "    }\n",
       "\n",
       "    .dataframe tbody tr th {\n",
       "        vertical-align: top;\n",
       "    }\n",
       "\n",
       "    .dataframe thead th {\n",
       "        text-align: right;\n",
       "    }\n",
       "</style>\n",
       "<table border=\"1\" class=\"dataframe\">\n",
       "  <thead>\n",
       "    <tr style=\"text-align: right;\">\n",
       "      <th></th>\n",
       "      <th>Unnamed: 0</th>\n",
       "      <th>content</th>\n",
       "      <th>date</th>\n",
       "      <th>replyCount</th>\n",
       "      <th>retweetCount</th>\n",
       "      <th>likeCount</th>\n",
       "      <th>mentionedUsers</th>\n",
       "      <th>Pro Trump</th>\n",
       "      <th>Pro Biden</th>\n",
       "      <th>Neutral</th>\n",
       "      <th>one_hot_labels</th>\n",
       "      <th>classes</th>\n",
       "    </tr>\n",
       "  </thead>\n",
       "  <tbody>\n",
       "    <tr>\n",
       "      <th>0</th>\n",
       "      <td>0</td>\n",
       "      <td>@Prieto_de_Maria @Sanju_Verma_ @realDonaldTrump #Biden opposed #CAA #NRC and support Pakistani stand on JK and #Article370</td>\n",
       "      <td>2020-11-04 12:58:14+00:00</td>\n",
       "      <td>0</td>\n",
       "      <td>0</td>\n",
       "      <td>0</td>\n",
       "      <td>[{'username': 'Prieto_de_Maria', 'displayname': 'Light_Yagami', 'id': 1137341225839628288, 'description': None, 'rawDescription': None, 'descriptionUrls': None, 'verified': None, 'created': None, 'followersCount': None, 'friendsCount': None, 'statusesCount': None, 'favouritesCount': None, 'listedCount': None, 'mediaCount': None, 'location': None, 'protected': None, 'linkUrl': None, 'linkTcourl': None, 'profileImageUrl': None, 'profileBannerUrl': None}, {'username': 'Sanju_Verma_', 'displayname': 'Sanju Verma', 'id': 2441854915, 'description': None, 'rawDescription': None, 'descriptionUrls'...</td>\n",
       "      <td>0</td>\n",
       "      <td>0</td>\n",
       "      <td>1</td>\n",
       "      <td>1</td>\n",
       "      <td>Neutral</td>\n",
       "    </tr>\n",
       "    <tr>\n",
       "      <th>1</th>\n",
       "      <td>1</td>\n",
       "      <td>@FoxNews #Trump applauded historical turn out of voters. And no evidence of what #Biden’s campaign manager called it”#outrageous”. Nadia must correctly refer to the words Trump said.&amp;gt;Biden’s campaign manager calls Trump's statement outrageous. ABC News via @ABC - https://t.co/m5UzFp8pWi</td>\n",
       "      <td>2020-11-04 12:19:42+00:00</td>\n",
       "      <td>0</td>\n",
       "      <td>1</td>\n",
       "      <td>1</td>\n",
       "      <td>[{'username': 'FoxNews', 'displayname': 'Fox News', 'id': 1367531, 'description': None, 'rawDescription': None, 'descriptionUrls': None, 'verified': None, 'created': None, 'followersCount': None, 'friendsCount': None, 'statusesCount': None, 'favouritesCount': None, 'listedCount': None, 'mediaCount': None, 'location': None, 'protected': None, 'linkUrl': None, 'linkTcourl': None, 'profileImageUrl': None, 'profileBannerUrl': None}, {'username': 'ABC', 'displayname': 'ABC News', 'id': 28785486, 'description': None, 'rawDescription': None, 'descriptionUrls': None, 'verified': None, 'created': N...</td>\n",
       "      <td>1</td>\n",
       "      <td>0</td>\n",
       "      <td>0</td>\n",
       "      <td>100</td>\n",
       "      <td>Pro_Trump</td>\n",
       "    </tr>\n",
       "    <tr>\n",
       "      <th>2</th>\n",
       "      <td>7</td>\n",
       "      <td>@ge0rgiasc0tt Can't imagine they are chomping at the bit to vote #Biden or #Trump ? 🙄 #ElectionDay</td>\n",
       "      <td>2020-11-03 23:48:59+00:00</td>\n",
       "      <td>0</td>\n",
       "      <td>0</td>\n",
       "      <td>0</td>\n",
       "      <td>[{'username': 'ge0rgiasc0tt', 'displayname': 'G', 'id': 762339458, 'description': None, 'rawDescription': None, 'descriptionUrls': None, 'verified': None, 'created': None, 'followersCount': None, 'friendsCount': None, 'statusesCount': None, 'favouritesCount': None, 'listedCount': None, 'mediaCount': None, 'location': None, 'protected': None, 'linkUrl': None, 'linkTcourl': None, 'profileImageUrl': None, 'profileBannerUrl': None}]</td>\n",
       "      <td>0</td>\n",
       "      <td>0</td>\n",
       "      <td>1</td>\n",
       "      <td>1</td>\n",
       "      <td>Neutral</td>\n",
       "    </tr>\n",
       "    <tr>\n",
       "      <th>3</th>\n",
       "      <td>9</td>\n",
       "      <td>@IvankaTrump @kayleighmcenany @realDonaldTrump Sympathetic . Far better candidate than #Biden . But , #COVID19 will be the ' downfall ' More empathy and leading by example was required \\n#ElectionDay</td>\n",
       "      <td>2020-11-03 09:00:13+00:00</td>\n",
       "      <td>0</td>\n",
       "      <td>0</td>\n",
       "      <td>0</td>\n",
       "      <td>[{'username': 'IvankaTrump', 'displayname': 'Ivanka Trump', 'id': 52544275, 'description': None, 'rawDescription': None, 'descriptionUrls': None, 'verified': None, 'created': None, 'followersCount': None, 'friendsCount': None, 'statusesCount': None, 'favouritesCount': None, 'listedCount': None, 'mediaCount': None, 'location': None, 'protected': None, 'linkUrl': None, 'linkTcourl': None, 'profileImageUrl': None, 'profileBannerUrl': None}, {'username': 'kayleighmcenany', 'displayname': 'Kayleigh McEnany', 'id': 259001548, 'description': None, 'rawDescription': None, 'descriptionUrls': None, ...</td>\n",
       "      <td>1</td>\n",
       "      <td>0</td>\n",
       "      <td>0</td>\n",
       "      <td>100</td>\n",
       "      <td>Pro_Trump</td>\n",
       "    </tr>\n",
       "    <tr>\n",
       "      <th>4</th>\n",
       "      <td>10</td>\n",
       "      <td>Got my 2nd graders chanting “#Biden”</td>\n",
       "      <td>2020-11-03 07:17:00+00:00</td>\n",
       "      <td>1</td>\n",
       "      <td>0</td>\n",
       "      <td>0</td>\n",
       "      <td>NaN</td>\n",
       "      <td>0</td>\n",
       "      <td>1</td>\n",
       "      <td>0</td>\n",
       "      <td>10</td>\n",
       "      <td>Pro_Biden</td>\n",
       "    </tr>\n",
       "  </tbody>\n",
       "</table>\n",
       "</div>"
      ],
      "text/plain": [
       "   Unnamed: 0  \\\n",
       "0           0   \n",
       "1           1   \n",
       "2           7   \n",
       "3           9   \n",
       "4          10   \n",
       "\n",
       "                                                                                                                                                                                                                                                                                              content  \\\n",
       "0                                                                                                                                                                          @Prieto_de_Maria @Sanju_Verma_ @realDonaldTrump #Biden opposed #CAA #NRC and support Pakistani stand on JK and #Article370   \n",
       "1  @FoxNews #Trump applauded historical turn out of voters. And no evidence of what #Biden’s campaign manager called it”#outrageous”. Nadia must correctly refer to the words Trump said.&gt;Biden’s campaign manager calls Trump's statement outrageous. ABC News via @ABC - https://t.co/m5UzFp8pWi   \n",
       "2                                                                                                                                                                                                  @ge0rgiasc0tt Can't imagine they are chomping at the bit to vote #Biden or #Trump ? 🙄 #ElectionDay   \n",
       "3                                                                                             @IvankaTrump @kayleighmcenany @realDonaldTrump Sympathetic . Far better candidate than #Biden . But , #COVID19 will be the ' downfall ' More empathy and leading by example was required \\n#ElectionDay   \n",
       "4                                                                                                                                                                                                                                                                Got my 2nd graders chanting “#Biden”   \n",
       "\n",
       "                        date  replyCount  retweetCount  likeCount  \\\n",
       "0  2020-11-04 12:58:14+00:00           0             0          0   \n",
       "1  2020-11-04 12:19:42+00:00           0             1          1   \n",
       "2  2020-11-03 23:48:59+00:00           0             0          0   \n",
       "3  2020-11-03 09:00:13+00:00           0             0          0   \n",
       "4  2020-11-03 07:17:00+00:00           1             0          0   \n",
       "\n",
       "                                                                                                                                                                                                                                                                                                                                                                                                                                                                                                                                                                                                            mentionedUsers  \\\n",
       "0  [{'username': 'Prieto_de_Maria', 'displayname': 'Light_Yagami', 'id': 1137341225839628288, 'description': None, 'rawDescription': None, 'descriptionUrls': None, 'verified': None, 'created': None, 'followersCount': None, 'friendsCount': None, 'statusesCount': None, 'favouritesCount': None, 'listedCount': None, 'mediaCount': None, 'location': None, 'protected': None, 'linkUrl': None, 'linkTcourl': None, 'profileImageUrl': None, 'profileBannerUrl': None}, {'username': 'Sanju_Verma_', 'displayname': 'Sanju Verma', 'id': 2441854915, 'description': None, 'rawDescription': None, 'descriptionUrls'...   \n",
       "1  [{'username': 'FoxNews', 'displayname': 'Fox News', 'id': 1367531, 'description': None, 'rawDescription': None, 'descriptionUrls': None, 'verified': None, 'created': None, 'followersCount': None, 'friendsCount': None, 'statusesCount': None, 'favouritesCount': None, 'listedCount': None, 'mediaCount': None, 'location': None, 'protected': None, 'linkUrl': None, 'linkTcourl': None, 'profileImageUrl': None, 'profileBannerUrl': None}, {'username': 'ABC', 'displayname': 'ABC News', 'id': 28785486, 'description': None, 'rawDescription': None, 'descriptionUrls': None, 'verified': None, 'created': N...   \n",
       "2                                                                                                                                                                         [{'username': 'ge0rgiasc0tt', 'displayname': 'G', 'id': 762339458, 'description': None, 'rawDescription': None, 'descriptionUrls': None, 'verified': None, 'created': None, 'followersCount': None, 'friendsCount': None, 'statusesCount': None, 'favouritesCount': None, 'listedCount': None, 'mediaCount': None, 'location': None, 'protected': None, 'linkUrl': None, 'linkTcourl': None, 'profileImageUrl': None, 'profileBannerUrl': None}]   \n",
       "3  [{'username': 'IvankaTrump', 'displayname': 'Ivanka Trump', 'id': 52544275, 'description': None, 'rawDescription': None, 'descriptionUrls': None, 'verified': None, 'created': None, 'followersCount': None, 'friendsCount': None, 'statusesCount': None, 'favouritesCount': None, 'listedCount': None, 'mediaCount': None, 'location': None, 'protected': None, 'linkUrl': None, 'linkTcourl': None, 'profileImageUrl': None, 'profileBannerUrl': None}, {'username': 'kayleighmcenany', 'displayname': 'Kayleigh McEnany', 'id': 259001548, 'description': None, 'rawDescription': None, 'descriptionUrls': None, ...   \n",
       "4                                                                                                                                                                                                                                                                                                                                                                                                                                                                                                                                                                                                                      NaN   \n",
       "\n",
       "   Pro Trump  Pro Biden  Neutral  one_hot_labels    classes  \n",
       "0          0          0        1               1    Neutral  \n",
       "1          1          0        0             100  Pro_Trump  \n",
       "2          0          0        1               1    Neutral  \n",
       "3          1          0        0             100  Pro_Trump  \n",
       "4          0          1        0              10  Pro_Biden  "
      ]
     },
     "execution_count": 340,
     "metadata": {},
     "output_type": "execute_result"
    }
   ],
   "source": [
    "# Read 1/6th of the test dataset to reduce total time taken for testing\n",
    "test = pd.read_csv('test.csv')\n",
    "test.head()"
   ]
  },
  {
   "cell_type": "code",
   "execution_count": 212,
   "metadata": {
    "gradient": {}
   },
   "outputs": [
    {
     "data": {
      "text/html": [
       "<div>\n",
       "<style scoped>\n",
       "    .dataframe tbody tr th:only-of-type {\n",
       "        vertical-align: middle;\n",
       "    }\n",
       "\n",
       "    .dataframe tbody tr th {\n",
       "        vertical-align: top;\n",
       "    }\n",
       "\n",
       "    .dataframe thead th {\n",
       "        text-align: right;\n",
       "    }\n",
       "</style>\n",
       "<table border=\"1\" class=\"dataframe\">\n",
       "  <thead>\n",
       "    <tr style=\"text-align: right;\">\n",
       "      <th></th>\n",
       "      <th>Unnamed: 0</th>\n",
       "      <th>Unnamed: 0.1</th>\n",
       "      <th>Pro Trump</th>\n",
       "      <th>Pro Biden</th>\n",
       "      <th>Neutral</th>\n",
       "      <th>replyCount</th>\n",
       "      <th>retweetCount</th>\n",
       "      <th>likeCount</th>\n",
       "      <th>one_hot_labels</th>\n",
       "    </tr>\n",
       "  </thead>\n",
       "  <tbody>\n",
       "    <tr>\n",
       "      <th>count</th>\n",
       "      <td>1721.000000</td>\n",
       "      <td>1721.000000</td>\n",
       "      <td>1721.000000</td>\n",
       "      <td>1721.000000</td>\n",
       "      <td>1721.000000</td>\n",
       "      <td>1721.000000</td>\n",
       "      <td>1721.000000</td>\n",
       "      <td>1721.000000</td>\n",
       "      <td>1721.000000</td>\n",
       "    </tr>\n",
       "    <tr>\n",
       "      <th>mean</th>\n",
       "      <td>948.747240</td>\n",
       "      <td>954.265543</td>\n",
       "      <td>0.282394</td>\n",
       "      <td>0.282394</td>\n",
       "      <td>0.435212</td>\n",
       "      <td>0.743754</td>\n",
       "      <td>1.005230</td>\n",
       "      <td>7.453806</td>\n",
       "      <td>31.498547</td>\n",
       "    </tr>\n",
       "    <tr>\n",
       "      <th>std</th>\n",
       "      <td>414.779563</td>\n",
       "      <td>551.894150</td>\n",
       "      <td>0.450295</td>\n",
       "      <td>0.450295</td>\n",
       "      <td>0.495929</td>\n",
       "      <td>12.006587</td>\n",
       "      <td>12.529569</td>\n",
       "      <td>83.848502</td>\n",
       "      <td>43.145537</td>\n",
       "    </tr>\n",
       "    <tr>\n",
       "      <th>min</th>\n",
       "      <td>5.000000</td>\n",
       "      <td>2.000000</td>\n",
       "      <td>0.000000</td>\n",
       "      <td>0.000000</td>\n",
       "      <td>0.000000</td>\n",
       "      <td>0.000000</td>\n",
       "      <td>0.000000</td>\n",
       "      <td>0.000000</td>\n",
       "      <td>1.000000</td>\n",
       "    </tr>\n",
       "    <tr>\n",
       "      <th>25%</th>\n",
       "      <td>646.000000</td>\n",
       "      <td>477.000000</td>\n",
       "      <td>0.000000</td>\n",
       "      <td>0.000000</td>\n",
       "      <td>0.000000</td>\n",
       "      <td>0.000000</td>\n",
       "      <td>0.000000</td>\n",
       "      <td>0.000000</td>\n",
       "      <td>1.000000</td>\n",
       "    </tr>\n",
       "    <tr>\n",
       "      <th>50%</th>\n",
       "      <td>954.000000</td>\n",
       "      <td>953.000000</td>\n",
       "      <td>0.000000</td>\n",
       "      <td>0.000000</td>\n",
       "      <td>0.000000</td>\n",
       "      <td>0.000000</td>\n",
       "      <td>0.000000</td>\n",
       "      <td>0.000000</td>\n",
       "      <td>10.000000</td>\n",
       "    </tr>\n",
       "    <tr>\n",
       "      <th>75%</th>\n",
       "      <td>1258.000000</td>\n",
       "      <td>1436.000000</td>\n",
       "      <td>1.000000</td>\n",
       "      <td>1.000000</td>\n",
       "      <td>1.000000</td>\n",
       "      <td>0.000000</td>\n",
       "      <td>0.000000</td>\n",
       "      <td>2.000000</td>\n",
       "      <td>100.000000</td>\n",
       "    </tr>\n",
       "    <tr>\n",
       "      <th>max</th>\n",
       "      <td>1908.000000</td>\n",
       "      <td>1911.000000</td>\n",
       "      <td>1.000000</td>\n",
       "      <td>1.000000</td>\n",
       "      <td>1.000000</td>\n",
       "      <td>485.000000</td>\n",
       "      <td>439.000000</td>\n",
       "      <td>2732.000000</td>\n",
       "      <td>100.000000</td>\n",
       "    </tr>\n",
       "  </tbody>\n",
       "</table>\n",
       "</div>"
      ],
      "text/plain": [
       "        Unnamed: 0  Unnamed: 0.1    Pro Trump    Pro Biden      Neutral  \\\n",
       "count  1721.000000   1721.000000  1721.000000  1721.000000  1721.000000   \n",
       "mean    948.747240    954.265543     0.282394     0.282394     0.435212   \n",
       "std     414.779563    551.894150     0.450295     0.450295     0.495929   \n",
       "min       5.000000      2.000000     0.000000     0.000000     0.000000   \n",
       "25%     646.000000    477.000000     0.000000     0.000000     0.000000   \n",
       "50%     954.000000    953.000000     0.000000     0.000000     0.000000   \n",
       "75%    1258.000000   1436.000000     1.000000     1.000000     1.000000   \n",
       "max    1908.000000   1911.000000     1.000000     1.000000     1.000000   \n",
       "\n",
       "        replyCount  retweetCount    likeCount  one_hot_labels  \n",
       "count  1721.000000   1721.000000  1721.000000     1721.000000  \n",
       "mean      0.743754      1.005230     7.453806       31.498547  \n",
       "std      12.006587     12.529569    83.848502       43.145537  \n",
       "min       0.000000      0.000000     0.000000        1.000000  \n",
       "25%       0.000000      0.000000     0.000000        1.000000  \n",
       "50%       0.000000      0.000000     0.000000       10.000000  \n",
       "75%       0.000000      0.000000     2.000000      100.000000  \n",
       "max     485.000000    439.000000  2732.000000      100.000000  "
      ]
     },
     "execution_count": 212,
     "metadata": {},
     "output_type": "execute_result"
    }
   ],
   "source": [
    "# Check major statistics for the train dataset\n",
    "train.describe()"
   ]
  },
  {
   "cell_type": "code",
   "execution_count": 213,
   "metadata": {
    "gradient": {}
   },
   "outputs": [
    {
     "data": {
      "text/html": [
       "<div>\n",
       "<style scoped>\n",
       "    .dataframe tbody tr th:only-of-type {\n",
       "        vertical-align: middle;\n",
       "    }\n",
       "\n",
       "    .dataframe tbody tr th {\n",
       "        vertical-align: top;\n",
       "    }\n",
       "\n",
       "    .dataframe thead th {\n",
       "        text-align: right;\n",
       "    }\n",
       "</style>\n",
       "<table border=\"1\" class=\"dataframe\">\n",
       "  <thead>\n",
       "    <tr style=\"text-align: right;\">\n",
       "      <th></th>\n",
       "      <th>Unnamed: 0</th>\n",
       "      <th>replyCount</th>\n",
       "      <th>retweetCount</th>\n",
       "      <th>likeCount</th>\n",
       "      <th>Pro Trump</th>\n",
       "      <th>Pro Biden</th>\n",
       "      <th>Neutral</th>\n",
       "      <th>one_hot_labels</th>\n",
       "    </tr>\n",
       "  </thead>\n",
       "  <tbody>\n",
       "    <tr>\n",
       "      <th>count</th>\n",
       "      <td>91.000000</td>\n",
       "      <td>91.000000</td>\n",
       "      <td>91.000000</td>\n",
       "      <td>91.000000</td>\n",
       "      <td>91.000000</td>\n",
       "      <td>91.000000</td>\n",
       "      <td>91.000000</td>\n",
       "      <td>91.000000</td>\n",
       "    </tr>\n",
       "    <tr>\n",
       "      <th>mean</th>\n",
       "      <td>54.384615</td>\n",
       "      <td>0.428571</td>\n",
       "      <td>1.439560</td>\n",
       "      <td>7.384615</td>\n",
       "      <td>0.296703</td>\n",
       "      <td>0.439560</td>\n",
       "      <td>0.263736</td>\n",
       "      <td>35.417582</td>\n",
       "    </tr>\n",
       "    <tr>\n",
       "      <th>std</th>\n",
       "      <td>28.601387</td>\n",
       "      <td>1.407463</td>\n",
       "      <td>9.962383</td>\n",
       "      <td>39.394520</td>\n",
       "      <td>0.459335</td>\n",
       "      <td>0.499083</td>\n",
       "      <td>0.443099</td>\n",
       "      <td>43.445001</td>\n",
       "    </tr>\n",
       "    <tr>\n",
       "      <th>min</th>\n",
       "      <td>0.000000</td>\n",
       "      <td>0.000000</td>\n",
       "      <td>0.000000</td>\n",
       "      <td>0.000000</td>\n",
       "      <td>0.000000</td>\n",
       "      <td>0.000000</td>\n",
       "      <td>0.000000</td>\n",
       "      <td>1.000000</td>\n",
       "    </tr>\n",
       "    <tr>\n",
       "      <th>25%</th>\n",
       "      <td>30.500000</td>\n",
       "      <td>0.000000</td>\n",
       "      <td>0.000000</td>\n",
       "      <td>0.000000</td>\n",
       "      <td>0.000000</td>\n",
       "      <td>0.000000</td>\n",
       "      <td>0.000000</td>\n",
       "      <td>5.500000</td>\n",
       "    </tr>\n",
       "    <tr>\n",
       "      <th>50%</th>\n",
       "      <td>55.000000</td>\n",
       "      <td>0.000000</td>\n",
       "      <td>0.000000</td>\n",
       "      <td>0.000000</td>\n",
       "      <td>0.000000</td>\n",
       "      <td>0.000000</td>\n",
       "      <td>0.000000</td>\n",
       "      <td>10.000000</td>\n",
       "    </tr>\n",
       "    <tr>\n",
       "      <th>75%</th>\n",
       "      <td>79.500000</td>\n",
       "      <td>0.000000</td>\n",
       "      <td>0.000000</td>\n",
       "      <td>2.000000</td>\n",
       "      <td>1.000000</td>\n",
       "      <td>1.000000</td>\n",
       "      <td>1.000000</td>\n",
       "      <td>100.000000</td>\n",
       "    </tr>\n",
       "    <tr>\n",
       "      <th>max</th>\n",
       "      <td>102.000000</td>\n",
       "      <td>11.000000</td>\n",
       "      <td>93.000000</td>\n",
       "      <td>328.000000</td>\n",
       "      <td>1.000000</td>\n",
       "      <td>1.000000</td>\n",
       "      <td>1.000000</td>\n",
       "      <td>100.000000</td>\n",
       "    </tr>\n",
       "  </tbody>\n",
       "</table>\n",
       "</div>"
      ],
      "text/plain": [
       "       Unnamed: 0  replyCount  retweetCount   likeCount  Pro Trump  Pro Biden  \\\n",
       "count   91.000000   91.000000     91.000000   91.000000  91.000000  91.000000   \n",
       "mean    54.384615    0.428571      1.439560    7.384615   0.296703   0.439560   \n",
       "std     28.601387    1.407463      9.962383   39.394520   0.459335   0.499083   \n",
       "min      0.000000    0.000000      0.000000    0.000000   0.000000   0.000000   \n",
       "25%     30.500000    0.000000      0.000000    0.000000   0.000000   0.000000   \n",
       "50%     55.000000    0.000000      0.000000    0.000000   0.000000   0.000000   \n",
       "75%     79.500000    0.000000      0.000000    2.000000   1.000000   1.000000   \n",
       "max    102.000000   11.000000     93.000000  328.000000   1.000000   1.000000   \n",
       "\n",
       "         Neutral  one_hot_labels  \n",
       "count  91.000000       91.000000  \n",
       "mean    0.263736       35.417582  \n",
       "std     0.443099       43.445001  \n",
       "min     0.000000        1.000000  \n",
       "25%     0.000000        5.500000  \n",
       "50%     0.000000       10.000000  \n",
       "75%     1.000000      100.000000  \n",
       "max     1.000000      100.000000  "
      ]
     },
     "execution_count": 213,
     "metadata": {},
     "output_type": "execute_result"
    }
   ],
   "source": [
    "# Check major statistics for the test dataset\n",
    "test.describe()"
   ]
  },
  {
   "cell_type": "code",
   "execution_count": 214,
   "metadata": {
    "gradient": {}
   },
   "outputs": [
    {
     "data": {
      "text/plain": [
       "<AxesSubplot:>"
      ]
     },
     "execution_count": 214,
     "metadata": {},
     "output_type": "execute_result"
    },
    {
     "data": {
      "image/png": "[encoded data removed]",
      "text/plain": [
       "<Figure size 432x288 with 1 Axes>"
      ]
     },
     "metadata": {
      "needs_background": "light"
     },
     "output_type": "display_data"
    }
   ],
   "source": [
    "# Check the distribution of the number of data points for each of the 5 classes\n",
    "train['classes'].value_counts().plot(kind='bar')"
   ]
  },
  {
   "cell_type": "code",
   "execution_count": 215,
   "metadata": {
    "gradient": {}
   },
   "outputs": [
    {
     "data": {
      "text/plain": [
       "Neutral      749\n",
       "Pro_Biden    486\n",
       "Pro_Trump    486\n",
       "Name: classes, dtype: int64"
      ]
     },
     "execution_count": 215,
     "metadata": {},
     "output_type": "execute_result"
    }
   ],
   "source": [
    "# The distribution seems fairly equal which is perfect for training the model\n",
    "train['classes'].value_counts()"
   ]
  },
  {
   "cell_type": "code",
   "execution_count": 216,
   "metadata": {
    "gradient": {}
   },
   "outputs": [],
   "source": [
    "# Array of all the reviews in the train data frame\n",
    "txts = L([i for i in train['content']])"
   ]
  },
  {
   "cell_type": "code",
   "execution_count": 217,
   "metadata": {
    "gradient": {}
   },
   "outputs": [
    {
     "data": {
      "text/plain": [
       "(#17) ['xxbos','xxmaj','on','xxmaj','trump',\"'s\",'superiority','theory',':','\\n'...]"
      ]
     },
     "execution_count": 217,
     "metadata": {},
     "output_type": "execute_result"
    }
   ],
   "source": [
    "# Tokenize all the rows\n",
    "tok = Tokenizer.from_df(train)\n",
    "tok.setup(train)\n",
    "\n",
    "toks = txts.map(tok)\n",
    "toks[0]"
   ]
  },
  {
   "cell_type": "code",
   "execution_count": 218,
   "metadata": {
    "gradient": {}
   },
   "outputs": [
    {
     "data": {
      "text/plain": [
       "TensorText([ 2,  8, 44,  8, 18, 47,  0,  0, 13, 27])"
      ]
     },
     "execution_count": 218,
     "metadata": {},
     "output_type": "execute_result"
    }
   ],
   "source": [
    "# Numericalize all the tokens from the previous step\n",
    "num = Numericalize()\n",
    "num.setup(toks)\n",
    "nums = toks.map(num)\n",
    "nums[0][:10]"
   ]
  },
  {
   "cell_type": "code",
   "execution_count": 219,
   "metadata": {
    "gradient": {}
   },
   "outputs": [
    {
     "data": {
      "text/plain": [
       "TensorText([ 2,  8, 44,  8, 18, 47,  0,  0, 13, 27, 16, 13, 10, 10, 15, 10,  0])"
      ]
     },
     "execution_count": 219,
     "metadata": {},
     "output_type": "execute_result"
    }
   ],
   "source": [
    "# Seeing the indexes of how the words are stored for the first row only\n",
    "num.encodes(toks[0])"
   ]
  },
  {
   "cell_type": "code",
   "execution_count": 220,
   "metadata": {
    "gradient": {}
   },
   "outputs": [
    {
     "data": {
      "text/plain": [
       "(#17) ['xxbos','xxmaj','on','xxmaj','trump',\"'s\",'xxunk','xxunk',':','\\n'...]"
      ]
     },
     "execution_count": 220,
     "metadata": {},
     "output_type": "execute_result"
    }
   ],
   "source": [
    "# Decoding the indexes to see the tokens\n",
    "num.decode(nums[0])"
   ]
  },
  {
   "cell_type": "code",
   "execution_count": 341,
   "metadata": {
    "gradient": {}
   },
   "outputs": [
    {
     "data": {
      "text/html": [
       "<div>\n",
       "<style scoped>\n",
       "    .dataframe tbody tr th:only-of-type {\n",
       "        vertical-align: middle;\n",
       "    }\n",
       "\n",
       "    .dataframe tbody tr th {\n",
       "        vertical-align: top;\n",
       "    }\n",
       "\n",
       "    .dataframe thead th {\n",
       "        text-align: right;\n",
       "    }\n",
       "</style>\n",
       "<table border=\"1\" class=\"dataframe\">\n",
       "  <thead>\n",
       "    <tr style=\"text-align: right;\">\n",
       "      <th></th>\n",
       "      <th>content</th>\n",
       "    </tr>\n",
       "  </thead>\n",
       "  <tbody>\n",
       "    <tr>\n",
       "      <th>0</th>\n",
       "      <td>On Trump's superiority theory: https://t.co/esMRt1OLEd</td>\n",
       "    </tr>\n",
       "    <tr>\n",
       "      <th>1</th>\n",
       "      <td>Nice day all! Whatever happens with whatever.. #No1knows Now,that #trump goes its way,#virus is to follow pretty soon,I guess And what i guess,never happens.. 🙄 Just make sure that entire flat had been painted + restored,before the virus ends. Otherwise you will never do it.. 🙂 https://t.co/OxLQZ3KgYP</td>\n",
       "    </tr>\n",
       "    <tr>\n",
       "      <th>2</th>\n",
       "      <td>Donald Trump...... what a guy</td>\n",
       "    </tr>\n",
       "    <tr>\n",
       "      <th>3</th>\n",
       "      <td>@JoeBiden Hi Mr.president ... may I ask you sth that you can do it easily, please remove some fucking restrictions of Instagram in Iran ... we are suffocating under the pressure of fucking politicians game, the people is innocent and only sacrificing 😞😓 Tnx for ur consideration</td>\n",
       "    </tr>\n",
       "    <tr>\n",
       "      <th>4</th>\n",
       "      <td>@JoeBiden, urge you to respect international law. Otherwise, youâ€™re violating int. law, human rights and refugee rights. Research before you state this conflict! Those who violate int. law and support state terror cannot be selected as US president! #terrorism #USElection #biden https://t.co/Bzq8eHjMYP</td>\n",
       "    </tr>\n",
       "  </tbody>\n",
       "</table>\n",
       "</div>"
      ],
      "text/plain": [
       "                                                                                                                                                                                                                                                                                                             content\n",
       "0                                                                                                                                                                                                                                                             On Trump's superiority theory: https://t.co/esMRt1OLEd\n",
       "1     Nice day all! Whatever happens with whatever.. #No1knows Now,that #trump goes its way,#virus is to follow pretty soon,I guess And what i guess,never happens.. 🙄 Just make sure that entire flat had been painted + restored,before the virus ends. Otherwise you will never do it.. 🙂 https://t.co/OxLQZ3KgYP\n",
       "2                                                                                                                                                                                                                                                                                      Donald Trump...... what a guy\n",
       "3                             @JoeBiden Hi Mr.president ... may I ask you sth that you can do it easily, please remove some fucking restrictions of Instagram in Iran ... we are suffocating under the pressure of fucking politicians game, the people is innocent and only sacrificing 😞😓 Tnx for ur consideration\n",
       "4  @JoeBiden, urge you to respect international law. Otherwise, youâ€™re violating int. law, human rights and refugee rights. Research before you state this conflict! Those who violate int. law and support state terror cannot be selected as US president! #terrorism #USElection #biden https://t.co/Bzq8eHjMYP"
      ]
     },
     "execution_count": 341,
     "metadata": {},
     "output_type": "execute_result"
    }
   ],
   "source": [
    "# Concatening just the reviews column of both train and test datasets to help in creating the language model\n",
    "language_model = pd.concat([train, test], axis=0)[['content']]\n",
    "language_model.head()"
   ]
  },
  {
   "cell_type": "code",
   "execution_count": 222,
   "metadata": {
    "gradient": {}
   },
   "outputs": [
    {
     "data": {
      "text/html": [
       "<div>\n",
       "<style scoped>\n",
       "    .dataframe tbody tr th:only-of-type {\n",
       "        vertical-align: middle;\n",
       "    }\n",
       "\n",
       "    .dataframe tbody tr th {\n",
       "        vertical-align: top;\n",
       "    }\n",
       "\n",
       "    .dataframe thead th {\n",
       "        text-align: right;\n",
       "    }\n",
       "</style>\n",
       "<table border=\"1\" class=\"dataframe\">\n",
       "  <thead>\n",
       "    <tr style=\"text-align: right;\">\n",
       "      <th></th>\n",
       "      <th>content</th>\n",
       "    </tr>\n",
       "  </thead>\n",
       "  <tbody>\n",
       "    <tr>\n",
       "      <th>count</th>\n",
       "      <td>1812</td>\n",
       "    </tr>\n",
       "    <tr>\n",
       "      <th>unique</th>\n",
       "      <td>1790</td>\n",
       "    </tr>\n",
       "    <tr>\n",
       "      <th>top</th>\n",
       "      <td>Where is our MOTA BHAI.?\\nwhy he is not helping donaald Trump to form government in America.. ( amrika) \\n\\n#AmericaDecides2020 #India #Elecciones2020 #modii #TrumpIsLosing #AmitShah</td>\n",
       "    </tr>\n",
       "    <tr>\n",
       "      <th>freq</th>\n",
       "      <td>2</td>\n",
       "    </tr>\n",
       "  </tbody>\n",
       "</table>\n",
       "</div>"
      ],
      "text/plain": [
       "                                                                                                                                                                                       content\n",
       "count                                                                                                                                                                                     1812\n",
       "unique                                                                                                                                                                                    1790\n",
       "top     Where is our MOTA BHAI.?\\nwhy he is not helping donaald Trump to form government in America.. ( amrika) \\n\\n#AmericaDecides2020 #India #Elecciones2020 #modii #TrumpIsLosing #AmitShah\n",
       "freq                                                                                                                                                                                         2"
      ]
     },
     "execution_count": 222,
     "metadata": {},
     "output_type": "execute_result"
    }
   ],
   "source": [
    "# Checking major statistics of the new dataset\n",
    "language_model.describe()"
   ]
  },
  {
   "cell_type": "code",
   "execution_count": 342,
   "metadata": {
    "gradient": {}
   },
   "outputs": [],
   "source": [
    "# Splitting the new dataset randomly into 90% train and 10% validation \n",
    "data_lm = DataBlock(\n",
    "    blocks=TextBlock.from_df('content', is_lm=True),\n",
    "    get_x=ColReader('text'), \n",
    "    splitter=RandomSplitter(0.1) \n",
    ")"
   ]
  },
  {
   "cell_type": "code",
   "execution_count": 343,
   "metadata": {
    "gradient": {}
   },
   "outputs": [
    {
     "data": {
      "text/html": [],
      "text/plain": [
       "<IPython.core.display.HTML object>"
      ]
     },
     "metadata": {},
     "output_type": "display_data"
    }
   ],
   "source": [
    "# Internally tokenizing and numericalizing the data. The sequence length used is the default used for training the Wikipedia 103 language model\n",
    "data_lm = data_lm.dataloaders(language_model, bs=64, seq_len=72)"
   ]
  },
  {
   "cell_type": "code",
   "execution_count": 344,
   "metadata": {
    "gradient": {}
   },
   "outputs": [
    {
     "data": {
      "text/html": [
       "<table border=\"1\" class=\"dataframe\">\n",
       "  <thead>\n",
       "    <tr style=\"text-align: right;\">\n",
       "      <th></th>\n",
       "      <th>text</th>\n",
       "      <th>text_</th>\n",
       "    </tr>\n",
       "  </thead>\n",
       "  <tbody>\n",
       "    <tr>\n",
       "      <th>0</th>\n",
       "      <td>xxbos i can not stop looking at this xxrep 3 ! it is absolutely xxunk . xxrep 5 🤣 # bidenharris2020 # fucktrump @ xxmaj xxunk xxmaj xxunk xxunk xxmaj xxunk , xxmaj xxunk https : / / t.co / xxunk xxbos xxunk xxunk xxunk # mypresident xxmaj thank you xxmaj sir for standing up for what is right . xxbos @joebiden xxmaj which game ? xxmaj my president elected 🇵 🇸</td>\n",
       "      <td>i can not stop looking at this xxrep 3 ! it is absolutely xxunk . xxrep 5 🤣 # bidenharris2020 # fucktrump @ xxmaj xxunk xxmaj xxunk xxunk xxmaj xxunk , xxmaj xxunk https : / / t.co / xxunk xxbos xxunk xxunk xxunk # mypresident xxmaj thank you xxmaj sir for standing up for what is right . xxbos @joebiden xxmaj which game ? xxmaj my president elected 🇵 🇸 xxmaj</td>\n",
       "    </tr>\n",
       "    <tr>\n",
       "      <th>1</th>\n",
       "      <td>… . also @potus @realdonaldtrump said to “ stop working on stimulus and focus on xxup xxunk ” … # xxunk # xxunk # novemberiscoming xxbos xxmaj trump xxunk early ballot in xxmaj florida : ' i voted for a guy xxunk xxmaj trump ' https : / / t.co / xxunk xxbos xxmaj has anyone checked on xxmaj xxunk xxmaj trump in xxunk ? xxmaj xxunk like he ’s probably not</td>\n",
       "      <td>. also @potus @realdonaldtrump said to “ stop working on stimulus and focus on xxup xxunk ” … # xxunk # xxunk # novemberiscoming xxbos xxmaj trump xxunk early ballot in xxmaj florida : ' i voted for a guy xxunk xxmaj trump ' https : / / t.co / xxunk xxbos xxmaj has anyone checked on xxmaj xxunk xxmaj trump in xxunk ? xxmaj xxunk like he ’s probably not doing</td>\n",
       "    </tr>\n",
       "    <tr>\n",
       "      <th>2</th>\n",
       "      <td>of xxunk parties is xxunk at 3 % . ðÿ¤ ” xxmaj we will have to wait and see whether this will be close to reality . https : / / t.co / xxunk xxbos xxunk will be the xxunk man on xxmaj earth today . xxunk xxunk # xxmaj biden2020 # joebiden # byebyetrump xxbos xxmaj remember when xxmaj america elected the host of the xxmaj xxunk as president ? #</td>\n",
       "      <td>xxunk parties is xxunk at 3 % . ðÿ¤ ” xxmaj we will have to wait and see whether this will be close to reality . https : / / t.co / xxunk xxbos xxunk will be the xxunk man on xxmaj earth today . xxunk xxunk # xxmaj biden2020 # joebiden # byebyetrump xxbos xxmaj remember when xxmaj america elected the host of the xxmaj xxunk as president ? # dumptrump</td>\n",
       "    </tr>\n",
       "    <tr>\n",
       "      <th>3</th>\n",
       "      <td>@realdonaldtrump # xxup maga by xxunk the defeat ! xxmaj nothing to be ashamed of - in a democracy … xxbos i do n’t know if xxmaj i ’m living or just waiting for the results . # xxmaj biden # xxmaj elections2020 xxbos xxmaj joe xxmaj biden won xxrep 6 ! get over it xxmaj trump supporters u already lost bye xxmaj trump xxrep 8 💙 https : / / t.co</td>\n",
       "      <td># xxup maga by xxunk the defeat ! xxmaj nothing to be ashamed of - in a democracy … xxbos i do n’t know if xxmaj i ’m living or just waiting for the results . # xxmaj biden # xxmaj elections2020 xxbos xxmaj joe xxmaj biden won xxrep 6 ! get over it xxmaj trump supporters u already lost bye xxmaj trump xxrep 8 💙 https : / / t.co /</td>\n",
       "    </tr>\n",
       "    <tr>\n",
       "      <th>4</th>\n",
       "      <td>all xxunk up . # makeamericagreatagainagain # xxmaj trump2020 # joebidenkamalaharris2020 https : / / t.co / xxunk xxbos xxmaj trump has xxmaj divided the xxmaj country more than xxmaj ever ! xxmaj no xxmaj one wants to xxmaj admit to xxmaj it ! xxmaj especially him ! xxmaj tuesday will come and it will be whatever it will be ! xxup america xxup will xxup go xxup on ! ðÿ‡ºðÿ‡¸ xxbos</td>\n",
       "      <td>xxunk up . # makeamericagreatagainagain # xxmaj trump2020 # joebidenkamalaharris2020 https : / / t.co / xxunk xxbos xxmaj trump has xxmaj divided the xxmaj country more than xxmaj ever ! xxmaj no xxmaj one wants to xxmaj admit to xxmaj it ! xxmaj especially him ! xxmaj tuesday will come and it will be whatever it will be ! xxup america xxup will xxup go xxup on ! ðÿ‡ºðÿ‡¸ xxbos #</td>\n",
       "    </tr>\n",
       "  </tbody>\n",
       "</table>"
      ],
      "text/plain": [
       "<IPython.core.display.HTML object>"
      ]
     },
     "metadata": {},
     "output_type": "display_data"
    }
   ],
   "source": [
    "# Randomly show 5 of the rows from the language model\n",
    "data_lm.show_batch(max_n=5)"
   ]
  },
  {
   "cell_type": "code",
   "execution_count": 347,
   "metadata": {
    "gradient": {}
   },
   "outputs": [],
   "source": [
    "# Defining the LSTM architecture of the train model and the metrics used to acertain its accuracy\n",
    "learn_model = language_model_learner(\n",
    "    data_lm, AWD_LSTM, drop_mult=0.3,\n",
    "    metrics=[accuracy, Perplexity()]).to_fp16()"
   ]
  },
  {
   "cell_type": "code",
   "execution_count": 348,
   "metadata": {
    "gradient": {}
   },
   "outputs": [
    {
     "data": {
      "text/plain": [
       "SequentialRNN(\n",
       "  (0): AWD_LSTM(\n",
       "    (encoder): Embedding(1832, 400, padding_idx=1)\n",
       "    (encoder_dp): EmbeddingDropout(\n",
       "      (emb): Embedding(1832, 400, padding_idx=1)\n",
       "    )\n",
       "    (rnns): ModuleList(\n",
       "      (0): WeightDropout(\n",
       "        (module): LSTM(400, 1152, batch_first=True)\n",
       "      )\n",
       "      (1): WeightDropout(\n",
       "        (module): LSTM(1152, 1152, batch_first=True)\n",
       "      )\n",
       "      (2): WeightDropout(\n",
       "        (module): LSTM(1152, 400, batch_first=True)\n",
       "      )\n",
       "    )\n",
       "    (input_dp): RNNDropout()\n",
       "    (hidden_dps): ModuleList(\n",
       "      (0): RNNDropout()\n",
       "      (1): RNNDropout()\n",
       "      (2): RNNDropout()\n",
       "    )\n",
       "  )\n",
       "  (1): LinearDecoder(\n",
       "    (decoder): Linear(in_features=400, out_features=1832, bias=True)\n",
       "    (output_dp): RNNDropout()\n",
       "  )\n",
       ")"
      ]
     },
     "execution_count": 348,
     "metadata": {},
     "output_type": "execute_result"
    }
   ],
   "source": [
    "# Check the various layers of the model\n",
    "learn_model.model"
   ]
  },
  {
   "cell_type": "code",
   "execution_count": 349,
   "metadata": {
    "gradient": {}
   },
   "outputs": [
    {
     "data": {
      "text/html": [],
      "text/plain": [
       "<IPython.core.display.HTML object>"
      ]
     },
     "metadata": {},
     "output_type": "display_data"
    },
    {
     "data": {
      "text/plain": [
       "SuggestedLRs(lr_min=0.09120108485221863, lr_steep=0.03981071710586548)"
      ]
     },
     "execution_count": 349,
     "metadata": {},
     "output_type": "execute_result"
    },
    {
     "data": {
      "image/png": "[encoded data removed]",
      "text/plain": [
       "<Figure size 432x288 with 1 Axes>"
      ]
     },
     "metadata": {
      "needs_background": "light"
     },
     "output_type": "display_data"
    }
   ],
   "source": [
    "# Find the best learning rate for training the language model\n",
    "learn_model.lr_find()"
   ]
  },
  {
   "cell_type": "code",
   "execution_count": 350,
   "metadata": {
    "gradient": {}
   },
   "outputs": [
    {
     "data": {
      "text/html": [
       "<table border=\"1\" class=\"dataframe\">\n",
       "  <thead>\n",
       "    <tr style=\"text-align: left;\">\n",
       "      <th>epoch</th>\n",
       "      <th>train_loss</th>\n",
       "      <th>valid_loss</th>\n",
       "      <th>accuracy</th>\n",
       "      <th>perplexity</th>\n",
       "      <th>time</th>\n",
       "    </tr>\n",
       "  </thead>\n",
       "  <tbody>\n",
       "    <tr>\n",
       "      <td>0</td>\n",
       "      <td>4.525373</td>\n",
       "      <td>3.660703</td>\n",
       "      <td>0.311372</td>\n",
       "      <td>38.888660</td>\n",
       "      <td>00:05</td>\n",
       "    </tr>\n",
       "  </tbody>\n",
       "</table>"
      ],
      "text/plain": [
       "<IPython.core.display.HTML object>"
      ]
     },
     "metadata": {},
     "output_type": "display_data"
    },
    {
     "data": {
      "text/html": [
       "<table border=\"1\" class=\"dataframe\">\n",
       "  <thead>\n",
       "    <tr style=\"text-align: left;\">\n",
       "      <th>epoch</th>\n",
       "      <th>train_loss</th>\n",
       "      <th>valid_loss</th>\n",
       "      <th>accuracy</th>\n",
       "      <th>perplexity</th>\n",
       "      <th>time</th>\n",
       "    </tr>\n",
       "  </thead>\n",
       "  <tbody>\n",
       "    <tr>\n",
       "      <td>0</td>\n",
       "      <td>3.243450</td>\n",
       "      <td>3.416777</td>\n",
       "      <td>0.343989</td>\n",
       "      <td>30.471039</td>\n",
       "      <td>00:07</td>\n",
       "    </tr>\n",
       "    <tr>\n",
       "      <td>1</td>\n",
       "      <td>3.001476</td>\n",
       "      <td>3.380710</td>\n",
       "      <td>0.345291</td>\n",
       "      <td>29.391621</td>\n",
       "      <td>00:07</td>\n",
       "    </tr>\n",
       "    <tr>\n",
       "      <td>2</td>\n",
       "      <td>2.658143</td>\n",
       "      <td>3.425405</td>\n",
       "      <td>0.359332</td>\n",
       "      <td>30.735083</td>\n",
       "      <td>00:07</td>\n",
       "    </tr>\n",
       "    <tr>\n",
       "      <td>3</td>\n",
       "      <td>2.309782</td>\n",
       "      <td>3.540214</td>\n",
       "      <td>0.360525</td>\n",
       "      <td>34.474289</td>\n",
       "      <td>00:07</td>\n",
       "    </tr>\n",
       "  </tbody>\n",
       "</table>"
      ],
      "text/plain": [
       "<IPython.core.display.HTML object>"
      ]
     },
     "metadata": {},
     "output_type": "display_data"
    }
   ],
   "source": [
    "# Fine tuning the language model based on the datablock which would enable in predicting the next word in a sentence for the Amazon Reviews dataset specifically\n",
    "learn_model.fine_tune(4, 1e-1)"
   ]
  },
  {
   "cell_type": "code",
   "execution_count": 351,
   "metadata": {
    "gradient": {}
   },
   "outputs": [],
   "source": [
    "# Save the encoder that understands the intricate language semantics of our dataset\n",
    "learn_model.save_encoder('finetuned_encoder')"
   ]
  },
  {
   "cell_type": "code",
   "execution_count": 352,
   "metadata": {
    "gradient": {}
   },
   "outputs": [
    {
     "data": {
      "text/plain": [
       "<fastai.text.learner.LMLearner at 0x7f6833293190>"
      ]
     },
     "execution_count": 352,
     "metadata": {},
     "output_type": "execute_result"
    }
   ],
   "source": [
    "# Load the encoder that understands the intricate language semantics of our dataset\n",
    "learn_model.load_encoder('finetuned_encoder')"
   ]
  },
  {
   "cell_type": "code",
   "execution_count": 353,
   "metadata": {
    "gradient": {
     "source_hidden": false
    }
   },
   "outputs": [
    {
     "data": {
      "text/html": [],
      "text/plain": [
       "<IPython.core.display.HTML object>"
      ]
     },
     "metadata": {},
     "output_type": "display_data"
    },
    {
     "data": {
      "text/plain": [
       "'This laptop was horrible because the Virus Virus Two - year - old will likely to virus from everyone in America , # uselections You are the only president'"
      ]
     },
     "execution_count": 353,
     "metadata": {},
     "output_type": "execute_result"
    }
   ],
   "source": [
    "# Predict the full sentence of a negative prompt using our trained language model\n",
    "learn_model.predict(\"This laptop was horrible because\", 30, temperature=0.80)"
   ]
  },
  {
   "cell_type": "code",
   "execution_count": 354,
   "metadata": {
    "gradient": {
     "source_hidden": false
    }
   },
   "outputs": [
    {
     "data": {
      "text/html": [],
      "text/plain": [
       "<IPython.core.display.HTML object>"
      ]
     },
     "metadata": {},
     "output_type": "display_data"
    },
    {
     "data": {
      "text/plain": [
       "\"i absolutely loved this xxunk because of her . So i knows the results , and i hope we 'll see changes soon in my\""
      ]
     },
     "execution_count": 354,
     "metadata": {},
     "output_type": "execute_result"
    }
   ],
   "source": [
    "# Predict the full sentence of a positive prompt using our trained language model\n",
    "learn_model.predict(\"I absolutely loved this dress because\", 20, temperature=0.80)"
   ]
  },
  {
   "cell_type": "code",
   "execution_count": 237,
   "metadata": {
    "gradient": {
     "source_hidden": false
    }
   },
   "outputs": [
    {
     "name": "stdout",
     "output_type": "stream",
     "text": [
      "Requirement already up-to-date: nltk in /opt/conda/envs/fastai/lib/python3.8/site-packages (3.5)\n",
      "Requirement already satisfied, skipping upgrade: click in /opt/conda/envs/fastai/lib/python3.8/site-packages (from nltk) (7.1.2)\n",
      "Requirement already satisfied, skipping upgrade: tqdm in /opt/conda/envs/fastai/lib/python3.8/site-packages (from nltk) (4.52.0)\n",
      "Requirement already satisfied, skipping upgrade: joblib in /opt/conda/envs/fastai/lib/python3.8/site-packages (from nltk) (0.17.0)\n",
      "Requirement already satisfied, skipping upgrade: regex in /opt/conda/envs/fastai/lib/python3.8/site-packages (from nltk) (2021.3.17)\n"
     ]
    }
   ],
   "source": [
    "# Download necessary libraries for Easy Data Augmentation (EDA)\n",
    "!pip install -U nltk"
   ]
  },
  {
   "cell_type": "code",
   "execution_count": 238,
   "metadata": {
    "gradient": {
     "source_hidden": false
    }
   },
   "outputs": [
    {
     "name": "stderr",
     "output_type": "stream",
     "text": [
      "[nltk_data] Downloading package wordnet to /root/nltk_data...\n",
      "[nltk_data]   Package wordnet is already up-to-date!\n"
     ]
    },
    {
     "data": {
      "text/plain": [
       "True"
      ]
     },
     "execution_count": 238,
     "metadata": {},
     "output_type": "execute_result"
    }
   ],
   "source": [
    "# Download necessary libraries for Easy Data Augmentation (EDA)\n",
    "import nltk\n",
    "nltk.download('wordnet')"
   ]
  },
  {
   "cell_type": "code",
   "execution_count": 355,
   "metadata": {
    "gradient": {
     "source_hidden": false
    }
   },
   "outputs": [
    {
     "data": {
      "text/html": [
       "<div>\n",
       "<style scoped>\n",
       "    .dataframe tbody tr th:only-of-type {\n",
       "        vertical-align: middle;\n",
       "    }\n",
       "\n",
       "    .dataframe tbody tr th {\n",
       "        vertical-align: top;\n",
       "    }\n",
       "\n",
       "    .dataframe thead th {\n",
       "        text-align: right;\n",
       "    }\n",
       "</style>\n",
       "<table border=\"1\" class=\"dataframe\">\n",
       "  <thead>\n",
       "    <tr style=\"text-align: right;\">\n",
       "      <th></th>\n",
       "      <th>classes</th>\n",
       "      <th>content</th>\n",
       "    </tr>\n",
       "  </thead>\n",
       "  <tbody>\n",
       "    <tr>\n",
       "      <th>0</th>\n",
       "      <td>Neutral</td>\n",
       "      <td>On Trump's superiority theory: https://t.co/esMRt1OLEd</td>\n",
       "    </tr>\n",
       "    <tr>\n",
       "      <th>1</th>\n",
       "      <td>Neutral</td>\n",
       "      <td>Nice day all! Whatever happens with whatever.. #No1knows Now,that #trump goes its way,#virus is to follow pretty soon,I guess And what i guess,never happens.. 🙄 Just make sure that entire flat had been painted + restored,before the virus ends. Otherwise you will never do it.. 🙂 https://t.co/OxLQZ3KgYP</td>\n",
       "    </tr>\n",
       "    <tr>\n",
       "      <th>2</th>\n",
       "      <td>Neutral</td>\n",
       "      <td>Donald Trump...... what a guy</td>\n",
       "    </tr>\n",
       "    <tr>\n",
       "      <th>3</th>\n",
       "      <td>Pro_Trump</td>\n",
       "      <td>@JoeBiden Hi Mr.president ... may I ask you sth that you can do it easily, please remove some fucking restrictions of Instagram in Iran ... we are suffocating under the pressure of fucking politicians game, the people is innocent and only sacrificing 😞😓 Tnx for ur consideration</td>\n",
       "    </tr>\n",
       "    <tr>\n",
       "      <th>4</th>\n",
       "      <td>Neutral</td>\n",
       "      <td>@JoeBiden, urge you to respect international law. Otherwise, youâ€™re violating int. law, human rights and refugee rights. Research before you state this conflict! Those who violate int. law and support state terror cannot be selected as US president! #terrorism #USElection #biden https://t.co/Bzq8eHjMYP</td>\n",
       "    </tr>\n",
       "  </tbody>\n",
       "</table>\n",
       "</div>"
      ],
      "text/plain": [
       "     classes  \\\n",
       "0    Neutral   \n",
       "1    Neutral   \n",
       "2    Neutral   \n",
       "3  Pro_Trump   \n",
       "4    Neutral   \n",
       "\n",
       "                                                                                                                                                                                                                                                                                                             content  \n",
       "0                                                                                                                                                                                                                                                             On Trump's superiority theory: https://t.co/esMRt1OLEd  \n",
       "1     Nice day all! Whatever happens with whatever.. #No1knows Now,that #trump goes its way,#virus is to follow pretty soon,I guess And what i guess,never happens.. 🙄 Just make sure that entire flat had been painted + restored,before the virus ends. Otherwise you will never do it.. 🙂 https://t.co/OxLQZ3KgYP  \n",
       "2                                                                                                                                                                                                                                                                                      Donald Trump...... what a guy  \n",
       "3                             @JoeBiden Hi Mr.president ... may I ask you sth that you can do it easily, please remove some fucking restrictions of Instagram in Iran ... we are suffocating under the pressure of fucking politicians game, the people is innocent and only sacrificing 😞😓 Tnx for ur consideration  \n",
       "4  @JoeBiden, urge you to respect international law. Otherwise, youâ€™re violating int. law, human rights and refugee rights. Research before you state this conflict! Those who violate int. law and support state terror cannot be selected as US president! #terrorism #USElection #biden https://t.co/Bzq8eHjMYP  "
      ]
     },
     "execution_count": 355,
     "metadata": {},
     "output_type": "execute_result"
    }
   ],
   "source": [
    "# Make new dataframe containing 10x less data than the train dataset because EDA would generate new data from lesser existing data\n",
    "eda = pd.read_csv('train.csv')\n",
    "eda = eda[[\"classes\", \"content\"]]\n",
    "eda.head()"
   ]
  },
  {
   "cell_type": "code",
   "execution_count": 356,
   "metadata": {
    "gradient": {
     "source_hidden": false
    }
   },
   "outputs": [],
   "source": [
    "# Convert csv to txt file required for EDA to run\n",
    "eda.to_csv('train2.txt', header=False, index=False, sep='\\t', mode='a')"
   ]
  },
  {
   "cell_type": "code",
   "execution_count": 357,
   "metadata": {
    "gradient": {
     "source_hidden": false
    }
   },
   "outputs": [
    {
     "name": "stdout",
     "output_type": "stream",
     "text": [
      "generated augmented sentences with eda for eda_nlp/data/train2.txt to eda_nlp/data/eda_train2.txt with num_aug=10\n"
     ]
    }
   ],
   "source": [
    "# Run the python command for EDA with 10 new augmentations per existing tweet and perform all 4 augmentations with its default alpha values as stated in the research paper\n",
    "%run eda_nlp/code/augment.py --input=eda_nlp/data/train2.txt --num_aug=10 --alpha_sr=0.05 --alpha_rd=0.00 --alpha_ri=0.05 --alpha_rs=0.05"
   ]
  },
  {
   "cell_type": "code",
   "execution_count": 358,
   "metadata": {
    "gradient": {
     "source_hidden": false
    }
   },
   "outputs": [],
   "source": [
    "# Convert txt to csv and replace train dataset with new EDA data\n",
    "train = pd.read_csv('eda_train2.txt', delimiter=\"\\t\", header=None, names=[\"classes\", \"content\"])"
   ]
  },
  {
   "cell_type": "code",
   "execution_count": 317,
   "metadata": {},
   "outputs": [],
   "source": [
    "# train = train[[\"classes\", \"content\"]]"
   ]
  },
  {
   "cell_type": "code",
   "execution_count": 359,
   "metadata": {
    "gradient": {
     "source_hidden": false
    }
   },
   "outputs": [
    {
     "data": {
      "text/html": [
       "<div>\n",
       "<style scoped>\n",
       "    .dataframe tbody tr th:only-of-type {\n",
       "        vertical-align: middle;\n",
       "    }\n",
       "\n",
       "    .dataframe tbody tr th {\n",
       "        vertical-align: top;\n",
       "    }\n",
       "\n",
       "    .dataframe thead th {\n",
       "        text-align: right;\n",
       "    }\n",
       "</style>\n",
       "<table border=\"1\" class=\"dataframe\">\n",
       "  <thead>\n",
       "    <tr style=\"text-align: right;\">\n",
       "      <th></th>\n",
       "      <th>classes</th>\n",
       "      <th>content</th>\n",
       "    </tr>\n",
       "  </thead>\n",
       "  <tbody>\n",
       "    <tr>\n",
       "      <th>0</th>\n",
       "      <td>Neutral</td>\n",
       "      <td>on trumps transcendency theory https t co esmrt oled</td>\n",
       "    </tr>\n",
       "    <tr>\n",
       "      <th>1</th>\n",
       "      <td>Neutral</td>\n",
       "      <td>on trumps superiority theory https t co organic light emitting diode esmrt oled</td>\n",
       "    </tr>\n",
       "    <tr>\n",
       "      <th>2</th>\n",
       "      <td>Neutral</td>\n",
       "      <td>on oled superiority theory https t co esmrt trumps</td>\n",
       "    </tr>\n",
       "    <tr>\n",
       "      <th>3</th>\n",
       "      <td>Neutral</td>\n",
       "      <td>on trumps t theory https superiority co esmrt oled</td>\n",
       "    </tr>\n",
       "    <tr>\n",
       "      <th>4</th>\n",
       "      <td>Neutral</td>\n",
       "      <td>on transcendency trumps superiority theory https t co esmrt oled</td>\n",
       "    </tr>\n",
       "  </tbody>\n",
       "</table>\n",
       "</div>"
      ],
      "text/plain": [
       "   classes  \\\n",
       "0  Neutral   \n",
       "1  Neutral   \n",
       "2  Neutral   \n",
       "3  Neutral   \n",
       "4  Neutral   \n",
       "\n",
       "                                                                           content  \n",
       "0                             on trumps transcendency theory https t co esmrt oled  \n",
       "1  on trumps superiority theory https t co organic light emitting diode esmrt oled  \n",
       "2                               on oled superiority theory https t co esmrt trumps  \n",
       "3                               on trumps t theory https superiority co esmrt oled  \n",
       "4                 on transcendency trumps superiority theory https t co esmrt oled  "
      ]
     },
     "execution_count": 359,
     "metadata": {},
     "output_type": "execute_result"
    }
   ],
   "source": [
    "# Check data to see if each data point is repeated 3 times, first is original and the next 2 are augmentations\n",
    "train.head()"
   ]
  },
  {
   "cell_type": "code",
   "execution_count": 360,
   "metadata": {
    "gradient": {
     "source_hidden": false
    }
   },
   "outputs": [],
   "source": [
    "# Create the datablock for the classifier now splitting the dataset into 80% train and 20% validation\n",
    "blocks = (TextBlock.from_df('content', seq_len=data_lm.seq_len, vocab=data_lm.vocab), CategoryBlock())\n",
    "data_classifier = DataBlock(blocks=blocks,\n",
    "                get_x=ColReader('text'),\n",
    "                get_y=ColReader('classes'),\n",
    "                splitter=RandomSplitter(0.2))"
   ]
  },
  {
   "cell_type": "code",
   "execution_count": 361,
   "metadata": {
    "gradient": {
     "source_hidden": false
    }
   },
   "outputs": [
    {
     "data": {
      "text/html": [],
      "text/plain": [
       "<IPython.core.display.HTML object>"
      ]
     },
     "metadata": {},
     "output_type": "display_data"
    }
   ],
   "source": [
    "# Perform tokenization and numericalization of the loaded data automatically\n",
    "data_classifier = data_classifier.dataloaders(train, bs=64)"
   ]
  },
  {
   "cell_type": "code",
   "execution_count": 362,
   "metadata": {
    "gradient": {
     "source_hidden": false
    }
   },
   "outputs": [
    {
     "data": {
      "text/html": [
       "<table border=\"1\" class=\"dataframe\">\n",
       "  <thead>\n",
       "    <tr style=\"text-align: right;\">\n",
       "      <th></th>\n",
       "      <th>text</th>\n",
       "      <th>category</th>\n",
       "    </tr>\n",
       "  </thead>\n",
       "  <tbody>\n",
       "    <tr>\n",
       "      <th>0</th>\n",
       "      <td>xxbos in that xxunk xxunk a the supreme court does not xxunk say when its over a case has to rise to the supreme court and they have to accept xxunk on the case there is nothing in this election that will get there since the only xxunk is xxunk late ballots in pa and biden does no need them https t xxunk xxunk n xxunk</td>\n",
       "      <td>Neutral</td>\n",
       "    </tr>\n",
       "    <tr>\n",
       "      <th>1</th>\n",
       "      <td>xxbos xxunk mr donald usa trump we love you too much i had a dream that you xxunk win in elections i m sure you xxunk win so xxunk congratulations i m very big fan of your son of donald trump jr i love him too much my dream to visit america and to xxunk with him xxunk donaldtrump https t xxunk xxunk xxunk</td>\n",
       "      <td>Pro_Trump</td>\n",
       "    </tr>\n",
       "    <tr>\n",
       "      <th>2</th>\n",
       "      <td>xxbos xxunk a the supreme court does not xxunk when its over a case has to rise to the supreme court and they have to take over xxunk on the case there is nothing in this election that will get there since the only xxunk is late ballots in public address system and biden does no need them https t xxunk xxunk n xxunk</td>\n",
       "      <td>Neutral</td>\n",
       "    </tr>\n",
       "    <tr>\n",
       "      <th>3</th>\n",
       "      <td>xxbos i do nt agree with what you say he is not fighting much for the people he xxunk does not care about many of them he is xxunk the majority of the xxunk us people pay the xxunk xxunk when we get again years trump barack xxunk much more for the people donald it xxunk down again https t xxunk xxunk xxunk</td>\n",
       "      <td>Pro_Biden</td>\n",
       "    </tr>\n",
       "    <tr>\n",
       "      <th>4</th>\n",
       "      <td>xxbos i do nt agree with what you say he is not fighting much for the people he does not care about many of them xxunk he is xxunk the majority of the xxunk us people pay the xxunk when we get again years trump barack xxunk xxunk much more for the people donald it xxunk down again https t xxunk xxunk xxunk</td>\n",
       "      <td>Pro_Biden</td>\n",
       "    </tr>\n",
       "  </tbody>\n",
       "</table>"
      ],
      "text/plain": [
       "<IPython.core.display.HTML object>"
      ]
     },
     "metadata": {},
     "output_type": "display_data"
    }
   ],
   "source": [
    "# Randomly show 5 of the rows from the classifier\n",
    "data_classifier.show_batch(max_n=5)"
   ]
  },
  {
   "cell_type": "code",
   "execution_count": 363,
   "metadata": {
    "gradient": {
     "source_hidden": false
    }
   },
   "outputs": [],
   "source": [
    "# Defining the LSTM architecture of the train model and the metrics used to acertain its accuracy\n",
    "learn_model = text_classifier_learner(data_classifier, AWD_LSTM, metrics=[accuracy, F1Score(average=\"micro\")], drop_mult=0.1)\n"
   ]
  },
  {
   "cell_type": "code",
   "execution_count": 364,
   "metadata": {
    "gradient": {
     "source_hidden": false
    }
   },
   "outputs": [
    {
     "data": {
      "text/plain": [
       "<fastai.text.learner.TextLearner at 0x7f68314947f0>"
      ]
     },
     "execution_count": 364,
     "metadata": {},
     "output_type": "execute_result"
    }
   ],
   "source": [
    "# Load up the previously trained language model encoder\n",
    "learn_model.load_encoder('finetuned_encoder')"
   ]
  },
  {
   "cell_type": "code",
   "execution_count": 365,
   "metadata": {
    "gradient": {
     "source_hidden": false
    }
   },
   "outputs": [
    {
     "data": {
      "text/html": [],
      "text/plain": [
       "<IPython.core.display.HTML object>"
      ]
     },
     "metadata": {},
     "output_type": "display_data"
    },
    {
     "data": {
      "text/plain": [
       "SuggestedLRs(lr_min=0.02089296132326126, lr_steep=0.0063095735386013985)"
      ]
     },
     "execution_count": 365,
     "metadata": {},
     "output_type": "execute_result"
    },
    {
     "data": {
      "image/png": "[encoded data removed]",
      "text/plain": [
       "<Figure size 432x288 with 1 Axes>"
      ]
     },
     "metadata": {
      "needs_background": "light"
     },
     "output_type": "display_data"
    }
   ],
   "source": [
    "# Find the best learning rate for training the classifer\n",
    "learn_model.lr_find()"
   ]
  },
  {
   "cell_type": "code",
   "execution_count": 366,
   "metadata": {
    "gradient": {}
   },
   "outputs": [
    {
     "data": {
      "text/html": [
       "<table border=\"1\" class=\"dataframe\">\n",
       "  <thead>\n",
       "    <tr style=\"text-align: left;\">\n",
       "      <th>epoch</th>\n",
       "      <th>train_loss</th>\n",
       "      <th>valid_loss</th>\n",
       "      <th>accuracy</th>\n",
       "      <th>f1_score</th>\n",
       "      <th>time</th>\n",
       "    </tr>\n",
       "  </thead>\n",
       "  <tbody>\n",
       "    <tr>\n",
       "      <td>0</td>\n",
       "      <td>0.768575</td>\n",
       "      <td>0.513330</td>\n",
       "      <td>0.808542</td>\n",
       "      <td>0.808542</td>\n",
       "      <td>00:18</td>\n",
       "    </tr>\n",
       "  </tbody>\n",
       "</table>"
      ],
      "text/plain": [
       "<IPython.core.display.HTML object>"
      ]
     },
     "metadata": {},
     "output_type": "display_data"
    }
   ],
   "source": [
    "# Train the model one epoch with the min learning rate from previous step\n",
    "learn_model.fit_one_cycle(1, 2e-2)"
   ]
  },
  {
   "cell_type": "code",
   "execution_count": 367,
   "metadata": {
    "gradient": {}
   },
   "outputs": [
    {
     "data": {
      "text/html": [
       "<table border=\"1\" class=\"dataframe\">\n",
       "  <thead>\n",
       "    <tr style=\"text-align: left;\">\n",
       "      <th>epoch</th>\n",
       "      <th>train_loss</th>\n",
       "      <th>valid_loss</th>\n",
       "      <th>accuracy</th>\n",
       "      <th>f1_score</th>\n",
       "      <th>time</th>\n",
       "    </tr>\n",
       "  </thead>\n",
       "  <tbody>\n",
       "    <tr>\n",
       "      <td>0</td>\n",
       "      <td>0.308788</td>\n",
       "      <td>0.121927</td>\n",
       "      <td>0.963974</td>\n",
       "      <td>0.963974</td>\n",
       "      <td>00:20</td>\n",
       "    </tr>\n",
       "  </tbody>\n",
       "</table>"
      ],
      "text/plain": [
       "<IPython.core.display.HTML object>"
      ]
     },
     "metadata": {},
     "output_type": "display_data"
    }
   ],
   "source": [
    "# Freeze all the layers in the model except for the last two and train again with a smaller learning rate, the sliced values follows the instructions as per Jeremy Howard's FastAI course\n",
    "learn_model.freeze_to(-2)\n",
    "learn_model.fit_one_cycle(1, slice(2e-2/(2.6**4), 2e-2))"
   ]
  },
  {
   "cell_type": "code",
   "execution_count": 368,
   "metadata": {
    "gradient": {}
   },
   "outputs": [
    {
     "data": {
      "text/html": [
       "<table border=\"1\" class=\"dataframe\">\n",
       "  <thead>\n",
       "    <tr style=\"text-align: left;\">\n",
       "      <th>epoch</th>\n",
       "      <th>train_loss</th>\n",
       "      <th>valid_loss</th>\n",
       "      <th>accuracy</th>\n",
       "      <th>f1_score</th>\n",
       "      <th>time</th>\n",
       "    </tr>\n",
       "  </thead>\n",
       "  <tbody>\n",
       "    <tr>\n",
       "      <td>0</td>\n",
       "      <td>0.095999</td>\n",
       "      <td>0.044279</td>\n",
       "      <td>0.986636</td>\n",
       "      <td>0.986636</td>\n",
       "      <td>00:30</td>\n",
       "    </tr>\n",
       "  </tbody>\n",
       "</table>"
      ],
      "text/plain": [
       "<IPython.core.display.HTML object>"
      ]
     },
     "metadata": {},
     "output_type": "display_data"
    }
   ],
   "source": [
    "# Freeze all the layers in the model except for the last three and train again with a smaller learning rate, the sliced values follows the instructions as per Jeremy Howard's FastAI course\n",
    "learn_model.freeze_to(-3)\n",
    "learn_model.fit_one_cycle(1, slice(5e-3/(2.6**4),5e-3))"
   ]
  },
  {
   "cell_type": "code",
   "execution_count": 369,
   "metadata": {
    "gradient": {}
   },
   "outputs": [
    {
     "data": {
      "text/html": [
       "<table border=\"1\" class=\"dataframe\">\n",
       "  <thead>\n",
       "    <tr style=\"text-align: left;\">\n",
       "      <th>epoch</th>\n",
       "      <th>train_loss</th>\n",
       "      <th>valid_loss</th>\n",
       "      <th>accuracy</th>\n",
       "      <th>f1_score</th>\n",
       "      <th>time</th>\n",
       "    </tr>\n",
       "  </thead>\n",
       "  <tbody>\n",
       "    <tr>\n",
       "      <td>0</td>\n",
       "      <td>0.049525</td>\n",
       "      <td>0.034271</td>\n",
       "      <td>0.988960</td>\n",
       "      <td>0.988960</td>\n",
       "      <td>00:38</td>\n",
       "    </tr>\n",
       "    <tr>\n",
       "      <td>1</td>\n",
       "      <td>0.035538</td>\n",
       "      <td>0.030785</td>\n",
       "      <td>0.991284</td>\n",
       "      <td>0.991284</td>\n",
       "      <td>00:38</td>\n",
       "    </tr>\n",
       "    <tr>\n",
       "      <td>2</td>\n",
       "      <td>0.020503</td>\n",
       "      <td>0.022382</td>\n",
       "      <td>0.994189</td>\n",
       "      <td>0.994189</td>\n",
       "      <td>00:38</td>\n",
       "    </tr>\n",
       "    <tr>\n",
       "      <td>3</td>\n",
       "      <td>0.018317</td>\n",
       "      <td>0.019581</td>\n",
       "      <td>0.994770</td>\n",
       "      <td>0.994770</td>\n",
       "      <td>00:38</td>\n",
       "    </tr>\n",
       "    <tr>\n",
       "      <td>4</td>\n",
       "      <td>0.013616</td>\n",
       "      <td>0.020740</td>\n",
       "      <td>0.994189</td>\n",
       "      <td>0.994189</td>\n",
       "      <td>00:38</td>\n",
       "    </tr>\n",
       "  </tbody>\n",
       "</table>"
      ],
      "text/plain": [
       "<IPython.core.display.HTML object>"
      ]
     },
     "metadata": {},
     "output_type": "display_data"
    }
   ],
   "source": [
    "# Unfreeze all the layers in the model and train again with a smaller learning rate, the sliced values follows the instructions as per Jeremy Howard's FastAI course\n",
    "learn_model.unfreeze()\n",
    "learn_model.fit_one_cycle(5, slice(1e-3/(2.6**4),1e-3))"
   ]
  },
  {
   "cell_type": "code",
   "execution_count": 370,
   "metadata": {
    "gradient": {
     "source_hidden": false
    }
   },
   "outputs": [
    {
     "data": {
      "text/plain": [
       "Path('models/trained_model_eda.pth')"
      ]
     },
     "execution_count": 370,
     "metadata": {},
     "output_type": "execute_result"
    }
   ],
   "source": [
    "# Save the final trained model\n",
    "learn_model.save('trained_model_eda')"
   ]
  },
  {
   "cell_type": "code",
   "execution_count": 371,
   "metadata": {
    "gradient": {
     "source_hidden": false
    }
   },
   "outputs": [],
   "source": [
    "# Export the final trained model\n",
    "learn_model.export()"
   ]
  },
  {
   "cell_type": "code",
   "execution_count": 372,
   "metadata": {
    "gradient": {
     "source_hidden": false
    }
   },
   "outputs": [
    {
     "data": {
      "text/plain": [
       "<fastai.text.learner.TextLearner at 0x7f68314947f0>"
      ]
     },
     "execution_count": 372,
     "metadata": {},
     "output_type": "execute_result"
    }
   ],
   "source": [
    "# Load the final trained model\n",
    "learn_model.load('trained_model_eda')"
   ]
  },
  {
   "cell_type": "code",
   "execution_count": 332,
   "metadata": {
    "gradient": {
     "source_hidden": false
    }
   },
   "outputs": [
    {
     "data": {
      "text/plain": [
       "<AxesSubplot:>"
      ]
     },
     "execution_count": 332,
     "metadata": {},
     "output_type": "execute_result"
    },
    {
     "data": {
      "image/png": "[encoded data removed]",
      "text/plain": [
       "<Figure size 432x288 with 1 Axes>"
      ]
     },
     "metadata": {
      "needs_background": "light"
     },
     "output_type": "display_data"
    }
   ],
   "source": [
    "test['one_hot_labels'].value_counts().plot(kind='bar')"
   ]
  },
  {
   "cell_type": "code",
   "execution_count": 373,
   "metadata": {},
   "outputs": [
    {
     "data": {
      "text/html": [],
      "text/plain": [
       "<IPython.core.display.HTML object>"
      ]
     },
     "metadata": {},
     "output_type": "display_data"
    },
    {
     "data": {
      "text/html": [
       "<table border=\"1\" class=\"dataframe\">\n",
       "  <thead>\n",
       "    <tr style=\"text-align: right;\">\n",
       "      <th></th>\n",
       "      <th>text</th>\n",
       "      <th>category</th>\n",
       "      <th>category_</th>\n",
       "    </tr>\n",
       "  </thead>\n",
       "  <tbody>\n",
       "    <tr>\n",
       "      <th>0</th>\n",
       "      <td>xxbos xxunk a the supreme court does not say when its over a case has to rise to the supreme court and they have to accept xxunk on the case there is nothing in this election xxunk that will get there since the only xxunk xxunk xxunk is late ballots in pa and biden does no xxunk need them https t xxunk xxunk n xxunk</td>\n",
       "      <td>Neutral</td>\n",
       "      <td>Neutral</td>\n",
       "    </tr>\n",
       "    <tr>\n",
       "      <th>1</th>\n",
       "      <td>xxbos i do nt xxunk with what you say he is not fighting a good deal for the people he does not care about many of them he is xxunk the majority of the xxunk us people pay the xxunk when we get again years trump barack xxunk a good deal more for the people donald it xxunk down again https t xxunk xxunk xxunk</td>\n",
       "      <td>Pro_Biden</td>\n",
       "      <td>Pro_Biden</td>\n",
       "    </tr>\n",
       "    <tr>\n",
       "      <th>2</th>\n",
       "      <td>xxbos xxunk well xxunk i wish you the best in this then try to remember what your a good deal life was like in now and see how much better worse it is under biden try to have an open mind and lead with good positive example as always treat others the way you would like to be treated be a xxunk of hope</td>\n",
       "      <td>Neutral</td>\n",
       "      <td>Neutral</td>\n",
       "    </tr>\n",
       "    <tr>\n",
       "      <th>3</th>\n",
       "      <td>xxbos i was xxunk so xxunk to hear one of my xxunk kids ask if i supported trump or biden i said biden and she asked me why i wanted to say xxunk he s a xxunk who fucked up my country and xxunk xxunk lives but i xxunk my xxunk and gave my kid xxunk xxunk xxunk he s life time stupid xxunk</td>\n",
       "      <td>Pro_Trump</td>\n",
       "      <td>Pro_Trump</td>\n",
       "    </tr>\n",
       "    <tr>\n",
       "      <th>4</th>\n",
       "      <td>xxbos xxunk a the supreme court does not say when its over a case has to rise to the supreme court and they have to xxunk accept xxunk on the case there is nothing in this election that will get there since the only xxunk is late along ballots in pa and biden it does no need them https t xxunk xxunk n xxunk</td>\n",
       "      <td>Neutral</td>\n",
       "      <td>Neutral</td>\n",
       "    </tr>\n",
       "    <tr>\n",
       "      <th>5</th>\n",
       "      <td>xxbos xxunk xxunk trump would nt beat biden in any uk xxunk damn right he would nt as its a us election not a uk good one but there is much support for trump in the uk just not much media support actually probably not any but in that xxunk they are doing exactly what the xxunk do in the us maga</td>\n",
       "      <td>Pro_Biden</td>\n",
       "      <td>Pro_Biden</td>\n",
       "    </tr>\n",
       "    <tr>\n",
       "      <th>6</th>\n",
       "      <td>xxbos xxunk mr donald trump we love you too much i had a dream that you xxunk too in elections i m sure so win you xxunk congratulations i m very big fan of your son of donald trump jr i love him win much my dream to visit america and to xxunk with him xxunk donaldtrump https t xxunk xxunk xxunk</td>\n",
       "      <td>Pro_Trump</td>\n",
       "      <td>Pro_Trump</td>\n",
       "    </tr>\n",
       "    <tr>\n",
       "      <th>7</th>\n",
       "      <td>xxbos xxunk mr donald trump we love you too much i had a dream that you xxunk win in elections i m sure you xxunk win so congratulations i m very big fan of your son of donald trump jr i love him too much my dream to visit america and to xxunk with him xxunk donaldtrump https t xxunk xxunk xxunk</td>\n",
       "      <td>Pro_Trump</td>\n",
       "      <td>Pro_Trump</td>\n",
       "    </tr>\n",
       "    <tr>\n",
       "      <th>8</th>\n",
       "      <td>xxbos xxunk my xxunk my dream my prince dear donald trump indeed jr happy thanksgiving day to you wish you xxunk and happiness i love you so much i love your beautiful eyes i love your beautiful smile so much this is xxunk true love this is big love i love you xxunk thanksgiving https t xxunk xxunk xxunk xxunk e</td>\n",
       "      <td>Pro_Trump</td>\n",
       "      <td>Pro_Trump</td>\n",
       "    </tr>\n",
       "  </tbody>\n",
       "</table>"
      ],
      "text/plain": [
       "<IPython.core.display.HTML object>"
      ]
     },
     "metadata": {},
     "output_type": "display_data"
    }
   ],
   "source": [
    "learn_model.show_results()"
   ]
  },
  {
   "cell_type": "code",
   "execution_count": 374,
   "metadata": {},
   "outputs": [
    {
     "data": {
      "text/html": [],
      "text/plain": [
       "<IPython.core.display.HTML object>"
      ]
     },
     "metadata": {},
     "output_type": "display_data"
    }
   ],
   "source": [
    "interp = ClassificationInterpretation.from_learner(learn_model)"
   ]
  },
  {
   "cell_type": "code",
   "execution_count": 375,
   "metadata": {},
   "outputs": [
    {
     "data": {
      "image/png": "[encoded data removed]",
      "text/plain": [
       "<Figure size 432x288 with 1 Axes>"
      ]
     },
     "metadata": {
      "needs_background": "light"
     },
     "output_type": "display_data"
    }
   ],
   "source": [
    "interp.plot_confusion_matrix()"
   ]
  },
  {
   "cell_type": "code",
   "execution_count": 376,
   "metadata": {},
   "outputs": [
    {
     "data": {
      "text/html": [
       "<table border=\"1\" class=\"dataframe\">\n",
       "  <thead>\n",
       "    <tr style=\"text-align: right;\">\n",
       "      <th></th>\n",
       "      <th>input</th>\n",
       "      <th>target</th>\n",
       "      <th>predicted</th>\n",
       "      <th>probability</th>\n",
       "      <th>loss</th>\n",
       "    </tr>\n",
       "  </thead>\n",
       "  <tbody>\n",
       "    <tr>\n",
       "      <th>0</th>\n",
       "      <td>xxbos xxunk xxunk uselections byebyetrump https t xxunk xxunk xxunk</td>\n",
       "      <td>Neutral</td>\n",
       "      <td>Pro_Biden</td>\n",
       "      <td>0.9998778104782104</td>\n",
       "      <td>9.017216682434082</td>\n",
       "    </tr>\n",
       "    <tr>\n",
       "      <th>1</th>\n",
       "      <td>xxbos on back joebiden xxunk xxunk</td>\n",
       "      <td>Pro_Trump</td>\n",
       "      <td>Neutral</td>\n",
       "      <td>0.7988727688789368</td>\n",
       "      <td>4.504610061645508</td>\n",
       "    </tr>\n",
       "    <tr>\n",
       "      <th>2</th>\n",
       "      <td>xxbos xxunk makeamericagreatagain xxunk https t xxunk xxunk xxunk xxunk</td>\n",
       "      <td>Pro_Trump</td>\n",
       "      <td>Neutral</td>\n",
       "      <td>0.980010986328125</td>\n",
       "      <td>4.192615032196045</td>\n",
       "    </tr>\n",
       "    <tr>\n",
       "      <th>3</th>\n",
       "      <td>xxbos joebiden xxunk is back</td>\n",
       "      <td>Neutral</td>\n",
       "      <td>Pro_Biden</td>\n",
       "      <td>0.9762766361236572</td>\n",
       "      <td>3.855774402618408</td>\n",
       "    </tr>\n",
       "    <tr>\n",
       "      <th>4</th>\n",
       "      <td>xxbos is who xxunk biden trump</td>\n",
       "      <td>Pro_Biden</td>\n",
       "      <td>Neutral</td>\n",
       "      <td>0.9067657589912415</td>\n",
       "      <td>3.067262887954712</td>\n",
       "    </tr>\n",
       "  </tbody>\n",
       "</table>"
      ],
      "text/plain": [
       "<IPython.core.display.HTML object>"
      ]
     },
     "metadata": {},
     "output_type": "display_data"
    }
   ],
   "source": [
    "interp.plot_top_losses(5, nrows=5)"
   ]
  },
  {
   "cell_type": "code",
   "execution_count": 377,
   "metadata": {},
   "outputs": [
    {
     "data": {
      "text/html": [],
      "text/plain": [
       "<IPython.core.display.HTML object>"
      ]
     },
     "metadata": {},
     "output_type": "display_data"
    },
    {
     "data": {
      "text/html": [],
      "text/plain": [
       "<IPython.core.display.HTML object>"
      ]
     },
     "metadata": {},
     "output_type": "display_data"
    },
    {
     "data": {
      "text/html": [],
      "text/plain": [
       "<IPython.core.display.HTML object>"
      ]
     },
     "metadata": {},
     "output_type": "display_data"
    },
    {
     "data": {
      "text/html": [],
      "text/plain": [
       "<IPython.core.display.HTML object>"
      ]
     },
     "metadata": {},
     "output_type": "display_data"
    },
    {
     "data": {
      "text/html": [],
      "text/plain": [
       "<IPython.core.display.HTML object>"
      ]
     },
     "metadata": {},
     "output_type": "display_data"
    },
    {
     "data": {
      "text/html": [],
      "text/plain": [
       "<IPython.core.display.HTML object>"
      ]
     },
     "metadata": {},
     "output_type": "display_data"
    },
    {
     "data": {
      "text/html": [],
      "text/plain": [
       "<IPython.core.display.HTML object>"
      ]
     },
     "metadata": {},
     "output_type": "display_data"
    },
    {
     "data": {
      "text/html": [],
      "text/plain": [
       "<IPython.core.display.HTML object>"
      ]
     },
     "metadata": {},
     "output_type": "display_data"
    },
    {
     "data": {
      "text/html": [],
      "text/plain": [
       "<IPython.core.display.HTML object>"
      ]
     },
     "metadata": {},
     "output_type": "display_data"
    },
    {
     "data": {
      "text/html": [],
      "text/plain": [
       "<IPython.core.display.HTML object>"
      ]
     },
     "metadata": {},
     "output_type": "display_data"
    },
    {
     "data": {
      "text/html": [],
      "text/plain": [
       "<IPython.core.display.HTML object>"
      ]
     },
     "metadata": {},
     "output_type": "display_data"
    },
    {
     "data": {
      "text/html": [],
      "text/plain": [
       "<IPython.core.display.HTML object>"
      ]
     },
     "metadata": {},
     "output_type": "display_data"
    },
    {
     "data": {
      "text/html": [],
      "text/plain": [
       "<IPython.core.display.HTML object>"
      ]
     },
     "metadata": {},
     "output_type": "display_data"
    },
    {
     "data": {
      "text/html": [],
      "text/plain": [
       "<IPython.core.display.HTML object>"
      ]
     },
     "metadata": {},
     "output_type": "display_data"
    },
    {
     "data": {
      "text/html": [],
      "text/plain": [
       "<IPython.core.display.HTML object>"
      ]
     },
     "metadata": {},
     "output_type": "display_data"
    },
    {
     "data": {
      "text/html": [],
      "text/plain": [
       "<IPython.core.display.HTML object>"
      ]
     },
     "metadata": {},
     "output_type": "display_data"
    },
    {
     "data": {
      "text/html": [],
      "text/plain": [
       "<IPython.core.display.HTML object>"
      ]
     },
     "metadata": {},
     "output_type": "display_data"
    },
    {
     "data": {
      "text/html": [],
      "text/plain": [
       "<IPython.core.display.HTML object>"
      ]
     },
     "metadata": {},
     "output_type": "display_data"
    },
    {
     "data": {
      "text/html": [],
      "text/plain": [
       "<IPython.core.display.HTML object>"
      ]
     },
     "metadata": {},
     "output_type": "display_data"
    },
    {
     "data": {
      "text/html": [],
      "text/plain": [
       "<IPython.core.display.HTML object>"
      ]
     },
     "metadata": {},
     "output_type": "display_data"
    },
    {
     "data": {
      "text/html": [],
      "text/plain": [
       "<IPython.core.display.HTML object>"
      ]
     },
     "metadata": {},
     "output_type": "display_data"
    },
    {
     "data": {
      "text/html": [],
      "text/plain": [
       "<IPython.core.display.HTML object>"
      ]
     },
     "metadata": {},
     "output_type": "display_data"
    },
    {
     "data": {
      "text/html": [],
      "text/plain": [
       "<IPython.core.display.HTML object>"
      ]
     },
     "metadata": {},
     "output_type": "display_data"
    },
    {
     "data": {
      "text/html": [],
      "text/plain": [
       "<IPython.core.display.HTML object>"
      ]
     },
     "metadata": {},
     "output_type": "display_data"
    },
    {
     "data": {
      "text/html": [],
      "text/plain": [
       "<IPython.core.display.HTML object>"
      ]
     },
     "metadata": {},
     "output_type": "display_data"
    },
    {
     "data": {
      "text/html": [],
      "text/plain": [
       "<IPython.core.display.HTML object>"
      ]
     },
     "metadata": {},
     "output_type": "display_data"
    },
    {
     "data": {
      "text/html": [],
      "text/plain": [
       "<IPython.core.display.HTML object>"
      ]
     },
     "metadata": {},
     "output_type": "display_data"
    },
    {
     "data": {
      "text/html": [],
      "text/plain": [
       "<IPython.core.display.HTML object>"
      ]
     },
     "metadata": {},
     "output_type": "display_data"
    },
    {
     "data": {
      "text/html": [],
      "text/plain": [
       "<IPython.core.display.HTML object>"
      ]
     },
     "metadata": {},
     "output_type": "display_data"
    },
    {
     "data": {
      "text/html": [],
      "text/plain": [
       "<IPython.core.display.HTML object>"
      ]
     },
     "metadata": {},
     "output_type": "display_data"
    },
    {
     "data": {
      "text/html": [],
      "text/plain": [
       "<IPython.core.display.HTML object>"
      ]
     },
     "metadata": {},
     "output_type": "display_data"
    },
    {
     "data": {
      "text/html": [],
      "text/plain": [
       "<IPython.core.display.HTML object>"
      ]
     },
     "metadata": {},
     "output_type": "display_data"
    },
    {
     "data": {
      "text/html": [],
      "text/plain": [
       "<IPython.core.display.HTML object>"
      ]
     },
     "metadata": {},
     "output_type": "display_data"
    },
    {
     "data": {
      "text/html": [],
      "text/plain": [
       "<IPython.core.display.HTML object>"
      ]
     },
     "metadata": {},
     "output_type": "display_data"
    },
    {
     "data": {
      "text/html": [],
      "text/plain": [
       "<IPython.core.display.HTML object>"
      ]
     },
     "metadata": {},
     "output_type": "display_data"
    },
    {
     "data": {
      "text/html": [],
      "text/plain": [
       "<IPython.core.display.HTML object>"
      ]
     },
     "metadata": {},
     "output_type": "display_data"
    },
    {
     "data": {
      "text/html": [],
      "text/plain": [
       "<IPython.core.display.HTML object>"
      ]
     },
     "metadata": {},
     "output_type": "display_data"
    },
    {
     "data": {
      "text/html": [],
      "text/plain": [
       "<IPython.core.display.HTML object>"
      ]
     },
     "metadata": {},
     "output_type": "display_data"
    },
    {
     "data": {
      "text/html": [],
      "text/plain": [
       "<IPython.core.display.HTML object>"
      ]
     },
     "metadata": {},
     "output_type": "display_data"
    },
    {
     "data": {
      "text/html": [],
      "text/plain": [
       "<IPython.core.display.HTML object>"
      ]
     },
     "metadata": {},
     "output_type": "display_data"
    },
    {
     "data": {
      "text/html": [],
      "text/plain": [
       "<IPython.core.display.HTML object>"
      ]
     },
     "metadata": {},
     "output_type": "display_data"
    },
    {
     "data": {
      "text/html": [],
      "text/plain": [
       "<IPython.core.display.HTML object>"
      ]
     },
     "metadata": {},
     "output_type": "display_data"
    },
    {
     "data": {
      "text/html": [],
      "text/plain": [
       "<IPython.core.display.HTML object>"
      ]
     },
     "metadata": {},
     "output_type": "display_data"
    },
    {
     "data": {
      "text/html": [],
      "text/plain": [
       "<IPython.core.display.HTML object>"
      ]
     },
     "metadata": {},
     "output_type": "display_data"
    },
    {
     "data": {
      "text/html": [],
      "text/plain": [
       "<IPython.core.display.HTML object>"
      ]
     },
     "metadata": {},
     "output_type": "display_data"
    },
    {
     "data": {
      "text/html": [],
      "text/plain": [
       "<IPython.core.display.HTML object>"
      ]
     },
     "metadata": {},
     "output_type": "display_data"
    },
    {
     "data": {
      "text/html": [],
      "text/plain": [
       "<IPython.core.display.HTML object>"
      ]
     },
     "metadata": {},
     "output_type": "display_data"
    },
    {
     "data": {
      "text/html": [],
      "text/plain": [
       "<IPython.core.display.HTML object>"
      ]
     },
     "metadata": {},
     "output_type": "display_data"
    },
    {
     "data": {
      "text/html": [],
      "text/plain": [
       "<IPython.core.display.HTML object>"
      ]
     },
     "metadata": {},
     "output_type": "display_data"
    },
    {
     "data": {
      "text/html": [],
      "text/plain": [
       "<IPython.core.display.HTML object>"
      ]
     },
     "metadata": {},
     "output_type": "display_data"
    },
    {
     "data": {
      "text/html": [],
      "text/plain": [
       "<IPython.core.display.HTML object>"
      ]
     },
     "metadata": {},
     "output_type": "display_data"
    },
    {
     "data": {
      "text/html": [],
      "text/plain": [
       "<IPython.core.display.HTML object>"
      ]
     },
     "metadata": {},
     "output_type": "display_data"
    },
    {
     "data": {
      "text/html": [],
      "text/plain": [
       "<IPython.core.display.HTML object>"
      ]
     },
     "metadata": {},
     "output_type": "display_data"
    },
    {
     "data": {
      "text/html": [],
      "text/plain": [
       "<IPython.core.display.HTML object>"
      ]
     },
     "metadata": {},
     "output_type": "display_data"
    },
    {
     "data": {
      "text/html": [],
      "text/plain": [
       "<IPython.core.display.HTML object>"
      ]
     },
     "metadata": {},
     "output_type": "display_data"
    },
    {
     "data": {
      "text/html": [],
      "text/plain": [
       "<IPython.core.display.HTML object>"
      ]
     },
     "metadata": {},
     "output_type": "display_data"
    },
    {
     "data": {
      "text/html": [],
      "text/plain": [
       "<IPython.core.display.HTML object>"
      ]
     },
     "metadata": {},
     "output_type": "display_data"
    },
    {
     "data": {
      "text/html": [],
      "text/plain": [
       "<IPython.core.display.HTML object>"
      ]
     },
     "metadata": {},
     "output_type": "display_data"
    },
    {
     "data": {
      "text/html": [],
      "text/plain": [
       "<IPython.core.display.HTML object>"
      ]
     },
     "metadata": {},
     "output_type": "display_data"
    },
    {
     "data": {
      "text/html": [],
      "text/plain": [
       "<IPython.core.display.HTML object>"
      ]
     },
     "metadata": {},
     "output_type": "display_data"
    },
    {
     "data": {
      "text/html": [],
      "text/plain": [
       "<IPython.core.display.HTML object>"
      ]
     },
     "metadata": {},
     "output_type": "display_data"
    },
    {
     "data": {
      "text/html": [],
      "text/plain": [
       "<IPython.core.display.HTML object>"
      ]
     },
     "metadata": {},
     "output_type": "display_data"
    },
    {
     "data": {
      "text/html": [],
      "text/plain": [
       "<IPython.core.display.HTML object>"
      ]
     },
     "metadata": {},
     "output_type": "display_data"
    },
    {
     "data": {
      "text/html": [],
      "text/plain": [
       "<IPython.core.display.HTML object>"
      ]
     },
     "metadata": {},
     "output_type": "display_data"
    },
    {
     "data": {
      "text/html": [],
      "text/plain": [
       "<IPython.core.display.HTML object>"
      ]
     },
     "metadata": {},
     "output_type": "display_data"
    },
    {
     "data": {
      "text/html": [],
      "text/plain": [
       "<IPython.core.display.HTML object>"
      ]
     },
     "metadata": {},
     "output_type": "display_data"
    },
    {
     "data": {
      "text/html": [],
      "text/plain": [
       "<IPython.core.display.HTML object>"
      ]
     },
     "metadata": {},
     "output_type": "display_data"
    },
    {
     "data": {
      "text/html": [],
      "text/plain": [
       "<IPython.core.display.HTML object>"
      ]
     },
     "metadata": {},
     "output_type": "display_data"
    },
    {
     "data": {
      "text/html": [],
      "text/plain": [
       "<IPython.core.display.HTML object>"
      ]
     },
     "metadata": {},
     "output_type": "display_data"
    },
    {
     "data": {
      "text/html": [],
      "text/plain": [
       "<IPython.core.display.HTML object>"
      ]
     },
     "metadata": {},
     "output_type": "display_data"
    },
    {
     "data": {
      "text/html": [],
      "text/plain": [
       "<IPython.core.display.HTML object>"
      ]
     },
     "metadata": {},
     "output_type": "display_data"
    },
    {
     "data": {
      "text/html": [],
      "text/plain": [
       "<IPython.core.display.HTML object>"
      ]
     },
     "metadata": {},
     "output_type": "display_data"
    },
    {
     "data": {
      "text/html": [],
      "text/plain": [
       "<IPython.core.display.HTML object>"
      ]
     },
     "metadata": {},
     "output_type": "display_data"
    },
    {
     "data": {
      "text/html": [],
      "text/plain": [
       "<IPython.core.display.HTML object>"
      ]
     },
     "metadata": {},
     "output_type": "display_data"
    },
    {
     "data": {
      "text/html": [],
      "text/plain": [
       "<IPython.core.display.HTML object>"
      ]
     },
     "metadata": {},
     "output_type": "display_data"
    },
    {
     "data": {
      "text/html": [],
      "text/plain": [
       "<IPython.core.display.HTML object>"
      ]
     },
     "metadata": {},
     "output_type": "display_data"
    },
    {
     "data": {
      "text/html": [],
      "text/plain": [
       "<IPython.core.display.HTML object>"
      ]
     },
     "metadata": {},
     "output_type": "display_data"
    },
    {
     "data": {
      "text/html": [],
      "text/plain": [
       "<IPython.core.display.HTML object>"
      ]
     },
     "metadata": {},
     "output_type": "display_data"
    },
    {
     "data": {
      "text/html": [],
      "text/plain": [
       "<IPython.core.display.HTML object>"
      ]
     },
     "metadata": {},
     "output_type": "display_data"
    },
    {
     "data": {
      "text/html": [],
      "text/plain": [
       "<IPython.core.display.HTML object>"
      ]
     },
     "metadata": {},
     "output_type": "display_data"
    },
    {
     "data": {
      "text/html": [],
      "text/plain": [
       "<IPython.core.display.HTML object>"
      ]
     },
     "metadata": {},
     "output_type": "display_data"
    },
    {
     "data": {
      "text/html": [],
      "text/plain": [
       "<IPython.core.display.HTML object>"
      ]
     },
     "metadata": {},
     "output_type": "display_data"
    },
    {
     "data": {
      "text/html": [],
      "text/plain": [
       "<IPython.core.display.HTML object>"
      ]
     },
     "metadata": {},
     "output_type": "display_data"
    },
    {
     "data": {
      "text/html": [],
      "text/plain": [
       "<IPython.core.display.HTML object>"
      ]
     },
     "metadata": {},
     "output_type": "display_data"
    },
    {
     "data": {
      "text/html": [],
      "text/plain": [
       "<IPython.core.display.HTML object>"
      ]
     },
     "metadata": {},
     "output_type": "display_data"
    },
    {
     "data": {
      "text/html": [],
      "text/plain": [
       "<IPython.core.display.HTML object>"
      ]
     },
     "metadata": {},
     "output_type": "display_data"
    },
    {
     "data": {
      "text/html": [],
      "text/plain": [
       "<IPython.core.display.HTML object>"
      ]
     },
     "metadata": {},
     "output_type": "display_data"
    },
    {
     "data": {
      "text/html": [],
      "text/plain": [
       "<IPython.core.display.HTML object>"
      ]
     },
     "metadata": {},
     "output_type": "display_data"
    },
    {
     "data": {
      "text/html": [],
      "text/plain": [
       "<IPython.core.display.HTML object>"
      ]
     },
     "metadata": {},
     "output_type": "display_data"
    },
    {
     "data": {
      "text/html": [],
      "text/plain": [
       "<IPython.core.display.HTML object>"
      ]
     },
     "metadata": {},
     "output_type": "display_data"
    },
    {
     "data": {
      "text/html": [],
      "text/plain": [
       "<IPython.core.display.HTML object>"
      ]
     },
     "metadata": {},
     "output_type": "display_data"
    },
    {
     "name": "stdout",
     "output_type": "stream",
     "text": [
      "Test Accuracy:  0.37362637362637363\n"
     ]
    }
   ],
   "source": [
    "from sklearn.metrics import confusion_matrix, accuracy_score\n",
    "test['preds'] = test['content'].apply(lambda row: learn_model.predict(row)[0])\n",
    "print(\"Test Accuracy: \", accuracy_score(test['classes'], test['preds']))"
   ]
  },
  {
   "cell_type": "code",
   "execution_count": 304,
   "metadata": {},
   "outputs": [],
   "source": [
    "test.to_csv(\"preds3.csv\")"
   ]
  },
  {
   "cell_type": "code",
   "execution_count": 306,
   "metadata": {},
   "outputs": [],
   "source": [
    "dl = learn_model.dls.test_dl(test['content'])"
   ]
  },
  {
   "cell_type": "code",
   "execution_count": 307,
   "metadata": {},
   "outputs": [
    {
     "data": {
      "text/html": [],
      "text/plain": [
       "<IPython.core.display.HTML object>"
      ]
     },
     "metadata": {},
     "output_type": "display_data"
    }
   ],
   "source": [
    "preds = learn_model.get_preds(dl=dl)"
   ]
  },
  {
   "cell_type": "code",
   "execution_count": 308,
   "metadata": {},
   "outputs": [
    {
     "data": {
      "text/plain": [
       "array([9.9689507e-01, 2.5875235e-03, 5.1738630e-04], dtype=float32)"
      ]
     },
     "execution_count": 308,
     "metadata": {},
     "output_type": "execute_result"
    }
   ],
   "source": [
    "preds[0][0].cpu().numpy()"
   ]
  },
  {
   "cell_type": "code",
   "execution_count": 309,
   "metadata": {},
   "outputs": [
    {
     "data": {
      "text/plain": [
       "TensorText(0)"
      ]
     },
     "execution_count": 309,
     "metadata": {},
     "output_type": "execute_result"
    }
   ],
   "source": [
    "preds[0][0].cpu().argmax(dim=-1)"
   ]
  },
  {
   "cell_type": "code",
   "execution_count": 310,
   "metadata": {},
   "outputs": [],
   "source": [
    "test['target'] = preds[0].argmax(dim=-1)"
   ]
  },
  {
   "cell_type": "code",
   "execution_count": 311,
   "metadata": {},
   "outputs": [
    {
     "data": {
      "text/html": [
       "<div>\n",
       "<style scoped>\n",
       "    .dataframe tbody tr th:only-of-type {\n",
       "        vertical-align: middle;\n",
       "    }\n",
       "\n",
       "    .dataframe tbody tr th {\n",
       "        vertical-align: top;\n",
       "    }\n",
       "\n",
       "    .dataframe thead th {\n",
       "        text-align: right;\n",
       "    }\n",
       "</style>\n",
       "<table border=\"1\" class=\"dataframe\">\n",
       "  <thead>\n",
       "    <tr style=\"text-align: right;\">\n",
       "      <th></th>\n",
       "      <th>Unnamed: 0</th>\n",
       "      <th>content</th>\n",
       "      <th>date</th>\n",
       "      <th>replyCount</th>\n",
       "      <th>retweetCount</th>\n",
       "      <th>likeCount</th>\n",
       "      <th>mentionedUsers</th>\n",
       "      <th>Pro Trump</th>\n",
       "      <th>Pro Biden</th>\n",
       "      <th>Neutral</th>\n",
       "      <th>one_hot_labels</th>\n",
       "      <th>classes</th>\n",
       "      <th>preds</th>\n",
       "      <th>target</th>\n",
       "    </tr>\n",
       "  </thead>\n",
       "  <tbody>\n",
       "    <tr>\n",
       "      <th>0</th>\n",
       "      <td>0</td>\n",
       "      <td>@Prieto_de_Maria @Sanju_Verma_ @realDonaldTrump #Biden opposed #CAA #NRC and support Pakistani stand on JK and #Article370</td>\n",
       "      <td>2020-11-04 12:58:14+00:00</td>\n",
       "      <td>0</td>\n",
       "      <td>0</td>\n",
       "      <td>0</td>\n",
       "      <td>[{'username': 'Prieto_de_Maria', 'displayname': 'Light_Yagami', 'id': 1137341225839628288, 'description': None, 'rawDescription': None, 'descriptionUrls': None, 'verified': None, 'created': None, 'followersCount': None, 'friendsCount': None, 'statusesCount': None, 'favouritesCount': None, 'listedCount': None, 'mediaCount': None, 'location': None, 'protected': None, 'linkUrl': None, 'linkTcourl': None, 'profileImageUrl': None, 'profileBannerUrl': None}, {'username': 'Sanju_Verma_', 'displayname': 'Sanju Verma', 'id': 2441854915, 'description': None, 'rawDescription': None, 'descriptionUrls'...</td>\n",
       "      <td>0</td>\n",
       "      <td>0</td>\n",
       "      <td>1</td>\n",
       "      <td>1</td>\n",
       "      <td>Neutral</td>\n",
       "      <td>Neutral</td>\n",
       "      <td>0</td>\n",
       "    </tr>\n",
       "    <tr>\n",
       "      <th>1</th>\n",
       "      <td>1</td>\n",
       "      <td>@FoxNews #Trump applauded historical turn out of voters. And no evidence of what #Biden’s campaign manager called it”#outrageous”. Nadia must correctly refer to the words Trump said.&amp;gt;Biden’s campaign manager calls Trump's statement outrageous. ABC News via @ABC - https://t.co/m5UzFp8pWi</td>\n",
       "      <td>2020-11-04 12:19:42+00:00</td>\n",
       "      <td>0</td>\n",
       "      <td>1</td>\n",
       "      <td>1</td>\n",
       "      <td>[{'username': 'FoxNews', 'displayname': 'Fox News', 'id': 1367531, 'description': None, 'rawDescription': None, 'descriptionUrls': None, 'verified': None, 'created': None, 'followersCount': None, 'friendsCount': None, 'statusesCount': None, 'favouritesCount': None, 'listedCount': None, 'mediaCount': None, 'location': None, 'protected': None, 'linkUrl': None, 'linkTcourl': None, 'profileImageUrl': None, 'profileBannerUrl': None}, {'username': 'ABC', 'displayname': 'ABC News', 'id': 28785486, 'description': None, 'rawDescription': None, 'descriptionUrls': None, 'verified': None, 'created': N...</td>\n",
       "      <td>1</td>\n",
       "      <td>0</td>\n",
       "      <td>0</td>\n",
       "      <td>100</td>\n",
       "      <td>Pro_Trump</td>\n",
       "      <td>Pro_Biden</td>\n",
       "      <td>1</td>\n",
       "    </tr>\n",
       "    <tr>\n",
       "      <th>2</th>\n",
       "      <td>7</td>\n",
       "      <td>@ge0rgiasc0tt Can't imagine they are chomping at the bit to vote #Biden or #Trump ? 🙄 #ElectionDay</td>\n",
       "      <td>2020-11-03 23:48:59+00:00</td>\n",
       "      <td>0</td>\n",
       "      <td>0</td>\n",
       "      <td>0</td>\n",
       "      <td>[{'username': 'ge0rgiasc0tt', 'displayname': 'G', 'id': 762339458, 'description': None, 'rawDescription': None, 'descriptionUrls': None, 'verified': None, 'created': None, 'followersCount': None, 'friendsCount': None, 'statusesCount': None, 'favouritesCount': None, 'listedCount': None, 'mediaCount': None, 'location': None, 'protected': None, 'linkUrl': None, 'linkTcourl': None, 'profileImageUrl': None, 'profileBannerUrl': None}]</td>\n",
       "      <td>0</td>\n",
       "      <td>0</td>\n",
       "      <td>1</td>\n",
       "      <td>1</td>\n",
       "      <td>Neutral</td>\n",
       "      <td>Pro_Trump</td>\n",
       "      <td>2</td>\n",
       "    </tr>\n",
       "    <tr>\n",
       "      <th>3</th>\n",
       "      <td>9</td>\n",
       "      <td>@IvankaTrump @kayleighmcenany @realDonaldTrump Sympathetic . Far better candidate than #Biden . But , #COVID19 will be the ' downfall ' More empathy and leading by example was required \\n#ElectionDay</td>\n",
       "      <td>2020-11-03 09:00:13+00:00</td>\n",
       "      <td>0</td>\n",
       "      <td>0</td>\n",
       "      <td>0</td>\n",
       "      <td>[{'username': 'IvankaTrump', 'displayname': 'Ivanka Trump', 'id': 52544275, 'description': None, 'rawDescription': None, 'descriptionUrls': None, 'verified': None, 'created': None, 'followersCount': None, 'friendsCount': None, 'statusesCount': None, 'favouritesCount': None, 'listedCount': None, 'mediaCount': None, 'location': None, 'protected': None, 'linkUrl': None, 'linkTcourl': None, 'profileImageUrl': None, 'profileBannerUrl': None}, {'username': 'kayleighmcenany', 'displayname': 'Kayleigh McEnany', 'id': 259001548, 'description': None, 'rawDescription': None, 'descriptionUrls': None, ...</td>\n",
       "      <td>1</td>\n",
       "      <td>0</td>\n",
       "      <td>0</td>\n",
       "      <td>100</td>\n",
       "      <td>Pro_Trump</td>\n",
       "      <td>Neutral</td>\n",
       "      <td>0</td>\n",
       "    </tr>\n",
       "    <tr>\n",
       "      <th>4</th>\n",
       "      <td>10</td>\n",
       "      <td>Got my 2nd graders chanting “#Biden”</td>\n",
       "      <td>2020-11-03 07:17:00+00:00</td>\n",
       "      <td>1</td>\n",
       "      <td>0</td>\n",
       "      <td>0</td>\n",
       "      <td>NaN</td>\n",
       "      <td>0</td>\n",
       "      <td>1</td>\n",
       "      <td>0</td>\n",
       "      <td>10</td>\n",
       "      <td>Pro_Biden</td>\n",
       "      <td>Neutral</td>\n",
       "      <td>0</td>\n",
       "    </tr>\n",
       "  </tbody>\n",
       "</table>\n",
       "</div>"
      ],
      "text/plain": [
       "   Unnamed: 0  \\\n",
       "0           0   \n",
       "1           1   \n",
       "2           7   \n",
       "3           9   \n",
       "4          10   \n",
       "\n",
       "                                                                                                                                                                                                                                                                                              content  \\\n",
       "0                                                                                                                                                                          @Prieto_de_Maria @Sanju_Verma_ @realDonaldTrump #Biden opposed #CAA #NRC and support Pakistani stand on JK and #Article370   \n",
       "1  @FoxNews #Trump applauded historical turn out of voters. And no evidence of what #Biden’s campaign manager called it”#outrageous”. Nadia must correctly refer to the words Trump said.&gt;Biden’s campaign manager calls Trump's statement outrageous. ABC News via @ABC - https://t.co/m5UzFp8pWi   \n",
       "2                                                                                                                                                                                                  @ge0rgiasc0tt Can't imagine they are chomping at the bit to vote #Biden or #Trump ? 🙄 #ElectionDay   \n",
       "3                                                                                             @IvankaTrump @kayleighmcenany @realDonaldTrump Sympathetic . Far better candidate than #Biden . But , #COVID19 will be the ' downfall ' More empathy and leading by example was required \\n#ElectionDay   \n",
       "4                                                                                                                                                                                                                                                                Got my 2nd graders chanting “#Biden”   \n",
       "\n",
       "                        date  replyCount  retweetCount  likeCount  \\\n",
       "0  2020-11-04 12:58:14+00:00           0             0          0   \n",
       "1  2020-11-04 12:19:42+00:00           0             1          1   \n",
       "2  2020-11-03 23:48:59+00:00           0             0          0   \n",
       "3  2020-11-03 09:00:13+00:00           0             0          0   \n",
       "4  2020-11-03 07:17:00+00:00           1             0          0   \n",
       "\n",
       "                                                                                                                                                                                                                                                                                                                                                                                                                                                                                                                                                                                                            mentionedUsers  \\\n",
       "0  [{'username': 'Prieto_de_Maria', 'displayname': 'Light_Yagami', 'id': 1137341225839628288, 'description': None, 'rawDescription': None, 'descriptionUrls': None, 'verified': None, 'created': None, 'followersCount': None, 'friendsCount': None, 'statusesCount': None, 'favouritesCount': None, 'listedCount': None, 'mediaCount': None, 'location': None, 'protected': None, 'linkUrl': None, 'linkTcourl': None, 'profileImageUrl': None, 'profileBannerUrl': None}, {'username': 'Sanju_Verma_', 'displayname': 'Sanju Verma', 'id': 2441854915, 'description': None, 'rawDescription': None, 'descriptionUrls'...   \n",
       "1  [{'username': 'FoxNews', 'displayname': 'Fox News', 'id': 1367531, 'description': None, 'rawDescription': None, 'descriptionUrls': None, 'verified': None, 'created': None, 'followersCount': None, 'friendsCount': None, 'statusesCount': None, 'favouritesCount': None, 'listedCount': None, 'mediaCount': None, 'location': None, 'protected': None, 'linkUrl': None, 'linkTcourl': None, 'profileImageUrl': None, 'profileBannerUrl': None}, {'username': 'ABC', 'displayname': 'ABC News', 'id': 28785486, 'description': None, 'rawDescription': None, 'descriptionUrls': None, 'verified': None, 'created': N...   \n",
       "2                                                                                                                                                                         [{'username': 'ge0rgiasc0tt', 'displayname': 'G', 'id': 762339458, 'description': None, 'rawDescription': None, 'descriptionUrls': None, 'verified': None, 'created': None, 'followersCount': None, 'friendsCount': None, 'statusesCount': None, 'favouritesCount': None, 'listedCount': None, 'mediaCount': None, 'location': None, 'protected': None, 'linkUrl': None, 'linkTcourl': None, 'profileImageUrl': None, 'profileBannerUrl': None}]   \n",
       "3  [{'username': 'IvankaTrump', 'displayname': 'Ivanka Trump', 'id': 52544275, 'description': None, 'rawDescription': None, 'descriptionUrls': None, 'verified': None, 'created': None, 'followersCount': None, 'friendsCount': None, 'statusesCount': None, 'favouritesCount': None, 'listedCount': None, 'mediaCount': None, 'location': None, 'protected': None, 'linkUrl': None, 'linkTcourl': None, 'profileImageUrl': None, 'profileBannerUrl': None}, {'username': 'kayleighmcenany', 'displayname': 'Kayleigh McEnany', 'id': 259001548, 'description': None, 'rawDescription': None, 'descriptionUrls': None, ...   \n",
       "4                                                                                                                                                                                                                                                                                                                                                                                                                                                                                                                                                                                                                      NaN   \n",
       "\n",
       "   Pro Trump  Pro Biden  Neutral  one_hot_labels    classes      preds  target  \n",
       "0          0          0        1               1    Neutral    Neutral       0  \n",
       "1          1          0        0             100  Pro_Trump  Pro_Biden       1  \n",
       "2          0          0        1               1    Neutral  Pro_Trump       2  \n",
       "3          1          0        0             100  Pro_Trump    Neutral       0  \n",
       "4          0          1        0              10  Pro_Biden    Neutral       0  "
      ]
     },
     "execution_count": 311,
     "metadata": {},
     "output_type": "execute_result"
    }
   ],
   "source": [
    "test.head()"
   ]
  },
  {
   "cell_type": "code",
   "execution_count": 312,
   "metadata": {},
   "outputs": [],
   "source": [
    "test.to_csv(\"preds4.csv\")"
   ]
  },
  {
   "cell_type": "code",
   "execution_count": null,
   "metadata": {},
   "outputs": [],
   "source": []
  }
 ],
 "metadata": {
  "kernelspec": {
   "display_name": "Python 3",
   "language": "python",
   "name": "python3"
  },
  "language_info": {
   "codemirror_mode": {
    "name": "ipython",
    "version": 3
   },
   "file_extension": ".py",
   "mimetype": "text/x-python",
   "name": "python",
   "nbconvert_exporter": "python",
   "pygments_lexer": "ipython3",
   "version": "3.8.5"
  }
 },
 "nbformat": 4,
 "nbformat_minor": 4
}
