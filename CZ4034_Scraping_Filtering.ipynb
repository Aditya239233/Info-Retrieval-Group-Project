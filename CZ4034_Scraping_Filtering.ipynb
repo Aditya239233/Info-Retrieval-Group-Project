{
 "cells": [
  {
   "cell_type": "code",
   "execution_count": 1,
   "metadata": {},
   "outputs": [
    {
     "name": "stdout",
     "output_type": "stream",
     "text": [
      "3.8.5\n"
     ]
    }
   ],
   "source": [
    "from platform import python_version\n",
    "\n",
    "print(python_version())"
   ]
  },
  {
   "cell_type": "code",
   "execution_count": 2,
   "metadata": {},
   "outputs": [],
   "source": [
    "import pandas as pd\n",
    "import snscrape.modules.twitter as sntwitter\n",
    "import itertools"
   ]
  },
  {
   "cell_type": "code",
   "execution_count": 3,
   "metadata": {},
   "outputs": [],
   "source": [
    "### CHOOSE COUNTRY NUMBER FROM BELOW LIST:\n",
    "num = 8\n",
    "countries = [\"Iran\", \"Israel\", \"Saudi Arabia\", \"China\", \"Philippines\", \"Ukraine\", \"Russia\", \"UK\", \"India\", \"Mexico\", \"Canada\", \"Brazil\", \"South Korea\"]\n",
    "num_tweets_per_tag = 200"
   ]
  },
  {
   "cell_type": "code",
   "execution_count": 4,
   "metadata": {},
   "outputs": [],
   "source": [
    "#cities, keywords, & other constants\n",
    "cities = [\"Tehran\", \"Jerusalem\", \"Riyadh\", \"Beijing\", \"Manila\", \"Kyiv\", \"Moscow\", \"London\", \"New Delhi\", \"Mexico City\", \"Ottawa\", \"Brasilia\", \"Seoul\"]\n",
    "\n",
    "keywords = [\"#Trump2020\", \"#Biden\", \"#VoteBlueToSaveAmerica\", \"#trump2020\", \"#VoteTrumpOut\", \"#trump\", \"#biden\", \n",
    "            \"#November3rd\", \"#NovemberIsComing\", \"#MyPresident\", \"#USElections\", \"#bluewave2020\", \"ballot\", \"mailin\", \"mail-in\", \n",
    "            \"#DonaldTrump\", \"DonaldJTrump\",\"Donald J Trump\", \"Donald Trump\", \"Don Trump\", \"Joe Biden\", \n",
    "            \"#JoeBiden\", \"Biden\", \"Trump\", \"#PresidentTrump\", \"#MAGA\", \"#Trump2020\", \"Sleepy Joe\", \"#SleepyJoe\", \n",
    "            \"HidenBiden\", \"#CreepyJoeBiden\", \"#NeverBiden\", \"#BidenUkraineScandal\", '#HunterBiden', \n",
    "            \"#DumpTrump\", \"#NeverTrump\", \"VoteRed\", \"VoteBlue\", '#FuckTrump', '#RipTrump', '#TrumpIsPathetic', \n",
    "            '#TrumpIsLosing', '#TrumpCorruption', '#ByeByeTrump', '#ByeTrump', '#TrumpLies', '#VoteHimOut', \n",
    "            '#YoureFiredTrump', '#TrumpHasToGo', '#MakeAmericaGreatAgain', '#TeamTrump', '#VoteTrump', '#DrainTheSwamp', '#teambiden', '#joementum']"
   ]
  },
  {
   "cell_type": "code",
   "execution_count": 5,
   "metadata": {
    "scrolled": true
   },
   "outputs": [
    {
     "data": {
      "text/html": [
       "<div>\n",
       "<style scoped>\n",
       "    .dataframe tbody tr th:only-of-type {\n",
       "        vertical-align: middle;\n",
       "    }\n",
       "\n",
       "    .dataframe tbody tr th {\n",
       "        vertical-align: top;\n",
       "    }\n",
       "\n",
       "    .dataframe thead th {\n",
       "        text-align: right;\n",
       "    }\n",
       "</style>\n",
       "<table border=\"1\" class=\"dataframe\">\n",
       "  <thead>\n",
       "    <tr style=\"text-align: right;\">\n",
       "      <th></th>\n",
       "      <th>url</th>\n",
       "      <th>date</th>\n",
       "      <th>content</th>\n",
       "      <th>renderedContent</th>\n",
       "      <th>id</th>\n",
       "      <th>user</th>\n",
       "      <th>outlinks</th>\n",
       "      <th>tcooutlinks</th>\n",
       "      <th>replyCount</th>\n",
       "      <th>retweetCount</th>\n",
       "      <th>...</th>\n",
       "      <th>quoteCount</th>\n",
       "      <th>conversationId</th>\n",
       "      <th>lang</th>\n",
       "      <th>source</th>\n",
       "      <th>sourceUrl</th>\n",
       "      <th>sourceLabel</th>\n",
       "      <th>media</th>\n",
       "      <th>retweetedTweet</th>\n",
       "      <th>quotedTweet</th>\n",
       "      <th>mentionedUsers</th>\n",
       "    </tr>\n",
       "  </thead>\n",
       "  <tbody>\n",
       "    <tr>\n",
       "      <th>0</th>\n",
       "      <td>https://twitter.com/Prash_Chainani/status/1332...</td>\n",
       "      <td>2020-11-28 15:16:03+00:00</td>\n",
       "      <td>Prediction: 2021 is going to be the year for c...</td>\n",
       "      <td>Prediction: 2021 is going to be the year for c...</td>\n",
       "      <td>1332704815487610880</td>\n",
       "      <td>{'username': 'Prash_Chainani', 'displayname': ...</td>\n",
       "      <td>[]</td>\n",
       "      <td>[]</td>\n",
       "      <td>0</td>\n",
       "      <td>0</td>\n",
       "      <td>...</td>\n",
       "      <td>0</td>\n",
       "      <td>1332704815487610880</td>\n",
       "      <td>en</td>\n",
       "      <td>&lt;a href=\"http://twitter.com/download/iphone\" r...</td>\n",
       "      <td>http://twitter.com/download/iphone</td>\n",
       "      <td>Twitter for iPhone</td>\n",
       "      <td>[{'thumbnailUrl': 'https://pbs.twimg.com/tweet...</td>\n",
       "      <td>None</td>\n",
       "      <td>None</td>\n",
       "      <td>None</td>\n",
       "    </tr>\n",
       "    <tr>\n",
       "      <th>1</th>\n",
       "      <td>https://twitter.com/hottakeswfaith/status/1331...</td>\n",
       "      <td>2020-11-25 10:43:40+00:00</td>\n",
       "      <td>Nothing to see here. Just thousands of Georgia...</td>\n",
       "      <td>Nothing to see here. Just thousands of Georgia...</td>\n",
       "      <td>1331549105257025536</td>\n",
       "      <td>{'username': 'hottakeswfaith', 'displayname': ...</td>\n",
       "      <td>[https://m.theepochtimes.com/thousands-in-geor...</td>\n",
       "      <td>[https://t.co/tx76vmJIDt]</td>\n",
       "      <td>0</td>\n",
       "      <td>0</td>\n",
       "      <td>...</td>\n",
       "      <td>0</td>\n",
       "      <td>1331549105257025536</td>\n",
       "      <td>en</td>\n",
       "      <td>&lt;a href=\"http://twitter.com/download/android\" ...</td>\n",
       "      <td>http://twitter.com/download/android</td>\n",
       "      <td>Twitter for Android</td>\n",
       "      <td>None</td>\n",
       "      <td>None</td>\n",
       "      <td>None</td>\n",
       "      <td>None</td>\n",
       "    </tr>\n",
       "    <tr>\n",
       "      <th>2</th>\n",
       "      <td>https://twitter.com/imran93official/status/132...</td>\n",
       "      <td>2020-11-05 06:24:23+00:00</td>\n",
       "      <td>#PresidentialElection Results. \\n\\n#America\\n#...</td>\n",
       "      <td>#PresidentialElection Results. \\n\\n#America\\n#...</td>\n",
       "      <td>1324236098063642624</td>\n",
       "      <td>{'username': 'imran93official', 'displayname':...</td>\n",
       "      <td>[]</td>\n",
       "      <td>[]</td>\n",
       "      <td>0</td>\n",
       "      <td>0</td>\n",
       "      <td>...</td>\n",
       "      <td>0</td>\n",
       "      <td>1324236098063642624</td>\n",
       "      <td>en</td>\n",
       "      <td>&lt;a href=\"http://twitter.com/download/android\" ...</td>\n",
       "      <td>http://twitter.com/download/android</td>\n",
       "      <td>Twitter for Android</td>\n",
       "      <td>[{'previewUrl': 'https://pbs.twimg.com/media/E...</td>\n",
       "      <td>None</td>\n",
       "      <td>None</td>\n",
       "      <td>None</td>\n",
       "    </tr>\n",
       "    <tr>\n",
       "      <th>3</th>\n",
       "      <td>https://twitter.com/qatarchatter/status/132388...</td>\n",
       "      <td>2020-11-04 07:12:08+00:00</td>\n",
       "      <td>Have the tweets about how the electoral colleg...</td>\n",
       "      <td>Have the tweets about how the electoral colleg...</td>\n",
       "      <td>1323885726753280003</td>\n",
       "      <td>{'username': 'qatarchatter', 'displayname': 'Q...</td>\n",
       "      <td>[]</td>\n",
       "      <td>[]</td>\n",
       "      <td>0</td>\n",
       "      <td>0</td>\n",
       "      <td>...</td>\n",
       "      <td>0</td>\n",
       "      <td>1323885726753280003</td>\n",
       "      <td>en</td>\n",
       "      <td>&lt;a href=\"http://twitter.com/download/android\" ...</td>\n",
       "      <td>http://twitter.com/download/android</td>\n",
       "      <td>Twitter for Android</td>\n",
       "      <td>None</td>\n",
       "      <td>None</td>\n",
       "      <td>None</td>\n",
       "      <td>None</td>\n",
       "    </tr>\n",
       "    <tr>\n",
       "      <th>4</th>\n",
       "      <td>https://twitter.com/shaheen_abdulla/status/132...</td>\n",
       "      <td>2020-11-03 22:22:26+00:00</td>\n",
       "      <td>@JoeBiden Good luck uncle #Trump . #Trump2020\\...</td>\n",
       "      <td>@JoeBiden Good luck uncle #Trump . #Trump2020\\...</td>\n",
       "      <td>1323752423006109697</td>\n",
       "      <td>{'username': 'shaheen_abdulla', 'displayname':...</td>\n",
       "      <td>[]</td>\n",
       "      <td>[]</td>\n",
       "      <td>0</td>\n",
       "      <td>1</td>\n",
       "      <td>...</td>\n",
       "      <td>0</td>\n",
       "      <td>1323747783732535300</td>\n",
       "      <td>en</td>\n",
       "      <td>&lt;a href=\"http://twitter.com/download/iphone\" r...</td>\n",
       "      <td>http://twitter.com/download/iphone</td>\n",
       "      <td>Twitter for iPhone</td>\n",
       "      <td>[{'thumbnailUrl': 'https://pbs.twimg.com/ext_t...</td>\n",
       "      <td>None</td>\n",
       "      <td>None</td>\n",
       "      <td>[{'username': 'JoeBiden', 'displayname': 'Joe ...</td>\n",
       "    </tr>\n",
       "  </tbody>\n",
       "</table>\n",
       "<p>5 rows × 21 columns</p>\n",
       "</div>"
      ],
      "text/plain": [
       "                                                 url  \\\n",
       "0  https://twitter.com/Prash_Chainani/status/1332...   \n",
       "1  https://twitter.com/hottakeswfaith/status/1331...   \n",
       "2  https://twitter.com/imran93official/status/132...   \n",
       "3  https://twitter.com/qatarchatter/status/132388...   \n",
       "4  https://twitter.com/shaheen_abdulla/status/132...   \n",
       "\n",
       "                       date  \\\n",
       "0 2020-11-28 15:16:03+00:00   \n",
       "1 2020-11-25 10:43:40+00:00   \n",
       "2 2020-11-05 06:24:23+00:00   \n",
       "3 2020-11-04 07:12:08+00:00   \n",
       "4 2020-11-03 22:22:26+00:00   \n",
       "\n",
       "                                             content  \\\n",
       "0  Prediction: 2021 is going to be the year for c...   \n",
       "1  Nothing to see here. Just thousands of Georgia...   \n",
       "2  #PresidentialElection Results. \\n\\n#America\\n#...   \n",
       "3  Have the tweets about how the electoral colleg...   \n",
       "4  @JoeBiden Good luck uncle #Trump . #Trump2020\\...   \n",
       "\n",
       "                                     renderedContent                   id  \\\n",
       "0  Prediction: 2021 is going to be the year for c...  1332704815487610880   \n",
       "1  Nothing to see here. Just thousands of Georgia...  1331549105257025536   \n",
       "2  #PresidentialElection Results. \\n\\n#America\\n#...  1324236098063642624   \n",
       "3  Have the tweets about how the electoral colleg...  1323885726753280003   \n",
       "4  @JoeBiden Good luck uncle #Trump . #Trump2020\\...  1323752423006109697   \n",
       "\n",
       "                                                user  \\\n",
       "0  {'username': 'Prash_Chainani', 'displayname': ...   \n",
       "1  {'username': 'hottakeswfaith', 'displayname': ...   \n",
       "2  {'username': 'imran93official', 'displayname':...   \n",
       "3  {'username': 'qatarchatter', 'displayname': 'Q...   \n",
       "4  {'username': 'shaheen_abdulla', 'displayname':...   \n",
       "\n",
       "                                            outlinks  \\\n",
       "0                                                 []   \n",
       "1  [https://m.theepochtimes.com/thousands-in-geor...   \n",
       "2                                                 []   \n",
       "3                                                 []   \n",
       "4                                                 []   \n",
       "\n",
       "                 tcooutlinks  replyCount  retweetCount  ...  quoteCount  \\\n",
       "0                         []           0             0  ...           0   \n",
       "1  [https://t.co/tx76vmJIDt]           0             0  ...           0   \n",
       "2                         []           0             0  ...           0   \n",
       "3                         []           0             0  ...           0   \n",
       "4                         []           0             1  ...           0   \n",
       "\n",
       "        conversationId  lang  \\\n",
       "0  1332704815487610880    en   \n",
       "1  1331549105257025536    en   \n",
       "2  1324236098063642624    en   \n",
       "3  1323885726753280003    en   \n",
       "4  1323747783732535300    en   \n",
       "\n",
       "                                              source  \\\n",
       "0  <a href=\"http://twitter.com/download/iphone\" r...   \n",
       "1  <a href=\"http://twitter.com/download/android\" ...   \n",
       "2  <a href=\"http://twitter.com/download/android\" ...   \n",
       "3  <a href=\"http://twitter.com/download/android\" ...   \n",
       "4  <a href=\"http://twitter.com/download/iphone\" r...   \n",
       "\n",
       "                             sourceUrl          sourceLabel  \\\n",
       "0   http://twitter.com/download/iphone   Twitter for iPhone   \n",
       "1  http://twitter.com/download/android  Twitter for Android   \n",
       "2  http://twitter.com/download/android  Twitter for Android   \n",
       "3  http://twitter.com/download/android  Twitter for Android   \n",
       "4   http://twitter.com/download/iphone   Twitter for iPhone   \n",
       "\n",
       "                                               media retweetedTweet  \\\n",
       "0  [{'thumbnailUrl': 'https://pbs.twimg.com/tweet...           None   \n",
       "1                                               None           None   \n",
       "2  [{'previewUrl': 'https://pbs.twimg.com/media/E...           None   \n",
       "3                                               None           None   \n",
       "4  [{'thumbnailUrl': 'https://pbs.twimg.com/ext_t...           None   \n",
       "\n",
       "  quotedTweet                                     mentionedUsers  \n",
       "0        None                                               None  \n",
       "1        None                                               None  \n",
       "2        None                                               None  \n",
       "3        None                                               None  \n",
       "4        None  [{'username': 'JoeBiden', 'displayname': 'Joe ...  \n",
       "\n",
       "[5 rows x 21 columns]"
      ]
     },
     "execution_count": 5,
     "metadata": {},
     "output_type": "execute_result"
    }
   ],
   "source": [
    "df = pd.DataFrame()\n",
    "for word in keywords:\n",
    "    df = df.append(pd.DataFrame(itertools.islice(sntwitter.TwitterSearchScraper(\n",
    "        '{} near:\"{}\" within:1000km lang:en since:2020-11-01 until:2020-11-30'.format(word, cities[num])).get_items(), num_tweets_per_tag)))\n",
    "\n",
    "df.head()"
   ]
  },
  {
   "cell_type": "code",
   "execution_count": 6,
   "metadata": {},
   "outputs": [
    {
     "data": {
      "text/plain": [
       "(1453, 21)"
      ]
     },
     "execution_count": 6,
     "metadata": {},
     "output_type": "execute_result"
    }
   ],
   "source": [
    "df.shape"
   ]
  },
  {
   "cell_type": "code",
   "execution_count": 7,
   "metadata": {},
   "outputs": [
    {
     "data": {
      "text/plain": [
       "url                             object\n",
       "date               datetime64[ns, UTC]\n",
       "content                         object\n",
       "renderedContent                 object\n",
       "id                               int64\n",
       "user                            object\n",
       "outlinks                        object\n",
       "tcooutlinks                     object\n",
       "replyCount                       int64\n",
       "retweetCount                     int64\n",
       "likeCount                        int64\n",
       "quoteCount                       int64\n",
       "conversationId                   int64\n",
       "lang                            object\n",
       "source                          object\n",
       "sourceUrl                       object\n",
       "sourceLabel                     object\n",
       "media                           object\n",
       "retweetedTweet                  object\n",
       "quotedTweet                     object\n",
       "mentionedUsers                  object\n",
       "dtype: object"
      ]
     },
     "execution_count": 7,
     "metadata": {},
     "output_type": "execute_result"
    }
   ],
   "source": [
    "df.dtypes"
   ]
  },
  {
   "cell_type": "code",
   "execution_count": 8,
   "metadata": {},
   "outputs": [],
   "source": [
    "df[[\"user\", \"content\", \"url\", \"date\", \"replyCount\", \"retweetCount\", \"likeCount\", \"mentionedUsers\"]].to_csv(f'snscrape_{countries[num]}.csv', index = False)"
   ]
  },
  {
   "cell_type": "code",
   "execution_count": 9,
   "metadata": {},
   "outputs": [],
   "source": [
    "# Cleaning Data\n",
    "df_indexes_v2 = []\n",
    "user_dict = {}\n",
    "for i in range(len(df)):\n",
    "    tweet = df[\"content\"].iloc[i]\n",
    "    \n",
    "    # To remove tweets that have more hashtags than normal text\n",
    "    word_list = tweet.lower().split()\n",
    "    num_normal = 0\n",
    "    num_tags = 0\n",
    "    for j in range(len(word_list)):\n",
    "        temp = word_list[j]\n",
    "        if temp[0] == '#':\n",
    "            num_tags += 1\n",
    "        else:\n",
    "            num_normal += 1\n",
    "    if num_tags > num_normal:\n",
    "        continue\n",
    "    \n",
    "    # To choose only the latest tweet from a user to prevent multiple tweets from same user\n",
    "    user = df[\"user\"].iloc[i]['id']\n",
    "    user_dict[user] = i"
   ]
  },
  {
   "cell_type": "code",
   "execution_count": 10,
   "metadata": {},
   "outputs": [],
   "source": [
    "for value in user_dict.values():\n",
    "    df_indexes_v2.append(value)"
   ]
  },
  {
   "cell_type": "code",
   "execution_count": 11,
   "metadata": {},
   "outputs": [],
   "source": [
    "df_v2 = df.iloc[df_indexes_v2]"
   ]
  },
  {
   "cell_type": "code",
   "execution_count": 12,
   "metadata": {},
   "outputs": [
    {
     "data": {
      "text/plain": [
       "(853, 21)"
      ]
     },
     "execution_count": 12,
     "metadata": {},
     "output_type": "execute_result"
    }
   ],
   "source": [
    "df_v2.shape"
   ]
  },
  {
   "cell_type": "code",
   "execution_count": 13,
   "metadata": {},
   "outputs": [],
   "source": [
    "df_v2[[\"user\", \"content\", \"url\", \"date\", \"replyCount\", \"retweetCount\", \"likeCount\", \"mentionedUsers\"]].to_csv(f'snscrape_{countries[num]}_v2.csv', index = False)"
   ]
  },
  {
   "cell_type": "code",
   "execution_count": 14,
   "metadata": {},
   "outputs": [],
   "source": [
    "pro_trump = ['#maga', '#makeamericagreatagain', '#teamtrump', '#votetrump', '#votered', '#draintheswamp']\n",
    "pro_biden = ['#votebluetosaveamerica', '#bluewave2020', '#voteblue', '#teambiden', '#joementum']\n",
    "anti_trump = ['#votetrumpout', '#dumptrump', '#nevertrump', '#fucktrump', '#riptrump', '#trumpispathetic', '#trumpislosing', '#trumpcorruption', \n",
    "              '#byebyetrump', '#byetrump', '#trumplies', '#votehimout', '#yourefiredtrump', '#trumphastogo']\n",
    "anti_biden = ['#sleepyjoe', '#neverbiden', '#creepyjoebiden', '#bidenukrainescandal', '#hunterbiden']\n",
    "# anti_both = ['#libertarian']\n",
    "\n",
    "pro_trump_indexes = []\n",
    "pro_biden_indexes = []\n",
    "anti_trump_indexes = []\n",
    "anti_biden_indexes = []\n",
    "# anti_both_indexes = []"
   ]
  },
  {
   "cell_type": "code",
   "execution_count": 16,
   "metadata": {},
   "outputs": [],
   "source": [
    "for i in range(len(df_v2)):\n",
    "    # Pro-Trump\n",
    "    if any(tag in df_v2[\"content\"].iloc[i].lower() for tag in pro_trump):\n",
    "        pro_trump_indexes.append(i)\n",
    "    \n",
    "    # Pro-Biden\n",
    "    if any(tag in df_v2[\"content\"].iloc[i].lower() for tag in pro_biden):\n",
    "        pro_biden_indexes.append(i)\n",
    "    \n",
    "    # Anti-Trump\n",
    "    if any(tag in df_v2[\"content\"].iloc[i].lower() for tag in anti_trump):\n",
    "        anti_trump_indexes.append(i)\n",
    "    \n",
    "    # Anti-Biden\n",
    "    if any(tag in df_v2[\"content\"].iloc[i].lower() for tag in anti_biden):\n",
    "        anti_biden_indexes.append(i)\n",
    "    \n",
    "    # Anti-both\n",
    "#     if any(tag in df_v2[\"content\"].iloc[i].lower() for tag in anti_both):\n",
    "#         anti_both_indexes.append(i)"
   ]
  },
  {
   "cell_type": "code",
   "execution_count": 17,
   "metadata": {},
   "outputs": [],
   "source": [
    "df_pro_trump = df_v2.iloc[pro_trump_indexes]\n",
    "df_pro_biden = df_v2.iloc[pro_biden_indexes]\n",
    "df_anti_trump = df_v2.iloc[anti_trump_indexes]\n",
    "df_anti_biden = df_v2.iloc[anti_biden_indexes]\n",
    "df_anti_both = df_v2.iloc[anti_both_indexes]"
   ]
  },
  {
   "cell_type": "code",
   "execution_count": 18,
   "metadata": {},
   "outputs": [
    {
     "name": "stdout",
     "output_type": "stream",
     "text": [
      "Pro-Trump: 66 \n",
      "Pro-Biden: 20 \n",
      "Anti-Trump: 276\n",
      "Anti-Biden: 12 \n",
      "Anti-both: 0\n"
     ]
    }
   ],
   "source": [
    "print(f'Pro-Trump: {len(pro_trump_indexes)} \\nPro-Biden: {len(pro_biden_indexes)} \\nAnti-Trump: {len(anti_trump_indexes)}')\n",
    "print(f'Anti-Biden: {len(anti_biden_indexes)}')"
   ]
  },
  {
   "cell_type": "code",
   "execution_count": 19,
   "metadata": {},
   "outputs": [],
   "source": [
    "df_pro_trump.to_csv(f\"{countries[num]}_pro_trump_tweets.csv\", encoding = \"utf-8-sig\", index=False)\n",
    "df_pro_biden.to_csv(f\"{countries[num]}_pro_biden_tweets.csv\", encoding = \"utf-8-sig\", index=False)\n",
    "df_anti_trump.to_csv(f\"{countries[num]}_anti_trump_tweets.csv\", encoding = \"utf-8-sig\", index=False)\n",
    "df_anti_biden.to_csv(f\"{countries[num]}_anti_biden_tweets.csv\", encoding = \"utf-8-sig\", index=False)\n",
    "# df_anti_both.to_csv(f\"{countries[num]}_anti_both_tweets.csv\", encoding = \"utf-8-sig\", index=False)"
   ]
  },
  {
   "cell_type": "code",
   "execution_count": null,
   "metadata": {},
   "outputs": [],
   "source": []
  },
  {
   "cell_type": "code",
   "execution_count": null,
   "metadata": {},
   "outputs": [],
   "source": []
  },
  {
   "cell_type": "code",
   "execution_count": null,
   "metadata": {},
   "outputs": [],
   "source": []
  },
  {
   "cell_type": "code",
   "execution_count": null,
   "metadata": {},
   "outputs": [],
   "source": []
  },
  {
   "cell_type": "code",
   "execution_count": null,
   "metadata": {},
   "outputs": [],
   "source": []
  },
  {
   "cell_type": "code",
   "execution_count": null,
   "metadata": {},
   "outputs": [],
   "source": []
  }
 ],
 "metadata": {
  "kernelspec": {
   "display_name": "Python 3",
   "language": "python",
   "name": "python3"
  },
  "language_info": {
   "codemirror_mode": {
    "name": "ipython",
    "version": 3
   },
   "file_extension": ".py",
   "mimetype": "text/x-python",
   "name": "python",
   "nbconvert_exporter": "python",
   "pygments_lexer": "ipython3",
   "version": "3.8.5"
  }
 },
 "nbformat": 4,
 "nbformat_minor": 4
}
