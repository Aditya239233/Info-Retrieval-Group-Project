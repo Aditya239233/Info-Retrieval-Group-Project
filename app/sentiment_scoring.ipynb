{
 "cells": [
  {
   "cell_type": "code",
   "execution_count": 1,
   "metadata": {},
   "outputs": [],
   "source": [
    "import pandas as pd\n",
    "import math\n",
    "import numpy as np\n",
    "from sklearn import preprocessing"
   ]
  },
  {
   "cell_type": "code",
   "execution_count": 39,
   "metadata": {},
   "outputs": [
    {
     "output_type": "execute_result",
     "data": {
      "text/plain": [
       "   Unnamed: 0       username  \\\n",
       "0           0  Telecvrso2000   \n",
       "1           1      PaulJGale   \n",
       "2           2     mattoman71   \n",
       "3           3        tglocer   \n",
       "4           4    Bduffyphoto   \n",
       "\n",
       "                                             content  \\\n",
       "0                            @DailyMail Hunter Biden   \n",
       "1  @realDonaldTrump Your gradually getting it Tru...   \n",
       "2  $1.95 million, billion seems like a lot of mon...   \n",
       "3  @duty2warn How about returning the name of Joh...   \n",
       "4  Fairly smart of @CNN to declare Michigan for B...   \n",
       "\n",
       "                        date    country  replyCount  retweetCount  likeCount  \\\n",
       "0  2020-11-18 17:30:22+00:00     Brazil           0             0          0   \n",
       "1  2020-11-24 01:32:10+00:00     France           0             0          0   \n",
       "2  2020-11-14 00:51:58+00:00  Australia           0             0          1   \n",
       "3  2020-12-22 02:01:54+00:00     Canada           0             0          1   \n",
       "4  2020-11-04 21:25:35+00:00     France           0             0          0   \n",
       "\n",
       "                                                 url  sentiment  \n",
       "0  https://twitter.com/Telecvrso2000/status/13291...  Pro Trump  \n",
       "1  https://twitter.com/PaulJGale/status/133104792...  Pro Biden  \n",
       "2  https://twitter.com/mattoman71/status/13274139...  Pro Biden  \n",
       "3  https://twitter.com/tglocer/status/13412022714...  Pro Trump  \n",
       "4  https://twitter.com/Bduffyphoto/status/1324100...  Pro Biden  "
      ],
      "text/html": "<div>\n<style scoped>\n    .dataframe tbody tr th:only-of-type {\n        vertical-align: middle;\n    }\n\n    .dataframe tbody tr th {\n        vertical-align: top;\n    }\n\n    .dataframe thead th {\n        text-align: right;\n    }\n</style>\n<table border=\"1\" class=\"dataframe\">\n  <thead>\n    <tr style=\"text-align: right;\">\n      <th></th>\n      <th>Unnamed: 0</th>\n      <th>username</th>\n      <th>content</th>\n      <th>date</th>\n      <th>country</th>\n      <th>replyCount</th>\n      <th>retweetCount</th>\n      <th>likeCount</th>\n      <th>url</th>\n      <th>sentiment</th>\n    </tr>\n  </thead>\n  <tbody>\n    <tr>\n      <th>0</th>\n      <td>0</td>\n      <td>Telecvrso2000</td>\n      <td>@DailyMail Hunter Biden</td>\n      <td>2020-11-18 17:30:22+00:00</td>\n      <td>Brazil</td>\n      <td>0</td>\n      <td>0</td>\n      <td>0</td>\n      <td>https://twitter.com/Telecvrso2000/status/13291...</td>\n      <td>Pro Trump</td>\n    </tr>\n    <tr>\n      <th>1</th>\n      <td>1</td>\n      <td>PaulJGale</td>\n      <td>@realDonaldTrump Your gradually getting it Tru...</td>\n      <td>2020-11-24 01:32:10+00:00</td>\n      <td>France</td>\n      <td>0</td>\n      <td>0</td>\n      <td>0</td>\n      <td>https://twitter.com/PaulJGale/status/133104792...</td>\n      <td>Pro Biden</td>\n    </tr>\n    <tr>\n      <th>2</th>\n      <td>2</td>\n      <td>mattoman71</td>\n      <td>$1.95 million, billion seems like a lot of mon...</td>\n      <td>2020-11-14 00:51:58+00:00</td>\n      <td>Australia</td>\n      <td>0</td>\n      <td>0</td>\n      <td>1</td>\n      <td>https://twitter.com/mattoman71/status/13274139...</td>\n      <td>Pro Biden</td>\n    </tr>\n    <tr>\n      <th>3</th>\n      <td>3</td>\n      <td>tglocer</td>\n      <td>@duty2warn How about returning the name of Joh...</td>\n      <td>2020-12-22 02:01:54+00:00</td>\n      <td>Canada</td>\n      <td>0</td>\n      <td>0</td>\n      <td>1</td>\n      <td>https://twitter.com/tglocer/status/13412022714...</td>\n      <td>Pro Trump</td>\n    </tr>\n    <tr>\n      <th>4</th>\n      <td>4</td>\n      <td>Bduffyphoto</td>\n      <td>Fairly smart of @CNN to declare Michigan for B...</td>\n      <td>2020-11-04 21:25:35+00:00</td>\n      <td>France</td>\n      <td>0</td>\n      <td>0</td>\n      <td>0</td>\n      <td>https://twitter.com/Bduffyphoto/status/1324100...</td>\n      <td>Pro Biden</td>\n    </tr>\n  </tbody>\n</table>\n</div>"
     },
     "metadata": {},
     "execution_count": 39
    }
   ],
   "source": [
    "df = pd.read_csv('./data.csv')\n",
    "df.head()"
   ]
  },
  {
   "cell_type": "code",
   "execution_count": 40,
   "metadata": {},
   "outputs": [],
   "source": [
    "def logFinder(df):\n",
    "    if df == 0:\n",
    "        x = 1\n",
    "    else:\n",
    "        x = 1+np.log(2*df)\n",
    "    return x"
   ]
  },
  {
   "cell_type": "code",
   "execution_count": 41,
   "metadata": {},
   "outputs": [],
   "source": [
    "rep = df['replyCount'].apply(lambda x: logFinder(x))\n",
    "ret = df['retweetCount'].apply(lambda x: logFinder(x))\n",
    "lik = df['likeCount'].apply(lambda x: logFinder(x))\n",
    "\n",
    "df['weightedSentiment'] = 1*rep*ret*lik"
   ]
  },
  {
   "cell_type": "code",
   "execution_count": 42,
   "metadata": {},
   "outputs": [],
   "source": [
    "a, b = 0, 1\n",
    "x, y = df.weightedSentiment.min(), df.weightedSentiment.max()\n",
    "df['weightedSentimentNorm'] = (df.weightedSentiment - x) / (y - x) * (b - a) + a"
   ]
  },
  {
   "cell_type": "code",
   "execution_count": 43,
   "metadata": {},
   "outputs": [
    {
     "output_type": "execute_result",
     "data": {
      "text/plain": [
       "       Unnamed: 0         username  \\\n",
       "0               0    Telecvrso2000   \n",
       "1               1        PaulJGale   \n",
       "2               2       mattoman71   \n",
       "3               3          tglocer   \n",
       "4               4      Bduffyphoto   \n",
       "...           ...              ...   \n",
       "28408       28408        wilsonfkp   \n",
       "28409       28409  1st_Keyofficial   \n",
       "28410       28410    AntonyHammond   \n",
       "28411       28411  Moncton_Cameron   \n",
       "28412       28412      mrkdvddgzmn   \n",
       "\n",
       "                                                 content  \\\n",
       "0                                @DailyMail Hunter Biden   \n",
       "1      @realDonaldTrump Your gradually getting it Tru...   \n",
       "2      $1.95 million, billion seems like a lot of mon...   \n",
       "3      @duty2warn How about returning the name of Joh...   \n",
       "4      Fairly smart of @CNN to declare Michigan for B...   \n",
       "...                                                  ...   \n",
       "28408  Strangely, nobody is talking about Biden's emails   \n",
       "28409  Are they going to crucify Donald Trump after t...   \n",
       "28410  American resident says that #Trump is not a po...   \n",
       "28411  .@realDonaldTrump My guess is they’re still la...   \n",
       "28412                            is Biden the POTUS yet?   \n",
       "\n",
       "                            date      country  replyCount  retweetCount  \\\n",
       "0      2020-11-18 17:30:22+00:00       Brazil           0             0   \n",
       "1      2020-11-24 01:32:10+00:00       France           0             0   \n",
       "2      2020-11-14 00:51:58+00:00    Australia           0             0   \n",
       "3      2020-12-22 02:01:54+00:00       Canada           0             0   \n",
       "4      2020-11-04 21:25:35+00:00       France           0             0   \n",
       "...                          ...          ...         ...           ...   \n",
       "28408  2020-10-21 01:03:55+00:00  South Korea           0             1   \n",
       "28409  2020-11-03 11:14:07+00:00      Nigeria           0             0   \n",
       "28410  2020-11-03 21:20:53+00:00       France           0             0   \n",
       "28411  2020-12-04 18:41:22+00:00       Canada           0             0   \n",
       "28412  2020-11-06 00:43:17+00:00        Japan           0             0   \n",
       "\n",
       "       likeCount                                                url  \\\n",
       "0              0  https://twitter.com/Telecvrso2000/status/13291...   \n",
       "1              0  https://twitter.com/PaulJGale/status/133104792...   \n",
       "2              1  https://twitter.com/mattoman71/status/13274139...   \n",
       "3              1  https://twitter.com/tglocer/status/13412022714...   \n",
       "4              0  https://twitter.com/Bduffyphoto/status/1324100...   \n",
       "...          ...                                                ...   \n",
       "28408          0  https://twitter.com/wilsonfkp/status/131871963...   \n",
       "28409          0  https://twitter.com/1st_Keyofficial/status/132...   \n",
       "28410          0  https://twitter.com/AntonyHammond/status/13237...   \n",
       "28411          0  https://twitter.com/Moncton_Cameron/status/133...   \n",
       "28412          0  https://twitter.com/mrkdvddgzmn/status/1324512...   \n",
       "\n",
       "       sentiment  weightedSentiment  weightedSentimentNorm  \n",
       "0      Pro Trump           1.000000               0.000000  \n",
       "1      Pro Biden           1.000000               0.000000  \n",
       "2      Pro Biden           1.693147               0.000965  \n",
       "3      Pro Trump           1.693147               0.000965  \n",
       "4      Pro Biden           1.000000               0.000000  \n",
       "...          ...                ...                    ...  \n",
       "28408  Pro Trump           1.693147               0.000965  \n",
       "28409  Pro Trump           1.000000               0.000000  \n",
       "28410  Pro Biden           1.000000               0.000000  \n",
       "28411  Pro Biden           1.000000               0.000000  \n",
       "28412  Pro Biden           1.000000               0.000000  \n",
       "\n",
       "[28413 rows x 12 columns]"
      ],
      "text/html": "<div>\n<style scoped>\n    .dataframe tbody tr th:only-of-type {\n        vertical-align: middle;\n    }\n\n    .dataframe tbody tr th {\n        vertical-align: top;\n    }\n\n    .dataframe thead th {\n        text-align: right;\n    }\n</style>\n<table border=\"1\" class=\"dataframe\">\n  <thead>\n    <tr style=\"text-align: right;\">\n      <th></th>\n      <th>Unnamed: 0</th>\n      <th>username</th>\n      <th>content</th>\n      <th>date</th>\n      <th>country</th>\n      <th>replyCount</th>\n      <th>retweetCount</th>\n      <th>likeCount</th>\n      <th>url</th>\n      <th>sentiment</th>\n      <th>weightedSentiment</th>\n      <th>weightedSentimentNorm</th>\n    </tr>\n  </thead>\n  <tbody>\n    <tr>\n      <th>0</th>\n      <td>0</td>\n      <td>Telecvrso2000</td>\n      <td>@DailyMail Hunter Biden</td>\n      <td>2020-11-18 17:30:22+00:00</td>\n      <td>Brazil</td>\n      <td>0</td>\n      <td>0</td>\n      <td>0</td>\n      <td>https://twitter.com/Telecvrso2000/status/13291...</td>\n      <td>Pro Trump</td>\n      <td>1.000000</td>\n      <td>0.000000</td>\n    </tr>\n    <tr>\n      <th>1</th>\n      <td>1</td>\n      <td>PaulJGale</td>\n      <td>@realDonaldTrump Your gradually getting it Tru...</td>\n      <td>2020-11-24 01:32:10+00:00</td>\n      <td>France</td>\n      <td>0</td>\n      <td>0</td>\n      <td>0</td>\n      <td>https://twitter.com/PaulJGale/status/133104792...</td>\n      <td>Pro Biden</td>\n      <td>1.000000</td>\n      <td>0.000000</td>\n    </tr>\n    <tr>\n      <th>2</th>\n      <td>2</td>\n      <td>mattoman71</td>\n      <td>$1.95 million, billion seems like a lot of mon...</td>\n      <td>2020-11-14 00:51:58+00:00</td>\n      <td>Australia</td>\n      <td>0</td>\n      <td>0</td>\n      <td>1</td>\n      <td>https://twitter.com/mattoman71/status/13274139...</td>\n      <td>Pro Biden</td>\n      <td>1.693147</td>\n      <td>0.000965</td>\n    </tr>\n    <tr>\n      <th>3</th>\n      <td>3</td>\n      <td>tglocer</td>\n      <td>@duty2warn How about returning the name of Joh...</td>\n      <td>2020-12-22 02:01:54+00:00</td>\n      <td>Canada</td>\n      <td>0</td>\n      <td>0</td>\n      <td>1</td>\n      <td>https://twitter.com/tglocer/status/13412022714...</td>\n      <td>Pro Trump</td>\n      <td>1.693147</td>\n      <td>0.000965</td>\n    </tr>\n    <tr>\n      <th>4</th>\n      <td>4</td>\n      <td>Bduffyphoto</td>\n      <td>Fairly smart of @CNN to declare Michigan for B...</td>\n      <td>2020-11-04 21:25:35+00:00</td>\n      <td>France</td>\n      <td>0</td>\n      <td>0</td>\n      <td>0</td>\n      <td>https://twitter.com/Bduffyphoto/status/1324100...</td>\n      <td>Pro Biden</td>\n      <td>1.000000</td>\n      <td>0.000000</td>\n    </tr>\n    <tr>\n      <th>...</th>\n      <td>...</td>\n      <td>...</td>\n      <td>...</td>\n      <td>...</td>\n      <td>...</td>\n      <td>...</td>\n      <td>...</td>\n      <td>...</td>\n      <td>...</td>\n      <td>...</td>\n      <td>...</td>\n      <td>...</td>\n    </tr>\n    <tr>\n      <th>28408</th>\n      <td>28408</td>\n      <td>wilsonfkp</td>\n      <td>Strangely, nobody is talking about Biden's emails</td>\n      <td>2020-10-21 01:03:55+00:00</td>\n      <td>South Korea</td>\n      <td>0</td>\n      <td>1</td>\n      <td>0</td>\n      <td>https://twitter.com/wilsonfkp/status/131871963...</td>\n      <td>Pro Trump</td>\n      <td>1.693147</td>\n      <td>0.000965</td>\n    </tr>\n    <tr>\n      <th>28409</th>\n      <td>28409</td>\n      <td>1st_Keyofficial</td>\n      <td>Are they going to crucify Donald Trump after t...</td>\n      <td>2020-11-03 11:14:07+00:00</td>\n      <td>Nigeria</td>\n      <td>0</td>\n      <td>0</td>\n      <td>0</td>\n      <td>https://twitter.com/1st_Keyofficial/status/132...</td>\n      <td>Pro Trump</td>\n      <td>1.000000</td>\n      <td>0.000000</td>\n    </tr>\n    <tr>\n      <th>28410</th>\n      <td>28410</td>\n      <td>AntonyHammond</td>\n      <td>American resident says that #Trump is not a po...</td>\n      <td>2020-11-03 21:20:53+00:00</td>\n      <td>France</td>\n      <td>0</td>\n      <td>0</td>\n      <td>0</td>\n      <td>https://twitter.com/AntonyHammond/status/13237...</td>\n      <td>Pro Biden</td>\n      <td>1.000000</td>\n      <td>0.000000</td>\n    </tr>\n    <tr>\n      <th>28411</th>\n      <td>28411</td>\n      <td>Moncton_Cameron</td>\n      <td>.@realDonaldTrump My guess is they’re still la...</td>\n      <td>2020-12-04 18:41:22+00:00</td>\n      <td>Canada</td>\n      <td>0</td>\n      <td>0</td>\n      <td>0</td>\n      <td>https://twitter.com/Moncton_Cameron/status/133...</td>\n      <td>Pro Biden</td>\n      <td>1.000000</td>\n      <td>0.000000</td>\n    </tr>\n    <tr>\n      <th>28412</th>\n      <td>28412</td>\n      <td>mrkdvddgzmn</td>\n      <td>is Biden the POTUS yet?</td>\n      <td>2020-11-06 00:43:17+00:00</td>\n      <td>Japan</td>\n      <td>0</td>\n      <td>0</td>\n      <td>0</td>\n      <td>https://twitter.com/mrkdvddgzmn/status/1324512...</td>\n      <td>Pro Biden</td>\n      <td>1.000000</td>\n      <td>0.000000</td>\n    </tr>\n  </tbody>\n</table>\n<p>28413 rows × 12 columns</p>\n</div>"
     },
     "metadata": {},
     "execution_count": 43
    }
   ],
   "source": [
    "df"
   ]
  },
  {
   "cell_type": "code",
   "execution_count": 44,
   "metadata": {},
   "outputs": [
    {
     "output_type": "display_data",
     "data": {
      "text/plain": "<Figure size 432x288 with 1 Axes>",
      "image/svg+xml": "<?xml version=\"1.0\" encoding=\"utf-8\" standalone=\"no\"?>\n<!DOCTYPE svg PUBLIC \"-//W3C//DTD SVG 1.1//EN\"\n  \"http://www.w3.org/Graphics/SVG/1.1/DTD/svg11.dtd\">\n<!-- Created with matplotlib (https://matplotlib.org/) -->\n<svg height=\"248.518125pt\" version=\"1.1\" viewBox=\"0 0 401.690625 248.518125\" width=\"401.690625pt\" xmlns=\"http://www.w3.org/2000/svg\" xmlns:xlink=\"http://www.w3.org/1999/xlink\">\n <metadata>\n  <rdf:RDF xmlns:cc=\"http://creativecommons.org/ns#\" xmlns:dc=\"http://purl.org/dc/elements/1.1/\" xmlns:rdf=\"http://www.w3.org/1999/02/22-rdf-syntax-ns#\">\n   <cc:Work>\n    <dc:type rdf:resource=\"http://purl.org/dc/dcmitype/StillImage\"/>\n    <dc:date>2021-04-09T00:30:45.273914</dc:date>\n    <dc:format>image/svg+xml</dc:format>\n    <dc:creator>\n     <cc:Agent>\n      <dc:title>Matplotlib v3.3.2, https://matplotlib.org/</dc:title>\n     </cc:Agent>\n    </dc:creator>\n   </cc:Work>\n  </rdf:RDF>\n </metadata>\n <defs>\n  <style type=\"text/css\">*{stroke-linecap:butt;stroke-linejoin:round;}</style>\n </defs>\n <g id=\"figure_1\">\n  <g id=\"patch_1\">\n   <path d=\"M 0 248.518125 \nL 401.690625 248.518125 \nL 401.690625 0 \nL 0 0 \nz\n\" style=\"fill:none;\"/>\n  </g>\n  <g id=\"axes_1\">\n   <g id=\"patch_2\">\n    <path d=\"M 59.690625 224.64 \nL 394.490625 224.64 \nL 394.490625 7.2 \nL 59.690625 7.2 \nz\n\" style=\"fill:#ffffff;\"/>\n   </g>\n   <g id=\"patch_3\">\n    <path clip-path=\"url(#p1efb527f62)\" d=\"M 74.908807 224.64 \nL 90.126989 224.64 \nL 90.126989 17.554286 \nL 74.908807 17.554286 \nz\n\" style=\"fill:#1f77b4;opacity:0.5;\"/>\n   </g>\n   <g id=\"patch_4\">\n    <path clip-path=\"url(#p1efb527f62)\" d=\"M 90.126989 224.64 \nL 105.34517 224.64 \nL 105.34517 223.341148 \nL 90.126989 223.341148 \nz\n\" style=\"fill:#1f77b4;opacity:0.5;\"/>\n   </g>\n   <g id=\"patch_5\">\n    <path clip-path=\"url(#p1efb527f62)\" d=\"M 105.34517 224.64 \nL 120.563352 224.64 \nL 120.563352 224.086512 \nL 105.34517 224.086512 \nz\n\" style=\"fill:#1f77b4;opacity:0.5;\"/>\n   </g>\n   <g id=\"patch_6\">\n    <path clip-path=\"url(#p1efb527f62)\" d=\"M 120.563352 224.64 \nL 135.781534 224.64 \nL 135.781534 224.315287 \nL 120.563352 224.315287 \nz\n\" style=\"fill:#1f77b4;opacity:0.5;\"/>\n   </g>\n   <g id=\"patch_7\">\n    <path clip-path=\"url(#p1efb527f62)\" d=\"M 135.781534 224.64 \nL 150.999716 224.64 \nL 150.999716 224.492403 \nL 135.781534 224.492403 \nz\n\" style=\"fill:#1f77b4;opacity:0.5;\"/>\n   </g>\n   <g id=\"patch_8\">\n    <path clip-path=\"url(#p1efb527f62)\" d=\"M 150.999716 224.64 \nL 166.217898 224.64 \nL 166.217898 224.558822 \nL 150.999716 224.558822 \nz\n\" style=\"fill:#1f77b4;opacity:0.5;\"/>\n   </g>\n   <g id=\"patch_9\">\n    <path clip-path=\"url(#p1efb527f62)\" d=\"M 166.217898 224.64 \nL 181.43608 224.64 \nL 181.43608 224.558822 \nL 166.217898 224.558822 \nz\n\" style=\"fill:#1f77b4;opacity:0.5;\"/>\n   </g>\n   <g id=\"patch_10\">\n    <path clip-path=\"url(#p1efb527f62)\" d=\"M 181.43608 224.64 \nL 196.654261 224.64 \nL 196.654261 224.610481 \nL 181.43608 224.610481 \nz\n\" style=\"fill:#1f77b4;opacity:0.5;\"/>\n   </g>\n   <g id=\"patch_11\">\n    <path clip-path=\"url(#p1efb527f62)\" d=\"M 196.654261 224.64 \nL 211.872443 224.64 \nL 211.872443 224.61786 \nL 196.654261 224.61786 \nz\n\" style=\"fill:#1f77b4;opacity:0.5;\"/>\n   </g>\n   <g id=\"patch_12\">\n    <path clip-path=\"url(#p1efb527f62)\" d=\"M 211.872443 224.64 \nL 227.090625 224.64 \nL 227.090625 224.63262 \nL 211.872443 224.63262 \nz\n\" style=\"fill:#1f77b4;opacity:0.5;\"/>\n   </g>\n   <g id=\"patch_13\">\n    <path clip-path=\"url(#p1efb527f62)\" d=\"M 227.090625 224.64 \nL 242.308807 224.64 \nL 242.308807 224.62524 \nL 227.090625 224.62524 \nz\n\" style=\"fill:#1f77b4;opacity:0.5;\"/>\n   </g>\n   <g id=\"patch_14\">\n    <path clip-path=\"url(#p1efb527f62)\" d=\"M 242.308807 224.64 \nL 257.526989 224.64 \nL 257.526989 224.64 \nL 242.308807 224.64 \nz\n\" style=\"fill:#1f77b4;opacity:0.5;\"/>\n   </g>\n   <g id=\"patch_15\">\n    <path clip-path=\"url(#p1efb527f62)\" d=\"M 257.526989 224.64 \nL 272.74517 224.64 \nL 272.74517 224.62524 \nL 257.526989 224.62524 \nz\n\" style=\"fill:#1f77b4;opacity:0.5;\"/>\n   </g>\n   <g id=\"patch_16\">\n    <path clip-path=\"url(#p1efb527f62)\" d=\"M 272.74517 224.64 \nL 287.963352 224.64 \nL 287.963352 224.64 \nL 272.74517 224.64 \nz\n\" style=\"fill:#1f77b4;opacity:0.5;\"/>\n   </g>\n   <g id=\"patch_17\">\n    <path clip-path=\"url(#p1efb527f62)\" d=\"M 287.963352 224.64 \nL 303.181534 224.64 \nL 303.181534 224.63262 \nL 287.963352 224.63262 \nz\n\" style=\"fill:#1f77b4;opacity:0.5;\"/>\n   </g>\n   <g id=\"patch_18\">\n    <path clip-path=\"url(#p1efb527f62)\" d=\"M 303.181534 224.64 \nL 318.399716 224.64 \nL 318.399716 224.64 \nL 303.181534 224.64 \nz\n\" style=\"fill:#1f77b4;opacity:0.5;\"/>\n   </g>\n   <g id=\"patch_19\">\n    <path clip-path=\"url(#p1efb527f62)\" d=\"M 318.399716 224.64 \nL 333.617898 224.64 \nL 333.617898 224.63262 \nL 318.399716 224.63262 \nz\n\" style=\"fill:#1f77b4;opacity:0.5;\"/>\n   </g>\n   <g id=\"patch_20\">\n    <path clip-path=\"url(#p1efb527f62)\" d=\"M 333.617898 224.64 \nL 348.83608 224.64 \nL 348.83608 224.64 \nL 333.617898 224.64 \nz\n\" style=\"fill:#1f77b4;opacity:0.5;\"/>\n   </g>\n   <g id=\"patch_21\">\n    <path clip-path=\"url(#p1efb527f62)\" d=\"M 348.83608 224.64 \nL 364.054261 224.64 \nL 364.054261 224.64 \nL 348.83608 224.64 \nz\n\" style=\"fill:#1f77b4;opacity:0.5;\"/>\n   </g>\n   <g id=\"patch_22\">\n    <path clip-path=\"url(#p1efb527f62)\" d=\"M 364.054261 224.64 \nL 379.272443 224.64 \nL 379.272443 224.63262 \nL 364.054261 224.63262 \nz\n\" style=\"fill:#1f77b4;opacity:0.5;\"/>\n   </g>\n   <g id=\"matplotlib.axis_1\">\n    <g id=\"xtick_1\">\n     <g id=\"line2d_1\">\n      <defs>\n       <path d=\"M 0 0 \nL 0 3.5 \n\" id=\"ma9ca37986f\" style=\"stroke:#000000;stroke-width:0.8;\"/>\n      </defs>\n      <g>\n       <use style=\"stroke:#000000;stroke-width:0.8;\" x=\"74.908807\" xlink:href=\"#ma9ca37986f\" y=\"224.64\"/>\n      </g>\n     </g>\n     <g id=\"text_1\">\n      <!-- 0.0 -->\n      <g transform=\"translate(66.957244 239.238437)scale(0.1 -0.1)\">\n       <defs>\n        <path d=\"M 31.78125 66.40625 \nQ 24.171875 66.40625 20.328125 58.90625 \nQ 16.5 51.421875 16.5 36.375 \nQ 16.5 21.390625 20.328125 13.890625 \nQ 24.171875 6.390625 31.78125 6.390625 \nQ 39.453125 6.390625 43.28125 13.890625 \nQ 47.125 21.390625 47.125 36.375 \nQ 47.125 51.421875 43.28125 58.90625 \nQ 39.453125 66.40625 31.78125 66.40625 \nz\nM 31.78125 74.21875 \nQ 44.046875 74.21875 50.515625 64.515625 \nQ 56.984375 54.828125 56.984375 36.375 \nQ 56.984375 17.96875 50.515625 8.265625 \nQ 44.046875 -1.421875 31.78125 -1.421875 \nQ 19.53125 -1.421875 13.0625 8.265625 \nQ 6.59375 17.96875 6.59375 36.375 \nQ 6.59375 54.828125 13.0625 64.515625 \nQ 19.53125 74.21875 31.78125 74.21875 \nz\n\" id=\"DejaVuSans-48\"/>\n        <path d=\"M 10.6875 12.40625 \nL 21 12.40625 \nL 21 0 \nL 10.6875 0 \nz\n\" id=\"DejaVuSans-46\"/>\n       </defs>\n       <use xlink:href=\"#DejaVuSans-48\"/>\n       <use x=\"63.623047\" xlink:href=\"#DejaVuSans-46\"/>\n       <use x=\"95.410156\" xlink:href=\"#DejaVuSans-48\"/>\n      </g>\n     </g>\n    </g>\n    <g id=\"xtick_2\">\n     <g id=\"line2d_2\">\n      <g>\n       <use style=\"stroke:#000000;stroke-width:0.8;\" x=\"135.781534\" xlink:href=\"#ma9ca37986f\" y=\"224.64\"/>\n      </g>\n     </g>\n     <g id=\"text_2\">\n      <!-- 0.2 -->\n      <g transform=\"translate(127.829972 239.238437)scale(0.1 -0.1)\">\n       <defs>\n        <path d=\"M 19.1875 8.296875 \nL 53.609375 8.296875 \nL 53.609375 0 \nL 7.328125 0 \nL 7.328125 8.296875 \nQ 12.9375 14.109375 22.625 23.890625 \nQ 32.328125 33.6875 34.8125 36.53125 \nQ 39.546875 41.84375 41.421875 45.53125 \nQ 43.3125 49.21875 43.3125 52.78125 \nQ 43.3125 58.59375 39.234375 62.25 \nQ 35.15625 65.921875 28.609375 65.921875 \nQ 23.96875 65.921875 18.8125 64.3125 \nQ 13.671875 62.703125 7.8125 59.421875 \nL 7.8125 69.390625 \nQ 13.765625 71.78125 18.9375 73 \nQ 24.125 74.21875 28.421875 74.21875 \nQ 39.75 74.21875 46.484375 68.546875 \nQ 53.21875 62.890625 53.21875 53.421875 \nQ 53.21875 48.921875 51.53125 44.890625 \nQ 49.859375 40.875 45.40625 35.40625 \nQ 44.1875 33.984375 37.640625 27.21875 \nQ 31.109375 20.453125 19.1875 8.296875 \nz\n\" id=\"DejaVuSans-50\"/>\n       </defs>\n       <use xlink:href=\"#DejaVuSans-48\"/>\n       <use x=\"63.623047\" xlink:href=\"#DejaVuSans-46\"/>\n       <use x=\"95.410156\" xlink:href=\"#DejaVuSans-50\"/>\n      </g>\n     </g>\n    </g>\n    <g id=\"xtick_3\">\n     <g id=\"line2d_3\">\n      <g>\n       <use style=\"stroke:#000000;stroke-width:0.8;\" x=\"196.654261\" xlink:href=\"#ma9ca37986f\" y=\"224.64\"/>\n      </g>\n     </g>\n     <g id=\"text_3\">\n      <!-- 0.4 -->\n      <g transform=\"translate(188.702699 239.238437)scale(0.1 -0.1)\">\n       <defs>\n        <path d=\"M 37.796875 64.3125 \nL 12.890625 25.390625 \nL 37.796875 25.390625 \nz\nM 35.203125 72.90625 \nL 47.609375 72.90625 \nL 47.609375 25.390625 \nL 58.015625 25.390625 \nL 58.015625 17.1875 \nL 47.609375 17.1875 \nL 47.609375 0 \nL 37.796875 0 \nL 37.796875 17.1875 \nL 4.890625 17.1875 \nL 4.890625 26.703125 \nz\n\" id=\"DejaVuSans-52\"/>\n       </defs>\n       <use xlink:href=\"#DejaVuSans-48\"/>\n       <use x=\"63.623047\" xlink:href=\"#DejaVuSans-46\"/>\n       <use x=\"95.410156\" xlink:href=\"#DejaVuSans-52\"/>\n      </g>\n     </g>\n    </g>\n    <g id=\"xtick_4\">\n     <g id=\"line2d_4\">\n      <g>\n       <use style=\"stroke:#000000;stroke-width:0.8;\" x=\"257.526989\" xlink:href=\"#ma9ca37986f\" y=\"224.64\"/>\n      </g>\n     </g>\n     <g id=\"text_4\">\n      <!-- 0.6 -->\n      <g transform=\"translate(249.575426 239.238437)scale(0.1 -0.1)\">\n       <defs>\n        <path d=\"M 33.015625 40.375 \nQ 26.375 40.375 22.484375 35.828125 \nQ 18.609375 31.296875 18.609375 23.390625 \nQ 18.609375 15.53125 22.484375 10.953125 \nQ 26.375 6.390625 33.015625 6.390625 \nQ 39.65625 6.390625 43.53125 10.953125 \nQ 47.40625 15.53125 47.40625 23.390625 \nQ 47.40625 31.296875 43.53125 35.828125 \nQ 39.65625 40.375 33.015625 40.375 \nz\nM 52.59375 71.296875 \nL 52.59375 62.3125 \nQ 48.875 64.0625 45.09375 64.984375 \nQ 41.3125 65.921875 37.59375 65.921875 \nQ 27.828125 65.921875 22.671875 59.328125 \nQ 17.53125 52.734375 16.796875 39.40625 \nQ 19.671875 43.65625 24.015625 45.921875 \nQ 28.375 48.1875 33.59375 48.1875 \nQ 44.578125 48.1875 50.953125 41.515625 \nQ 57.328125 34.859375 57.328125 23.390625 \nQ 57.328125 12.15625 50.6875 5.359375 \nQ 44.046875 -1.421875 33.015625 -1.421875 \nQ 20.359375 -1.421875 13.671875 8.265625 \nQ 6.984375 17.96875 6.984375 36.375 \nQ 6.984375 53.65625 15.1875 63.9375 \nQ 23.390625 74.21875 37.203125 74.21875 \nQ 40.921875 74.21875 44.703125 73.484375 \nQ 48.484375 72.75 52.59375 71.296875 \nz\n\" id=\"DejaVuSans-54\"/>\n       </defs>\n       <use xlink:href=\"#DejaVuSans-48\"/>\n       <use x=\"63.623047\" xlink:href=\"#DejaVuSans-46\"/>\n       <use x=\"95.410156\" xlink:href=\"#DejaVuSans-54\"/>\n      </g>\n     </g>\n    </g>\n    <g id=\"xtick_5\">\n     <g id=\"line2d_5\">\n      <g>\n       <use style=\"stroke:#000000;stroke-width:0.8;\" x=\"318.399716\" xlink:href=\"#ma9ca37986f\" y=\"224.64\"/>\n      </g>\n     </g>\n     <g id=\"text_5\">\n      <!-- 0.8 -->\n      <g transform=\"translate(310.448153 239.238437)scale(0.1 -0.1)\">\n       <defs>\n        <path d=\"M 31.78125 34.625 \nQ 24.75 34.625 20.71875 30.859375 \nQ 16.703125 27.09375 16.703125 20.515625 \nQ 16.703125 13.921875 20.71875 10.15625 \nQ 24.75 6.390625 31.78125 6.390625 \nQ 38.8125 6.390625 42.859375 10.171875 \nQ 46.921875 13.96875 46.921875 20.515625 \nQ 46.921875 27.09375 42.890625 30.859375 \nQ 38.875 34.625 31.78125 34.625 \nz\nM 21.921875 38.8125 \nQ 15.578125 40.375 12.03125 44.71875 \nQ 8.5 49.078125 8.5 55.328125 \nQ 8.5 64.0625 14.71875 69.140625 \nQ 20.953125 74.21875 31.78125 74.21875 \nQ 42.671875 74.21875 48.875 69.140625 \nQ 55.078125 64.0625 55.078125 55.328125 \nQ 55.078125 49.078125 51.53125 44.71875 \nQ 48 40.375 41.703125 38.8125 \nQ 48.828125 37.15625 52.796875 32.3125 \nQ 56.78125 27.484375 56.78125 20.515625 \nQ 56.78125 9.90625 50.3125 4.234375 \nQ 43.84375 -1.421875 31.78125 -1.421875 \nQ 19.734375 -1.421875 13.25 4.234375 \nQ 6.78125 9.90625 6.78125 20.515625 \nQ 6.78125 27.484375 10.78125 32.3125 \nQ 14.796875 37.15625 21.921875 38.8125 \nz\nM 18.3125 54.390625 \nQ 18.3125 48.734375 21.84375 45.5625 \nQ 25.390625 42.390625 31.78125 42.390625 \nQ 38.140625 42.390625 41.71875 45.5625 \nQ 45.3125 48.734375 45.3125 54.390625 \nQ 45.3125 60.0625 41.71875 63.234375 \nQ 38.140625 66.40625 31.78125 66.40625 \nQ 25.390625 66.40625 21.84375 63.234375 \nQ 18.3125 60.0625 18.3125 54.390625 \nz\n\" id=\"DejaVuSans-56\"/>\n       </defs>\n       <use xlink:href=\"#DejaVuSans-48\"/>\n       <use x=\"63.623047\" xlink:href=\"#DejaVuSans-46\"/>\n       <use x=\"95.410156\" xlink:href=\"#DejaVuSans-56\"/>\n      </g>\n     </g>\n    </g>\n    <g id=\"xtick_6\">\n     <g id=\"line2d_6\">\n      <g>\n       <use style=\"stroke:#000000;stroke-width:0.8;\" x=\"379.272443\" xlink:href=\"#ma9ca37986f\" y=\"224.64\"/>\n      </g>\n     </g>\n     <g id=\"text_6\">\n      <!-- 1.0 -->\n      <g transform=\"translate(371.320881 239.238437)scale(0.1 -0.1)\">\n       <defs>\n        <path d=\"M 12.40625 8.296875 \nL 28.515625 8.296875 \nL 28.515625 63.921875 \nL 10.984375 60.40625 \nL 10.984375 69.390625 \nL 28.421875 72.90625 \nL 38.28125 72.90625 \nL 38.28125 8.296875 \nL 54.390625 8.296875 \nL 54.390625 0 \nL 12.40625 0 \nz\n\" id=\"DejaVuSans-49\"/>\n       </defs>\n       <use xlink:href=\"#DejaVuSans-49\"/>\n       <use x=\"63.623047\" xlink:href=\"#DejaVuSans-46\"/>\n       <use x=\"95.410156\" xlink:href=\"#DejaVuSans-48\"/>\n      </g>\n     </g>\n    </g>\n   </g>\n   <g id=\"matplotlib.axis_2\">\n    <g id=\"ytick_1\">\n     <g id=\"line2d_7\">\n      <defs>\n       <path d=\"M 0 0 \nL -3.5 0 \n\" id=\"m008efd6d94\" style=\"stroke:#000000;stroke-width:0.8;\"/>\n      </defs>\n      <g>\n       <use style=\"stroke:#000000;stroke-width:0.8;\" x=\"59.690625\" xlink:href=\"#m008efd6d94\" y=\"224.64\"/>\n      </g>\n     </g>\n     <g id=\"text_7\">\n      <!-- 0 -->\n      <g transform=\"translate(46.328125 228.439219)scale(0.1 -0.1)\">\n       <use xlink:href=\"#DejaVuSans-48\"/>\n      </g>\n     </g>\n    </g>\n    <g id=\"ytick_2\">\n     <g id=\"line2d_8\">\n      <g>\n       <use style=\"stroke:#000000;stroke-width:0.8;\" x=\"59.690625\" xlink:href=\"#m008efd6d94\" y=\"187.740796\"/>\n      </g>\n     </g>\n     <g id=\"text_8\">\n      <!-- 5000 -->\n      <g transform=\"translate(27.240625 191.540014)scale(0.1 -0.1)\">\n       <defs>\n        <path d=\"M 10.796875 72.90625 \nL 49.515625 72.90625 \nL 49.515625 64.59375 \nL 19.828125 64.59375 \nL 19.828125 46.734375 \nQ 21.96875 47.46875 24.109375 47.828125 \nQ 26.265625 48.1875 28.421875 48.1875 \nQ 40.625 48.1875 47.75 41.5 \nQ 54.890625 34.8125 54.890625 23.390625 \nQ 54.890625 11.625 47.5625 5.09375 \nQ 40.234375 -1.421875 26.90625 -1.421875 \nQ 22.3125 -1.421875 17.546875 -0.640625 \nQ 12.796875 0.140625 7.71875 1.703125 \nL 7.71875 11.625 \nQ 12.109375 9.234375 16.796875 8.0625 \nQ 21.484375 6.890625 26.703125 6.890625 \nQ 35.15625 6.890625 40.078125 11.328125 \nQ 45.015625 15.765625 45.015625 23.390625 \nQ 45.015625 31 40.078125 35.4375 \nQ 35.15625 39.890625 26.703125 39.890625 \nQ 22.75 39.890625 18.8125 39.015625 \nQ 14.890625 38.140625 10.796875 36.28125 \nz\n\" id=\"DejaVuSans-53\"/>\n       </defs>\n       <use xlink:href=\"#DejaVuSans-53\"/>\n       <use x=\"63.623047\" xlink:href=\"#DejaVuSans-48\"/>\n       <use x=\"127.246094\" xlink:href=\"#DejaVuSans-48\"/>\n       <use x=\"190.869141\" xlink:href=\"#DejaVuSans-48\"/>\n      </g>\n     </g>\n    </g>\n    <g id=\"ytick_3\">\n     <g id=\"line2d_9\">\n      <g>\n       <use style=\"stroke:#000000;stroke-width:0.8;\" x=\"59.690625\" xlink:href=\"#m008efd6d94\" y=\"150.841591\"/>\n      </g>\n     </g>\n     <g id=\"text_9\">\n      <!-- 10000 -->\n      <g transform=\"translate(20.878125 154.64081)scale(0.1 -0.1)\">\n       <use xlink:href=\"#DejaVuSans-49\"/>\n       <use x=\"63.623047\" xlink:href=\"#DejaVuSans-48\"/>\n       <use x=\"127.246094\" xlink:href=\"#DejaVuSans-48\"/>\n       <use x=\"190.869141\" xlink:href=\"#DejaVuSans-48\"/>\n       <use x=\"254.492188\" xlink:href=\"#DejaVuSans-48\"/>\n      </g>\n     </g>\n    </g>\n    <g id=\"ytick_4\">\n     <g id=\"line2d_10\">\n      <g>\n       <use style=\"stroke:#000000;stroke-width:0.8;\" x=\"59.690625\" xlink:href=\"#m008efd6d94\" y=\"113.942387\"/>\n      </g>\n     </g>\n     <g id=\"text_10\">\n      <!-- 15000 -->\n      <g transform=\"translate(20.878125 117.741606)scale(0.1 -0.1)\">\n       <use xlink:href=\"#DejaVuSans-49\"/>\n       <use x=\"63.623047\" xlink:href=\"#DejaVuSans-53\"/>\n       <use x=\"127.246094\" xlink:href=\"#DejaVuSans-48\"/>\n       <use x=\"190.869141\" xlink:href=\"#DejaVuSans-48\"/>\n       <use x=\"254.492188\" xlink:href=\"#DejaVuSans-48\"/>\n      </g>\n     </g>\n    </g>\n    <g id=\"ytick_5\">\n     <g id=\"line2d_11\">\n      <g>\n       <use style=\"stroke:#000000;stroke-width:0.8;\" x=\"59.690625\" xlink:href=\"#m008efd6d94\" y=\"77.043183\"/>\n      </g>\n     </g>\n     <g id=\"text_11\">\n      <!-- 20000 -->\n      <g transform=\"translate(20.878125 80.842402)scale(0.1 -0.1)\">\n       <use xlink:href=\"#DejaVuSans-50\"/>\n       <use x=\"63.623047\" xlink:href=\"#DejaVuSans-48\"/>\n       <use x=\"127.246094\" xlink:href=\"#DejaVuSans-48\"/>\n       <use x=\"190.869141\" xlink:href=\"#DejaVuSans-48\"/>\n       <use x=\"254.492188\" xlink:href=\"#DejaVuSans-48\"/>\n      </g>\n     </g>\n    </g>\n    <g id=\"ytick_6\">\n     <g id=\"line2d_12\">\n      <g>\n       <use style=\"stroke:#000000;stroke-width:0.8;\" x=\"59.690625\" xlink:href=\"#m008efd6d94\" y=\"40.143979\"/>\n      </g>\n     </g>\n     <g id=\"text_12\">\n      <!-- 25000 -->\n      <g transform=\"translate(20.878125 43.943197)scale(0.1 -0.1)\">\n       <use xlink:href=\"#DejaVuSans-50\"/>\n       <use x=\"63.623047\" xlink:href=\"#DejaVuSans-53\"/>\n       <use x=\"127.246094\" xlink:href=\"#DejaVuSans-48\"/>\n       <use x=\"190.869141\" xlink:href=\"#DejaVuSans-48\"/>\n       <use x=\"254.492188\" xlink:href=\"#DejaVuSans-48\"/>\n      </g>\n     </g>\n    </g>\n    <g id=\"text_13\">\n     <!-- Frequency -->\n     <g transform=\"translate(14.798438 141.749687)rotate(-90)scale(0.1 -0.1)\">\n      <defs>\n       <path d=\"M 9.8125 72.90625 \nL 51.703125 72.90625 \nL 51.703125 64.59375 \nL 19.671875 64.59375 \nL 19.671875 43.109375 \nL 48.578125 43.109375 \nL 48.578125 34.8125 \nL 19.671875 34.8125 \nL 19.671875 0 \nL 9.8125 0 \nz\n\" id=\"DejaVuSans-70\"/>\n       <path d=\"M 41.109375 46.296875 \nQ 39.59375 47.171875 37.8125 47.578125 \nQ 36.03125 48 33.890625 48 \nQ 26.265625 48 22.1875 43.046875 \nQ 18.109375 38.09375 18.109375 28.8125 \nL 18.109375 0 \nL 9.078125 0 \nL 9.078125 54.6875 \nL 18.109375 54.6875 \nL 18.109375 46.1875 \nQ 20.953125 51.171875 25.484375 53.578125 \nQ 30.03125 56 36.53125 56 \nQ 37.453125 56 38.578125 55.875 \nQ 39.703125 55.765625 41.0625 55.515625 \nz\n\" id=\"DejaVuSans-114\"/>\n       <path d=\"M 56.203125 29.59375 \nL 56.203125 25.203125 \nL 14.890625 25.203125 \nQ 15.484375 15.921875 20.484375 11.0625 \nQ 25.484375 6.203125 34.421875 6.203125 \nQ 39.59375 6.203125 44.453125 7.46875 \nQ 49.3125 8.734375 54.109375 11.28125 \nL 54.109375 2.78125 \nQ 49.265625 0.734375 44.1875 -0.34375 \nQ 39.109375 -1.421875 33.890625 -1.421875 \nQ 20.796875 -1.421875 13.15625 6.1875 \nQ 5.515625 13.8125 5.515625 26.8125 \nQ 5.515625 40.234375 12.765625 48.109375 \nQ 20.015625 56 32.328125 56 \nQ 43.359375 56 49.78125 48.890625 \nQ 56.203125 41.796875 56.203125 29.59375 \nz\nM 47.21875 32.234375 \nQ 47.125 39.59375 43.09375 43.984375 \nQ 39.0625 48.390625 32.421875 48.390625 \nQ 24.90625 48.390625 20.390625 44.140625 \nQ 15.875 39.890625 15.1875 32.171875 \nz\n\" id=\"DejaVuSans-101\"/>\n       <path d=\"M 14.796875 27.296875 \nQ 14.796875 17.390625 18.875 11.75 \nQ 22.953125 6.109375 30.078125 6.109375 \nQ 37.203125 6.109375 41.296875 11.75 \nQ 45.40625 17.390625 45.40625 27.296875 \nQ 45.40625 37.203125 41.296875 42.84375 \nQ 37.203125 48.484375 30.078125 48.484375 \nQ 22.953125 48.484375 18.875 42.84375 \nQ 14.796875 37.203125 14.796875 27.296875 \nz\nM 45.40625 8.203125 \nQ 42.578125 3.328125 38.25 0.953125 \nQ 33.9375 -1.421875 27.875 -1.421875 \nQ 17.96875 -1.421875 11.734375 6.484375 \nQ 5.515625 14.40625 5.515625 27.296875 \nQ 5.515625 40.1875 11.734375 48.09375 \nQ 17.96875 56 27.875 56 \nQ 33.9375 56 38.25 53.625 \nQ 42.578125 51.265625 45.40625 46.390625 \nL 45.40625 54.6875 \nL 54.390625 54.6875 \nL 54.390625 -20.796875 \nL 45.40625 -20.796875 \nz\n\" id=\"DejaVuSans-113\"/>\n       <path d=\"M 8.5 21.578125 \nL 8.5 54.6875 \nL 17.484375 54.6875 \nL 17.484375 21.921875 \nQ 17.484375 14.15625 20.5 10.265625 \nQ 23.53125 6.390625 29.59375 6.390625 \nQ 36.859375 6.390625 41.078125 11.03125 \nQ 45.3125 15.671875 45.3125 23.6875 \nL 45.3125 54.6875 \nL 54.296875 54.6875 \nL 54.296875 0 \nL 45.3125 0 \nL 45.3125 8.40625 \nQ 42.046875 3.421875 37.71875 1 \nQ 33.40625 -1.421875 27.6875 -1.421875 \nQ 18.265625 -1.421875 13.375 4.4375 \nQ 8.5 10.296875 8.5 21.578125 \nz\nM 31.109375 56 \nz\n\" id=\"DejaVuSans-117\"/>\n       <path d=\"M 54.890625 33.015625 \nL 54.890625 0 \nL 45.90625 0 \nL 45.90625 32.71875 \nQ 45.90625 40.484375 42.875 44.328125 \nQ 39.84375 48.1875 33.796875 48.1875 \nQ 26.515625 48.1875 22.3125 43.546875 \nQ 18.109375 38.921875 18.109375 30.90625 \nL 18.109375 0 \nL 9.078125 0 \nL 9.078125 54.6875 \nL 18.109375 54.6875 \nL 18.109375 46.1875 \nQ 21.34375 51.125 25.703125 53.5625 \nQ 30.078125 56 35.796875 56 \nQ 45.21875 56 50.046875 50.171875 \nQ 54.890625 44.34375 54.890625 33.015625 \nz\n\" id=\"DejaVuSans-110\"/>\n       <path d=\"M 48.78125 52.59375 \nL 48.78125 44.1875 \nQ 44.96875 46.296875 41.140625 47.34375 \nQ 37.3125 48.390625 33.40625 48.390625 \nQ 24.65625 48.390625 19.8125 42.84375 \nQ 14.984375 37.3125 14.984375 27.296875 \nQ 14.984375 17.28125 19.8125 11.734375 \nQ 24.65625 6.203125 33.40625 6.203125 \nQ 37.3125 6.203125 41.140625 7.25 \nQ 44.96875 8.296875 48.78125 10.40625 \nL 48.78125 2.09375 \nQ 45.015625 0.34375 40.984375 -0.53125 \nQ 36.96875 -1.421875 32.421875 -1.421875 \nQ 20.0625 -1.421875 12.78125 6.34375 \nQ 5.515625 14.109375 5.515625 27.296875 \nQ 5.515625 40.671875 12.859375 48.328125 \nQ 20.21875 56 33.015625 56 \nQ 37.15625 56 41.109375 55.140625 \nQ 45.0625 54.296875 48.78125 52.59375 \nz\n\" id=\"DejaVuSans-99\"/>\n       <path d=\"M 32.171875 -5.078125 \nQ 28.375 -14.84375 24.75 -17.8125 \nQ 21.140625 -20.796875 15.09375 -20.796875 \nL 7.90625 -20.796875 \nL 7.90625 -13.28125 \nL 13.1875 -13.28125 \nQ 16.890625 -13.28125 18.9375 -11.515625 \nQ 21 -9.765625 23.484375 -3.21875 \nL 25.09375 0.875 \nL 2.984375 54.6875 \nL 12.5 54.6875 \nL 29.59375 11.921875 \nL 46.6875 54.6875 \nL 56.203125 54.6875 \nz\n\" id=\"DejaVuSans-121\"/>\n      </defs>\n      <use xlink:href=\"#DejaVuSans-70\"/>\n      <use x=\"50.269531\" xlink:href=\"#DejaVuSans-114\"/>\n      <use x=\"89.132812\" xlink:href=\"#DejaVuSans-101\"/>\n      <use x=\"150.65625\" xlink:href=\"#DejaVuSans-113\"/>\n      <use x=\"214.132812\" xlink:href=\"#DejaVuSans-117\"/>\n      <use x=\"277.511719\" xlink:href=\"#DejaVuSans-101\"/>\n      <use x=\"339.035156\" xlink:href=\"#DejaVuSans-110\"/>\n      <use x=\"402.414062\" xlink:href=\"#DejaVuSans-99\"/>\n      <use x=\"457.394531\" xlink:href=\"#DejaVuSans-121\"/>\n     </g>\n    </g>\n   </g>\n   <g id=\"patch_23\">\n    <path d=\"M 59.690625 224.64 \nL 59.690625 7.2 \n\" style=\"fill:none;stroke:#000000;stroke-linecap:square;stroke-linejoin:miter;stroke-width:0.8;\"/>\n   </g>\n   <g id=\"patch_24\">\n    <path d=\"M 394.490625 224.64 \nL 394.490625 7.2 \n\" style=\"fill:none;stroke:#000000;stroke-linecap:square;stroke-linejoin:miter;stroke-width:0.8;\"/>\n   </g>\n   <g id=\"patch_25\">\n    <path d=\"M 59.690625 224.64 \nL 394.490625 224.64 \n\" style=\"fill:none;stroke:#000000;stroke-linecap:square;stroke-linejoin:miter;stroke-width:0.8;\"/>\n   </g>\n   <g id=\"patch_26\">\n    <path d=\"M 59.690625 7.2 \nL 394.490625 7.2 \n\" style=\"fill:none;stroke:#000000;stroke-linecap:square;stroke-linejoin:miter;stroke-width:0.8;\"/>\n   </g>\n  </g>\n </g>\n <defs>\n  <clipPath id=\"p1efb527f62\">\n   <rect height=\"217.44\" width=\"334.8\" x=\"59.690625\" y=\"7.2\"/>\n  </clipPath>\n </defs>\n</svg>\n",
      "image/png": "[encoded data removed]"
     },
     "metadata": {
      "needs_background": "light"
     }
    }
   ],
   "source": [
    "ax = df['weightedSentimentNorm'].plot.hist(bins=20, alpha=0.5)"
   ]
  },
  {
   "cell_type": "code",
   "execution_count": 45,
   "metadata": {},
   "outputs": [],
   "source": [
    "data = df.groupby(['country', 'sentiment'])['weightedSentimentNorm'].agg(['count', 'sum'])"
   ]
  },
  {
   "cell_type": "code",
   "execution_count": 47,
   "metadata": {},
   "outputs": [
    {
     "output_type": "execute_result",
     "data": {
      "text/plain": [
       "   index      country  sentiment  count       sum\n",
       "0      0  Afghanistan  Pro Biden   1074  4.054847\n",
       "1      1  Afghanistan  Pro Trump    208  0.580166\n",
       "2      2    Australia  Pro Biden    783  4.310281\n",
       "3      3    Australia  Pro Trump    591  1.956936\n",
       "4      4       Brazil  Pro Biden   1351  4.975530"
      ],
      "text/html": "<div>\n<style scoped>\n    .dataframe tbody tr th:only-of-type {\n        vertical-align: middle;\n    }\n\n    .dataframe tbody tr th {\n        vertical-align: top;\n    }\n\n    .dataframe thead th {\n        text-align: right;\n    }\n</style>\n<table border=\"1\" class=\"dataframe\">\n  <thead>\n    <tr style=\"text-align: right;\">\n      <th></th>\n      <th>index</th>\n      <th>country</th>\n      <th>sentiment</th>\n      <th>count</th>\n      <th>sum</th>\n    </tr>\n  </thead>\n  <tbody>\n    <tr>\n      <th>0</th>\n      <td>0</td>\n      <td>Afghanistan</td>\n      <td>Pro Biden</td>\n      <td>1074</td>\n      <td>4.054847</td>\n    </tr>\n    <tr>\n      <th>1</th>\n      <td>1</td>\n      <td>Afghanistan</td>\n      <td>Pro Trump</td>\n      <td>208</td>\n      <td>0.580166</td>\n    </tr>\n    <tr>\n      <th>2</th>\n      <td>2</td>\n      <td>Australia</td>\n      <td>Pro Biden</td>\n      <td>783</td>\n      <td>4.310281</td>\n    </tr>\n    <tr>\n      <th>3</th>\n      <td>3</td>\n      <td>Australia</td>\n      <td>Pro Trump</td>\n      <td>591</td>\n      <td>1.956936</td>\n    </tr>\n    <tr>\n      <th>4</th>\n      <td>4</td>\n      <td>Brazil</td>\n      <td>Pro Biden</td>\n      <td>1351</td>\n      <td>4.975530</td>\n    </tr>\n  </tbody>\n</table>\n</div>"
     },
     "metadata": {},
     "execution_count": 47
    }
   ],
   "source": [
    "data = data.reset_index()\n",
    "data.head()"
   ]
  },
  {
   "cell_type": "code",
   "execution_count": 55,
   "metadata": {},
   "outputs": [
    {
     "output_type": "execute_result",
     "data": {
      "text/plain": [
       "[('Afghanistan', 'Pro Biden', 0.4372946687551871),\n",
       " ('Australia', 'Pro Biden', 0.08560489527892692),\n",
       " ('Brazil', 'Pro Biden', 0.0802677971110204),\n",
       " ('Canada', 'Pro Biden', 0.10357124379247178),\n",
       " ('China', 'Pro Biden', 0.17998559787832963),\n",
       " ('France', 'Pro Biden', 0.14509740950673602),\n",
       " ('Germany', 'Pro Biden', 0.008631152143299861),\n",
       " ('India', 'Pro Biden', 0.06812674002103496),\n",
       " ('Indonesia', 'Pro Biden', 0.5063741320610051),\n",
       " ('Iran', 'Pro Biden', 0.8252663296404833),\n",
       " ('Israel', 'Pro Biden', 0.3355408446077264),\n",
       " ('Japan', 'Pro Biden', 0.044254092344434656),\n",
       " ('Kenya', 'Pro Biden', 0.08393494616704976),\n",
       " ('Mexico', 'Pro Trump', 0.13683202190886148),\n",
       " ('Nigeria', 'Pro Biden', 0.03144950720602387),\n",
       " ('Philippines', 'Pro Biden', 0.004586458073434572),\n",
       " ('Russia', 'Pro Biden', 0.09977529078359959),\n",
       " ('Saudi Arabia', 'Pro Biden', 0.024130173398595297),\n",
       " ('Singapore', 'Pro Biden', 0.22317670703358183),\n",
       " ('South Korea', 'Pro Trump', 0.07576829877531464),\n",
       " ('Taiwan', 'Pro Biden', 0.35540190156112794),\n",
       " ('UK', 'Pro Biden', 0.1401785199413797),\n",
       " ('Ukraine', 'Pro Biden', 0.04141764610835909)]"
      ]
     },
     "metadata": {},
     "execution_count": 55
    }
   ],
   "source": [
    "def normalize(df, country):\n",
    "    data = df[df['country'] == country]\n",
    "    data.reset_index(drop=True, inplace=True)\n",
    "    actual_sentiment = data['sentiment'][0] if data['sum'][0] > data['sum'][1] else data['sentiment'][1]\n",
    "    normalized_score = (max(data['sum']) - min(data['sum'])) / min(data['sum'])\n",
    "    overall_normalization = (normalized_score - min(df['sum'])) / (max(df['sum']) - min(df['sum']))\n",
    "    return country, actual_sentiment, overall_normalization\n",
    "\n",
    "countries = data['country'].unique()\n",
    "array = []\n",
    "for country in countries:\n",
    "    array.append(normalize(data, country))\n",
    "\n"
   ]
  },
  {
   "cell_type": "code",
   "execution_count": 64,
   "metadata": {},
   "outputs": [],
   "source": [
    "dataframe = pd.DataFrame(array)\n",
    "dataframe.columns = [\"country\", \"sentiment\", \"score\"]\n",
    "dataframe.to_csv('country_scores.csv', index=False)"
   ]
  },
  {
   "cell_type": "code",
   "execution_count": null,
   "metadata": {},
   "outputs": [],
   "source": []
  }
 ],
 "metadata": {
  "kernelspec": {
   "display_name": "Python 3",
   "language": "python",
   "name": "python3"
  },
  "language_info": {
   "codemirror_mode": {
    "name": "ipython",
    "version": 3
   },
   "file_extension": ".py",
   "mimetype": "text/x-python",
   "name": "python",
   "nbconvert_exporter": "python",
   "pygments_lexer": "ipython3",
   "version": "3.8.5-final"
  }
 },
 "nbformat": 4,
 "nbformat_minor": 4
}